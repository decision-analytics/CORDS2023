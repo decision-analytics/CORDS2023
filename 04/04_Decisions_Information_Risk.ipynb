{
 "cells": [
  {
   "cell_type": "markdown",
   "metadata": {
    "slideshow": {
     "slide_type": "slide"
    }
   },
   "source": [
    "<img src=\"img/logo_wiwi_en_.png\" width=\"30%\" align=\"left\">\n",
    "\n",
    "<img src=\"img/decision_analytics_logo.png\" width=\"17%\" align=\"right\">\n",
    "\n",
    "\n",
    "\n",
    "<br><br><br><br><br><br><br><br>\n",
    "\n",
    "\n",
    "\n",
    "# Combining OR and Data Science\n",
    "\n",
    "**Summer Term 2023**\n",
    "\n",
    "\n",
    "# 4. Decision Making Under Uncertainty, the Value of Information and Risk Aversion\n",
    "\n",
    "\n",
    "\n",
    "<br>\n",
    "\n",
    "<br>\n",
    "<br>\n",
    "\n",
    "**J-Prof. Dr. Michael Römer, Till Porrmann, Mohsen Nafar**\n",
    "\n",
    "**Decision Analytics Group  | Bielefeld University**\n",
    "                                                    \n",
    "                                                \n"
   ]
  },
  {
   "cell_type": "code",
   "execution_count": 1,
   "metadata": {
    "slideshow": {
     "slide_type": "skip"
    }
   },
   "outputs": [],
   "source": [
    "import numpy as np\n",
    "from scipy import stats\n",
    "import matplotlib.pyplot as plt\n",
    "from numba import vectorize\n"
   ]
  },
  {
   "cell_type": "markdown",
   "metadata": {
    "slideshow": {
     "slide_type": "slide"
    }
   },
   "source": [
    "## An Overview\n",
    "\n",
    "In this meeting, we will review\n",
    "- the **fundamental structure of decision-making problems under uncertainty**\n",
    "- how to take decisions maximizing expected outcome\n",
    "- how to use **unconstrained optimization** for selecting decisions"
   ]
  },
  {
   "cell_type": "markdown",
   "metadata": {
    "slideshow": {
     "slide_type": "fragment"
    }
   },
   "source": [
    "In addition, we will discuss\n",
    "- the **value of proper decision-making under uncertainty**\n",
    "- the **value of information** and its relation to decision-making under uncertainty"
   ]
  },
  {
   "cell_type": "markdown",
   "metadata": {
    "slideshow": {
     "slide_type": "fragment"
    }
   },
   "source": [
    "Furthermore, we will go beyond valuating decisions under uncertainty by expected values:\n",
    "- we introduce the idea that **decision-making means shaping distributions** \n",
    "- and discuss different ways to **incorporate risk aversion in decision-making under uncertainty** "
   ]
  },
  {
   "cell_type": "markdown",
   "metadata": {
    "slideshow": {
     "slide_type": "slide"
    }
   },
   "source": [
    "### The Capacity Planning Case Study\n",
    "\n",
    "- In this meeting, we once again use the capacity planning case study to illustrate aspects of decision making under uncertainty (see previous notebooks for details)\n",
    "\n",
    "- it deals with the decision of installing a certain production capacity under **demand uncertainty**\n",
    "- for a given capacity and for a given demand, we can compute  the profit using the following function:\n"
   ]
  },
  {
   "cell_type": "code",
   "execution_count": 2,
   "metadata": {
    "slideshow": {
     "slide_type": "-"
    }
   },
   "outputs": [],
   "source": [
    "#@vectorize turns a function into a just-in-time compiled vectorized function\n",
    "@vectorize\n",
    "def total_profit(capacity,demand):\n",
    "    return -30*capacity + 40* min(capacity, demand)"
   ]
  },
  {
   "cell_type": "markdown",
   "metadata": {
    "slideshow": {
     "slide_type": "fragment"
    }
   },
   "source": [
    "- recall that by using `@vectorize` the function also be called with a demand array\n",
    "- it then returns an array with profit values (one for each demand value)\n",
    "- we can then approximate the expected profit by taking the average over that array"
   ]
  },
  {
   "cell_type": "markdown",
   "metadata": {
    "slideshow": {
     "slide_type": "slide"
    }
   },
   "source": [
    "## Decision Making Under Uncertainty: Single-Stage Setting\n",
    "\n",
    "- decisions have to be taken **here and now**, that is, **before** the uncertain information becomes known.\n",
    "\n",
    "- in a single-stage setting, the decision maker **cannot react** to the uncertainty\n",
    "\n",
    "<img width='1000' src='img/single_stage.png'>"
   ]
  },
  {
   "cell_type": "markdown",
   "metadata": {
    "slideshow": {
     "slide_type": "fragment"
    }
   },
   "source": [
    "In our case study, this looks as follows:\n",
    "\n",
    "\n",
    "<img width='1000' src='img/single_stage_example.png'>"
   ]
  },
  {
   "cell_type": "markdown",
   "metadata": {
    "slideshow": {
     "slide_type": "slide"
    }
   },
   "source": [
    "## Decision Making Under Uncertainty: Two-Stage Setting\n",
    "\n",
    "- first-stage decisions have to be taken  **here and now**, that is, **before** the uncertain information becomes known.\n",
    "- second-stage (**recourse**)  decisions that can  be taken after the information is available\n",
    "\n",
    "\n",
    "<img width='1000' src='img/two_stage.png'>"
   ]
  },
  {
   "cell_type": "markdown",
   "metadata": {
    "slideshow": {
     "slide_type": "fragment"
    }
   },
   "source": [
    "We can interpret our case study as a two-stage problem:\n",
    "\n",
    "\n",
    "<img width='1000' src='img/two_stage_example.png'>"
   ]
  },
  {
   "cell_type": "markdown",
   "metadata": {
    "slideshow": {
     "slide_type": "slide"
    }
   },
   "source": [
    "## Evaluating a Given Decision with Decision Trees\n",
    "\n",
    "Let us assume a given decision (here 100). \n",
    "- we can visualize our simulation-based approach as a decision tree \n",
    "- in the figure, we assume only tree sample values\n",
    "\n",
    "<img width='1000' src='img/decision_tree_example.png'>\n",
    "\n"
   ]
  },
  {
   "cell_type": "markdown",
   "metadata": {
    "slideshow": {
     "slide_type": "fragment"
    }
   },
   "source": [
    "We can use our well-known computation to compute the value of the tree:"
   ]
  },
  {
   "cell_type": "code",
   "execution_count": 3,
   "metadata": {
    "slideshow": {
     "slide_type": "-"
    }
   },
   "outputs": [
    {
     "data": {
      "text/plain": [
       "733.3333333333334"
      ]
     },
     "execution_count": 3,
     "metadata": {},
     "output_type": "execute_result"
    }
   ],
   "source": [
    "capacity = 100\n",
    "demands = np.array([80,100,120])\n",
    "profits = np.empty(3)\n",
    "\n",
    "for i, demand in enumerate(demands):\n",
    "    profits[i] = total_profit(capacity, demand)     \n",
    "np.mean(profits)"
   ]
  },
  {
   "cell_type": "markdown",
   "metadata": {
    "slideshow": {
     "slide_type": "fragment"
    }
   },
   "source": [
    "Or, even shorter, in vectorized form:"
   ]
  },
  {
   "cell_type": "code",
   "execution_count": 4,
   "metadata": {
    "slideshow": {
     "slide_type": "-"
    }
   },
   "outputs": [
    {
     "data": {
      "text/plain": [
       "733.3333333333334"
      ]
     },
     "execution_count": 4,
     "metadata": {},
     "output_type": "execute_result"
    }
   ],
   "source": [
    "\n",
    "profits = total_profit(capacity, demands) \n",
    "    \n",
    "np.mean(profits)"
   ]
  },
  {
   "cell_type": "markdown",
   "metadata": {
    "slideshow": {
     "slide_type": "slide"
    }
   },
   "source": [
    "## Choosing a Decision Under Uncertainty with Decision Trees\n",
    "\n",
    "<img style='float: right' width='600' src='img/decision_tree_example_decisions.png'> \n",
    "\n",
    "For modeling the decision-making problem:\n",
    "- add a branch for each decision after the decision node\n",
    "- compute the expected performance of each branch\n",
    "- select the branch with the best expected performance\n",
    "- which one is it here?\n",
    "- **note**: this is the principle of the enumeration approach with Monte Carlo approximation we performed before!\n",
    "\n"
   ]
  },
  {
   "cell_type": "code",
   "execution_count": 5,
   "metadata": {
    "slideshow": {
     "slide_type": "fragment"
    }
   },
   "outputs": [
    {
     "data": {
      "text/plain": [
       "80"
      ]
     },
     "execution_count": 5,
     "metadata": {},
     "output_type": "execute_result"
    }
   ],
   "source": [
    "capacities = np.array([80,100,120])\n",
    "average_profits = np.empty(3)\n",
    "#observe: enumerate returns both the current index and the element of the array\n",
    "for i, capacity in enumerate(capacities):\n",
    "    average_profits[i] = np.mean(total_profit(capacity, demands))     \n",
    "best_index = np.argmax(average_profits)\n",
    "capacities[best_index]"
   ]
  },
  {
   "cell_type": "markdown",
   "metadata": {
    "slideshow": {
     "slide_type": "slide"
    }
   },
   "source": [
    "## Taking the Best Decisions: Formalization\n",
    "\n",
    "We are looking for\n",
    "- the decision (or decision vector, or more general, solution) $x$ \n",
    "- from the set of possible decisions (solutions) $X$ \n",
    "-  yielding the *best* expected outcome $E(f(x,D))$\n",
    "-  given the uncertain/random variable(s) $D$\n",
    "\n",
    "We can write this as an *optimization* problem under uncertainty:\n",
    "\n",
    "$$\\max_{x \\in X} E(f(x,D))$$\n",
    "\n",
    "Using Monte Carlo, we approximate $E(f(x,D))$ by the mean of the\n",
    " output sample vector $\\mathbf{f}(x,\\mathbf{d})$, that is by\n",
    " $\\frac{1}{|S|} \\sum\\limits_{s\\in S} f(x,d_s)$ \n",
    "\n",
    "This results in the following optimization problem:\n",
    "\n",
    "$$\\max_{x\\in X} \\frac{1}{|S|} \\sum\\limits_{s\\in S} f(x,d_s)$$\n"
   ]
  },
  {
   "cell_type": "markdown",
   "metadata": {
    "slideshow": {
     "slide_type": "slide"
    }
   },
   "source": [
    "## Solving by Enumeration\n",
    "\n",
    "**If** \n",
    "- the set $X$ is finite and not too big (there are just few number of decisions / plans to choose from)\n",
    "- and $\\frac{1}{|S|} \\sum\\limits_{s\\in S} f(x,d_s)$ can be computed efficiently\n",
    "\n",
    "**we can simply** \n",
    "-  **enumerate** all solutions / decisions  $x \\in X$ \n",
    "- and **select** one maximizing $\\frac{1}{|S|} \\sum\\limits_{s\\in S} f(x,d_s)$"
   ]
  },
  {
   "cell_type": "markdown",
   "metadata": {
    "slideshow": {
     "slide_type": "slide"
    }
   },
   "source": [
    "## Solving by Enumeration: In our Example\n",
    "\n",
    "\n",
    "In our example, we may simply enumerate all (meaningful) capacity decisions $x$, e.g. from 0 to 200.\n",
    "- and we use `np.argmax` to obtain the index of the best decision"
   ]
  },
  {
   "cell_type": "code",
   "execution_count": 146,
   "metadata": {
    "slideshow": {
     "slide_type": "fragment"
    }
   },
   "outputs": [
    {
     "name": "stdout",
     "output_type": "stream",
     "text": [
      "The best decision is 83 yielding an average profit of 680.43\n"
     ]
    }
   ],
   "source": [
    "capacities = np.arange(200)\n",
    "\n",
    "demand_dist = stats.norm(100,25)\n",
    "\n",
    "n_samples = 100000\n",
    "\n",
    "demands = demand_dist.rvs(n_samples)\n",
    "\n",
    "average_profits = np.empty(len(capacities))\n",
    "\n",
    "for i, capacity in enumerate(capacities):\n",
    "    # recall: given the vectorization, calling total_profits performs a Monte-Carlo Simulation!\n",
    "    average_profits[i] = np.mean(total_profit(capacity, demands))\n",
    "\n",
    "best_profit = np.max(average_profits)\n",
    "best_index = np.argmax(average_profits)\n",
    "best_capacity_decision = capacities[best_index]\n",
    "\n",
    "\n",
    "print (f\"The best decision is {best_capacity_decision} yielding an average profit of {best_profit:.02f}\")\n"
   ]
  },
  {
   "cell_type": "markdown",
   "metadata": {
    "slideshow": {
     "slide_type": "slide"
    }
   },
   "source": [
    "## On Choosing and Using Samples\n",
    "\n",
    "**Sample Size**\n",
    "- as we know, too small sample sizes may lead to approximation error\n",
    "- this error can lead to choosing a suboptimal solution"
   ]
  },
  {
   "cell_type": "markdown",
   "metadata": {
    "slideshow": {
     "slide_type": "fragment"
    }
   },
   "source": [
    "**Exercise**\n",
    "\n",
    "To see this effect, try the following experiment: Use a small number of samples (say, 100) and carry out the optimization by enumeration.\n"
   ]
  },
  {
   "cell_type": "code",
   "execution_count": null,
   "metadata": {
    "slideshow": {
     "slide_type": "skip"
    }
   },
   "outputs": [],
   "source": []
  },
  {
   "cell_type": "markdown",
   "metadata": {
    "slideshow": {
     "slide_type": "fragment"
    }
   },
   "source": [
    "**Observe: We are e-using samples (Common Random Numbers)**\n",
    "\n",
    "It is helpful to use the same sample vector(s) for evaluating each solution:\n",
    "- this leads to the same \"experimental\" conditions for each solution, and\n",
    "- removes the chance-induced differences between the evaluations of each solutions\n",
    "- is referred to as **common random numbers** and\n",
    "- can be viewed as a **variance reduction** technique\n",
    "\n",
    " "
   ]
  },
  {
   "cell_type": "markdown",
   "metadata": {
    "slideshow": {
     "slide_type": "slide"
    }
   },
   "source": [
    "## Using (Unconstrained) Optimization\n",
    "\n",
    "\n",
    "Instead of enumerating all decisions (solutions) and picking the best one,\n",
    "we may automate the search for the best decision(s) based on our Monte\n",
    "Carlo approximation \n",
    "\n",
    "\n",
    "$$\\max_{x\\in X} \\frac{1}{|S|} \\sum\\limits_{s\\in S} f(x,d_s)$$\n",
    "\n",
    "by **optimization methods**.\n",
    "\n",
    "As an example, we may just use an unconstrained optimization routine:\n",
    "- packages available in most languages, even in spreadsheets\n",
    "- e.g. in **SciPy**, there is the package `optimize`\n",
    "  - one can choose different algorithms\n",
    "  - no optimality guarantee\n",
    "  - only minimization (we can maximize by multiplying the objective with 1)\n",
    "  - we give an arbitrary function as objective function\n"
   ]
  },
  {
   "cell_type": "markdown",
   "metadata": {
    "slideshow": {
     "slide_type": "slide"
    }
   },
   "source": [
    "## Using Scipy's Optimize for Unconstrained Optimization\n",
    "\n",
    "In order to use scipy optimize for our purposes, we need to address the following aspects:\n",
    "\n",
    "- we need a function to optimize (we need to wrap the call of `mean`):"
   ]
  },
  {
   "cell_type": "code",
   "execution_count": 7,
   "metadata": {
    "slideshow": {
     "slide_type": "-"
    }
   },
   "outputs": [],
   "source": [
    "def expected_profit(capacity,demands):\n",
    "    return np.mean(total_profit(capacity,demands))"
   ]
  },
  {
   "cell_type": "markdown",
   "metadata": {
    "slideshow": {
     "slide_type": "fragment"
    }
   },
   "source": [
    "- There is no maximize, but only a `minimize` function\n",
    "  - to use it for maximization, we can just minimize a **function returning the negative objective function value**"
   ]
  },
  {
   "cell_type": "code",
   "execution_count": 147,
   "metadata": {
    "slideshow": {
     "slide_type": "-"
    }
   },
   "outputs": [],
   "source": [
    "from scipy.optimize import minimize\n",
    "\n",
    "def neg_expected_profit(capacity, demands):\n",
    "    return -1*np.mean(total_profit(capacity,demands))"
   ]
  },
  {
   "cell_type": "markdown",
   "metadata": {
    "slideshow": {
     "slide_type": "fragment"
    }
   },
   "source": [
    "When calling the `minimize` function, we need to provide:\n",
    "- the function to optimize in which the first parameter is the (vector of) decision variable(s) (in our case, the capacity )\n",
    "- an initial value for the decision variable(s)\n",
    "- a tuple of the additional arguments of the function to optimize (in our case: the demand samples)"
   ]
  },
  {
   "cell_type": "code",
   "execution_count": 149,
   "metadata": {
    "slideshow": {
     "slide_type": "-"
    }
   },
   "outputs": [
    {
     "name": "stdout",
     "output_type": "stream",
     "text": [
      "The best decision is: 83.01, yielding an expected total profit of 680.43\n"
     ]
    }
   ],
   "source": [
    "optimization_result = minimize(neg_expected_profit, 100, args=(demands))\n",
    "\n",
    "print(f'The best decision is: {optimization_result.x[0]:.2f}, yielding an expected total profit of {-1* optimization_result.fun:.2f}')"
   ]
  },
  {
   "cell_type": "markdown",
   "metadata": {
    "slideshow": {
     "slide_type": "-"
    }
   },
   "source": [
    "..we may round this result, but recall that we compute in terms of 1000 units here!"
   ]
  },
  {
   "cell_type": "markdown",
   "metadata": {
    "slideshow": {
     "slide_type": "slide"
    }
   },
   "source": [
    "# Exercise"
   ]
  },
  {
   "cell_type": "markdown",
   "metadata": {
    "slideshow": {
     "slide_type": "slide"
    }
   },
   "source": [
    "## An additional production technology\n",
    "\n",
    "The company from the capacity planning case study thinks of installing production capacity using an different production technology (B).\n",
    "\n",
    "Technology B has a lower installation costs (\\\\$ 20 per unit), but also a lower contribution margin per sold unit (\\\\$ 28) compared to the original technology A.\n",
    "\n",
    "\n",
    "\n",
    "**Excercise:**\n",
    "\n",
    "Implement a Monte-Carlo-Approximation for the decision of how much capacity to install if you would use only technology B (assuming the same demand distribution as above)\n",
    "\n",
    "What is the best possible expected profit?\n",
    "\n"
   ]
  },
  {
   "cell_type": "code",
   "execution_count": null,
   "metadata": {
    "slideshow": {
     "slide_type": "-"
    }
   },
   "outputs": [],
   "source": []
  },
  {
   "cell_type": "markdown",
   "metadata": {
    "slideshow": {
     "slide_type": "slide"
    }
   },
   "source": [
    "**Excercise:**\n",
    "\n",
    "Now consider a combination of both technologies, that is, you may install both technology A and B. \n",
    "\n",
    "Since B has a lower profit contribution, you assume that if  both technologies are installed, first A is used to produce up to the installed capacity. If there is demand left, that demand is satisfied by technology B until the installed capacity of B is exhausted.\n",
    "\n",
    "What is the best combination of technologies A and B in terms of expected total profit? Is B used at all? \n"
   ]
  },
  {
   "cell_type": "code",
   "execution_count": null,
   "metadata": {},
   "outputs": [],
   "source": []
  },
  {
   "cell_type": "markdown",
   "metadata": {
    "slideshow": {
     "slide_type": "slide"
    }
   },
   "source": [
    "# The Value of Including Uncertainty "
   ]
  },
  {
   "cell_type": "markdown",
   "metadata": {
    "slideshow": {
     "slide_type": "slide"
    }
   },
   "source": [
    "## The Flaw Of Averages\n",
    "\n",
    "\n",
    "\n",
    "<div class=\"alert alert-block alert-info\">\n",
    "<b>The Flaw of Averages:</b> The results obtained when replacing uncertain quantities with averages are wrong on average. </div>\n",
    "\n",
    "In general, if $D$ is an random variable, and  $f$ is a nonlinear function, then \n",
    "\n",
    "$$ f(E(D)) \\neq E(f(D)) $$\n",
    "\n",
    "Plugging an average/expected value of an random variable into a function does **not** yield the average/expected value of that function!\n",
    "\n",
    "\n",
    "\n",
    "- we can compute the error resulting from the FoA by comparing $f(E(D))$ and $E(f(D))$. "
   ]
  },
  {
   "cell_type": "markdown",
   "metadata": {
    "slideshow": {
     "slide_type": "slide"
    }
   },
   "source": [
    "## The Flaw Of Averages\n",
    "\n",
    "Let us consider this for our case study:\n",
    "\n",
    "In our example, $f(E(D))$ is what the boss proposes: \n",
    "- Assume expected demand $E(D) = 100$\n",
    "- and compute the total profit of that demand $f(E(D))$ for a capacity of 100"
   ]
  },
  {
   "cell_type": "code",
   "execution_count": 155,
   "metadata": {
    "slideshow": {
     "slide_type": "-"
    }
   },
   "outputs": [
    {
     "data": {
      "text/plain": [
       "1000"
      ]
     },
     "execution_count": 155,
     "metadata": {},
     "output_type": "execute_result"
    }
   ],
   "source": [
    "total_profit(100,100)"
   ]
  },
  {
   "cell_type": "markdown",
   "metadata": {
    "slideshow": {
     "slide_type": "fragment"
    }
   },
   "source": [
    "This, however, is not the **true** expected total profit:\n",
    "- to obtain the true expected profit E(f(D)), we need to evaluate the profit function for the **demand distribution**\n",
    "- we can do this by Monte-Carlo approximation:\n",
    "\n"
   ]
  },
  {
   "cell_type": "code",
   "execution_count": 156,
   "metadata": {
    "slideshow": {
     "slide_type": "-"
    }
   },
   "outputs": [
    {
     "data": {
      "text/plain": [
       "600.4707739425709"
      ]
     },
     "execution_count": 156,
     "metadata": {},
     "output_type": "execute_result"
    }
   ],
   "source": [
    "demand_dist = stats.norm(100,25)\n",
    "demands = demand_dist.rvs(100000)\n",
    "np.mean(total_profit(100, demands))"
   ]
  },
  {
   "cell_type": "markdown",
   "metadata": {
    "slideshow": {
     "slide_type": "-"
    }
   },
   "source": [
    "Which means that the flaw of average caused a huge error / overestimation of the profit.\n",
    "\n"
   ]
  },
  {
   "cell_type": "markdown",
   "metadata": {
    "slideshow": {
     "slide_type": "slide"
    }
   },
   "source": [
    "## The Flaw Of Averages and Decision Making\n",
    "\n",
    "When it comes to *decision making*, we encounter the\n",
    "\n",
    "\n",
    "<div class=\"alert alert-block alert-info\">\n",
    "<b>Strong Form of the Flaw of Averages:</b> Decisions and plans based on averages are wrong on average </div>\n",
    "\n",
    "More formally: In general, if $x$ is a (vector of) decision variable(s), $D$ is an random variable, and f is a nonlinear function, then  \n",
    "    \n",
    "$$\\underset{x}{\\operatorname{argmax}} f(x,E(D)) \\neq \\underset{x}{\\operatorname{argmax}}  E(f(x,D))$$\n",
    "    \n",
    "\n",
    "That is, in general, the best average-based decision is usually different and worse than the decision with the best expected performance.\n",
    "\n",
    "\n"
   ]
  },
  {
   "cell_type": "markdown",
   "metadata": {
    "slideshow": {
     "slide_type": "slide"
    }
   },
   "source": [
    "## The Flaw Of Averages and Decision Making\n",
    "\n",
    "This is what we already observed in our case study:\n",
    "- While 100 is the best decision when using average demand, it is not the **true best** decision:\n",
    "\n"
   ]
  },
  {
   "cell_type": "code",
   "execution_count": 12,
   "metadata": {
    "slideshow": {
     "slide_type": "-"
    }
   },
   "outputs": [
    {
     "name": "stdout",
     "output_type": "stream",
     "text": [
      "The best decision is 83 yielding an average profit of 683.20\n"
     ]
    }
   ],
   "source": [
    "capacities = np.arange(200)\n",
    "\n",
    "average_profits = np.empty(len(capacities))\n",
    "\n",
    "for i, capacity in enumerate(capacities):    \n",
    "    average_profits[i] = np.mean(total_profit(capacity, demands))\n",
    "    \n",
    "best_index = np.argmax(average_profits)\n",
    "\n",
    "best_profit = np.max(average_profits)\n",
    "best_index = np.argmax(average_profits)\n",
    "best_capacity_decision = capacities[best_index]\n",
    "\n",
    "print (f\"The best decision is {best_capacity_decision} yielding an average profit of {best_profit:.02f}\")\n"
   ]
  },
  {
   "cell_type": "markdown",
   "metadata": {
    "slideshow": {
     "slide_type": "slide"
    }
   },
   "source": [
    "## The Expected Value of Including Uncertainty\n",
    "\n",
    "\n",
    "In our case study, the optimal decision from an average-based model is 100 k, yielding an expected profit of $\\approx$ \\\\$600k.\n",
    "\n",
    "The true best decision, however, is to install 83 k, yielding $\\approx$ \\\\$680k \n",
    "\n",
    "\n",
    "The difference in expected performance  is called \n",
    "\n",
    "- **Expected Value of Including Uncertainty (EVIU)** or\n",
    "- **Value of the Stochastic Solution (VSS)**\n",
    "\n",
    "**EVIU = EIU - EEV**\n",
    "\n",
    "where\n",
    "- **EIU**, the expected performance of the optimal decision explicitly considering / including uncertainty  \n",
    "- **EEV**, the (true) expected value from the (flawed) optimal expected-value-based decision\n",
    "\n",
    "In our example:"
   ]
  },
  {
   "cell_type": "code",
   "execution_count": 157,
   "metadata": {},
   "outputs": [
    {
     "name": "stdout",
     "output_type": "stream",
     "text": [
      "The EVIU in our example is 80.99 (the EIU is 680.43 and hte EEV is 599.44)\n"
     ]
    }
   ],
   "source": [
    "eiu = np.max(average_profits)\n",
    "eev = average_profits[100]\n",
    "eviu = eiu - eev\n",
    "\n",
    "print(f'The EVIU in our example is {eviu:.2f} (the EIU is {eiu:.2f} and hte EEV is {eev:.2f})')\n"
   ]
  },
  {
   "cell_type": "markdown",
   "metadata": {
    "slideshow": {
     "slide_type": "slide"
    }
   },
   "source": [
    "# The Value of Information"
   ]
  },
  {
   "cell_type": "markdown",
   "metadata": {
    "slideshow": {
     "slide_type": "slide"
    }
   },
   "source": [
    "## What if we had a Chrystal Ball?\n",
    "\n",
    "What if we were able to obtain a chrystal ball that gives us **perfect foresight**?\n",
    "- this means that the decision / information sequence is **flipped**:\n",
    "\n",
    "<img width='800' src='img/decision_perfect_information.png'>\n",
    "\n",
    "This means that:\n",
    "- at **this** moment, we still do not know what will happen\n",
    "- but we will know **before** deciding\n",
    "\n",
    "As a result, the decision can be taken under  **perfect information**.\n",
    "\n",
    "The expected result given perfect information is called\n",
    "- **EPI**: the expected performance with perfect information"
   ]
  },
  {
   "cell_type": "markdown",
   "metadata": {
    "slideshow": {
     "slide_type": "slide"
    }
   },
   "source": [
    "## Perfect Information in our Example\n",
    "\n",
    "In our example, if we have perfect information, then:\n",
    "- we can simply install as much capacity as there is (known) demand:"
   ]
  },
  {
   "cell_type": "code",
   "execution_count": 158,
   "metadata": {
    "slideshow": {
     "slide_type": "fragment"
    }
   },
   "outputs": [],
   "source": [
    "@vectorize\n",
    "def total_profit_perfect_information(demand):\n",
    "    return -30*demand + 40*demand"
   ]
  },
  {
   "cell_type": "markdown",
   "metadata": {
    "slideshow": {
     "slide_type": "fragment"
    }
   },
   "source": [
    "- we can use this function to compute the EPI using Monte-Carlo-Approximation:\n"
   ]
  },
  {
   "cell_type": "code",
   "execution_count": 159,
   "metadata": {
    "slideshow": {
     "slide_type": "-"
    }
   },
   "outputs": [
    {
     "name": "stdout",
     "output_type": "stream",
     "text": [
      "The expected profit with perfect information (EPI) is 1000.22\n"
     ]
    }
   ],
   "source": [
    "epi = np.mean(total_profit_perfect_information(demands))\n",
    "print(f'The expected profit with perfect information (EPI) is {epi:.2f}')"
   ]
  },
  {
   "cell_type": "markdown",
   "metadata": {
    "slideshow": {
     "slide_type": "slide"
    }
   },
   "source": [
    "## The Value of Perfect information\n",
    "\n",
    "\n",
    "Clearly, a chrystal ball (enabling to take **scenario-optimal** decisions) leads to better results.\n",
    "\n",
    "The **difference** between\n",
    "- these results (called **EPI**) and \n",
    "- the expected results when taking the best decision **without** perfect information (called **EIU**, see above)\n",
    "\n",
    "is called the **Expected Value of Perfect Information** (**EVPI**)\n",
    "\n",
    "EVPI = EPI - EIU\n",
    "\n",
    "It gives an answer to the following question:\n",
    "\n",
    "*What would we be willing to pay for a crystal ball giving us perfect\n",
    "information before we have to decide?*\n",
    "\n",
    "In our case study, a (rational) boss would be willing to pay the following amount of money for a chrystal ball:\n"
   ]
  },
  {
   "cell_type": "code",
   "execution_count": 160,
   "metadata": {
    "slideshow": {
     "slide_type": "-"
    }
   },
   "outputs": [
    {
     "name": "stdout",
     "output_type": "stream",
     "text": [
      "The EVPI in our example is 319.79 given that EIU is 680.43 and EPI is 1000.22\n"
     ]
    }
   ],
   "source": [
    "evpi = epi - eiu\n",
    "\n",
    "print(f'The EVPI in our example is {evpi:.2f} given that EIU is {eiu:.2f} and EPI is {epi:.2f}')"
   ]
  },
  {
   "cell_type": "markdown",
   "metadata": {
    "slideshow": {
     "slide_type": "slide"
    }
   },
   "source": [
    "## The Value of Imperfect Information\n",
    "\n",
    "There is not only the value of **perfect** information, but also **imperfect** (partial) information can have a value since it\n",
    "- **reduces uncertainty** and\n",
    "- allows making better decisions\n",
    "\n",
    "Examples for obtaining **imperfect** or **partial** information:\n",
    "- pilot studies\n",
    "- additional medical examinations\n",
    "- customer surveys\n",
    "\n",
    "The improvement that can be obtained is called\n",
    "- **Expected value of imperfect / partial or sample information**\n",
    "- it answers the question: How much would I be willing to pay for partial information (e.g. a customer survey)\n",
    "\n",
    "\n",
    "**$\\rightarrow$ Obtaining information (or not) can be seen as part of the decision problem!**\n",
    "\n",
    "\n"
   ]
  },
  {
   "cell_type": "markdown",
   "metadata": {
    "slideshow": {
     "slide_type": "slide"
    }
   },
   "source": [
    "## Intermediate Summary\n",
    "\n",
    "So far, we discussed\n",
    "- the stucture of decision making problems under uncertainty and how to model them as decision trees\n",
    "- how to use (unconstrained) optimization for decision making under uncertainty\n",
    "two important measures in the context of decision making under uncertainty:\n",
    "- the value of including uncertainty and\n",
    "- the value of (perfect and imperfect) information"
   ]
  },
  {
   "cell_type": "markdown",
   "metadata": {
    "slideshow": {
     "slide_type": "slide"
    }
   },
   "source": [
    "In the rest of this meeting, we will\n",
    "- introduce the idea that **decision making means shaping distributions** \n",
    "- and discuss different ways to **incorporate risk aversion in decision making under uncertainty**"
   ]
  },
  {
   "cell_type": "markdown",
   "metadata": {
    "slideshow": {
     "slide_type": "slide"
    }
   },
   "source": [
    "# Decision Making under Uncertainty as Shaping Distributions"
   ]
  },
  {
   "cell_type": "markdown",
   "metadata": {
    "slideshow": {
     "slide_type": "slide"
    }
   },
   "source": [
    "## Decision Making under Uncertainty means Shaping Distributions\n",
    "\n",
    "In the following part, we will emphasize that **decision making means shaping distributions.**\n",
    "\n",
    "In particular, we will answer the following questions:\n",
    "- when it is appropriate to optimize expected values?\n",
    "- what is an outcome distribution?\n",
    "- what kind of useful information does the outcome distribution give us?\n",
    "- how can we compare outcome distributions?"
   ]
  },
  {
   "cell_type": "markdown",
   "metadata": {
    "slideshow": {
     "slide_type": "slide"
    }
   },
   "source": [
    "## Case Study: Maximizing Expected Total Profit\n",
    "\n",
    "Recall that in the capacity planning case study, we aim at finding the decision with an optimal expected profit:\n"
   ]
  },
  {
   "cell_type": "code",
   "execution_count": 161,
   "metadata": {
    "slideshow": {
     "slide_type": "-"
    }
   },
   "outputs": [
    {
     "name": "stdout",
     "output_type": "stream",
     "text": [
      "The best decision is: 83.08, yielding an expected total profit of 682.60\n"
     ]
    }
   ],
   "source": [
    "result = minimize(neg_expected_profit, 100, args=(demands))\n",
    "\n",
    "print(f'The best decision is: {result.x[0]:.2f}, yielding an expected total profit of {-1 * result.fun:.2f}')"
   ]
  },
  {
   "cell_type": "markdown",
   "metadata": {
    "slideshow": {
     "slide_type": "slide"
    }
   },
   "source": [
    "## On using the Expected Value as Objective Function\n",
    "\n",
    "So far, we always used the **expected value** for selecting the best decision(s) - when is that appropriate?\n",
    "\n",
    "\n",
    "**The Expected Profit / Performance is a good choice if**\n",
    "- the decision problem is solved repeatedly for many times\n",
    "- the decision maker is risk-neutral\n",
    "  - e.g. because decision does not have a big impact on the wealth of\n",
    "    the decision maker"
   ]
  },
  {
   "cell_type": "markdown",
   "metadata": {
    "slideshow": {
     "slide_type": "fragment"
    }
   },
   "source": [
    "**In the rest of this meeting**\n",
    "- we deal with approaches that we can take if this is not the case\n",
    "- all these approache rely on the idea that the **outcome of a decision under uncertainty is a distribution**"
   ]
  },
  {
   "cell_type": "markdown",
   "metadata": {
    "slideshow": {
     "slide_type": "slide"
    }
   },
   "source": [
    "## Outcome Distribution\n",
    "\n",
    "If the (at least one) **input** of a decision making / optimization problem **is uncertain** then, in general **the output is also uncertain**\n",
    "\n",
    "Thus, taking a decision under uncertainty leads to an **outcome distribution** $G = f(x,D)$  where\n",
    "- $f$: objective function\n",
    "- $x$ decision(s)\n",
    "- $D$ is the distribution of the outcomes\n",
    "\n",
    "When approximated with a Monte-Carlo Simulation we have an outcome vector **g** \n",
    "- consisting of one objective function value $g_s$ for each sample / scenario $s$"
   ]
  },
  {
   "cell_type": "markdown",
   "metadata": {
    "hide_input": false,
    "slideshow": {
     "slide_type": "slide"
    }
   },
   "source": [
    "## Visualizing the Outcome Distribution\n",
    "\n",
    "We can visualize the (sample approximation of the) outcome distribution in two main ways\n",
    "- using a histogram (approximating the density function)\n",
    "- the (empirical) cumlative distribution function (also called **risk profile**)\n",
    "  - for this, we can use the module `ECDF` from statsmodels.\n",
    "\n"
   ]
  },
  {
   "cell_type": "code",
   "execution_count": 166,
   "metadata": {
    "hide_input": false,
    "slideshow": {
     "slide_type": "-"
    }
   },
   "outputs": [
    {
     "data": {
      "image/png": "[encoded data removed]",
      "text/plain": [
       "<Figure size 1296x432 with 2 Axes>"
      ]
     },
     "metadata": {
      "needs_background": "light"
     },
     "output_type": "display_data"
    }
   ],
   "source": [
    "from statsmodels.distributions.empirical_distribution import ECDF\n",
    "\n",
    "capacity = 83\n",
    "outcomes = total_profit(capacity,demands)\n",
    "fig, axes = plt.subplots(1, 2, figsize=(18, 6))\n",
    "plt.suptitle (f'capacity = {capacity}, expected profit = {np.mean(outcomes):.02f}')\n",
    "axes[0].hist(outcomes, bins=30, density=True, color='#EEEEEE', edgecolor=\"#AAAAAA\", range =[-1000,1000])    \n",
    "axes[0].set_xlabel('total profit'); \n",
    "axes[0].set_title('histogram'); \n",
    "\n",
    "xx = np.linspace(-1000,1000)\n",
    "ecdf = ECDF(outcomes)\n",
    "axes[1].plot(xx, ecdf(xx),label=f'capacity={capacity}')\n",
    "axes[1].set_xlabel('total profit'); \n",
    "axes[1].set_title('empirical cdf');"
   ]
  },
  {
   "cell_type": "markdown",
   "metadata": {
    "slideshow": {
     "slide_type": "slide"
    }
   },
   "source": [
    "## Motivation: Similar Expected Values, Different Distributions\n",
    "\n",
    "\n",
    "**Let us consider two different capacity installation decisions:**\n"
   ]
  },
  {
   "cell_type": "code",
   "execution_count": 168,
   "metadata": {
    "slideshow": {
     "slide_type": "-"
    }
   },
   "outputs": [],
   "source": [
    "capacity_a = 63\n",
    "capacity_b = 100"
   ]
  },
  {
   "cell_type": "markdown",
   "metadata": {
    "hide_input": false,
    "slideshow": {
     "slide_type": "-"
    }
   },
   "source": [
    "Let us compare the outcome distributions of the outcomes of the two capacity decisions:\n"
   ]
  },
  {
   "cell_type": "code",
   "execution_count": 169,
   "metadata": {
    "hide_input": false,
    "slideshow": {
     "slide_type": "-"
    }
   },
   "outputs": [
    {
     "data": {
      "image/png": "[encoded data removed]",
      "text/plain": [
       "<Figure size 1296x432 with 2 Axes>"
      ]
     },
     "metadata": {
      "needs_background": "light"
     },
     "output_type": "display_data"
    }
   ],
   "source": [
    "outcomes_a = total_profit(capacity_a,demands)\n",
    "outcomes_b = total_profit(capacity_b,demands)\n",
    "\n",
    "fig, axes = plt.subplots(1, 2, figsize=(18, 6), sharey=True)\n",
    "   \n",
    "axes[0].hist(outcomes_a, bins=30, density=True, color='#EEEEEE', edgecolor=\"#AAAAAA\", range =[-1000,1000])\n",
    "axes[0].set_ylim ([0, 0.015])\n",
    "axes[0].set_title(f'capacity = {capacity_a}, expected profit = {np.mean(outcomes_a):.02f}')\n",
    "axes[0].set_xlabel('total profit');   \n",
    "\n",
    "axes[1].hist(outcomes_b, bins=30, density=True, color='#EEEEEE', edgecolor=\"#AAAAAA\", range =[-1000,1000])\n",
    "axes[1].set_ylim ([0, 0.015])\n",
    "axes[1].set_title(f'capacity = {capacity_b}, expected profit = {np.mean(outcomes_b):.02f}')\n",
    "axes[1].set_xlabel('total profit');   "
   ]
  },
  {
   "cell_type": "markdown",
   "metadata": {
    "slideshow": {
     "slide_type": "slide"
    }
   },
   "source": [
    "## Examples for Information from the Outcome Distribution\n",
    "\n",
    "- the probability of losing money"
   ]
  },
  {
   "cell_type": "code",
   "execution_count": 24,
   "metadata": {
    "slideshow": {
     "slide_type": "-"
    }
   },
   "outputs": [
    {
     "name": "stdout",
     "output_type": "stream",
     "text": [
      "For a capacity of 63, the probability of losing money is: 0.02\n",
      "For a capacity of 100, the probability of losing money is: 0.16\n"
     ]
    }
   ],
   "source": [
    "print(f\"For a capacity of {capacity_a}, the probability of losing money is: { np.mean(outcomes_a < 0) :0.2f}\" )\n",
    "print(f\"For a capacity of {capacity_b}, the probability of losing money is: { np.mean(outcomes_b <0) :0.2f}\" )"
   ]
  },
  {
   "cell_type": "markdown",
   "metadata": {
    "slideshow": {
     "slide_type": "fragment"
    }
   },
   "source": [
    "- the probability of reaching / exceeding a target "
   ]
  },
  {
   "cell_type": "code",
   "execution_count": 171,
   "metadata": {
    "slideshow": {
     "slide_type": "-"
    }
   },
   "outputs": [
    {
     "name": "stdout",
     "output_type": "stream",
     "text": [
      "For a capacity of 63, the probability of exceeding 500 is: 0.95\n",
      "For a capacity of 100, the probability of exceeding 500  is: 0.69\n"
     ]
    }
   ],
   "source": [
    "target = 500\n",
    "print(f\"For a capacity of {capacity_a}, the probability of exceeding {target} is: { np.mean(outcomes_a >= target ) :0.2f}\" )\n",
    "print(f\"For a capacity of {capacity_b}, the probability of exceeding {target}  is: { np.mean(outcomes_b >= target ) :0.2f}\" )"
   ]
  },
  {
   "cell_type": "markdown",
   "metadata": {
    "slideshow": {
     "slide_type": "slide"
    }
   },
   "source": [
    "- the value below which the worst 5 % outcomes fall (5%-quantile, Value at Risk)"
   ]
  },
  {
   "cell_type": "code",
   "execution_count": 26,
   "metadata": {
    "slideshow": {
     "slide_type": "-"
    }
   },
   "outputs": [
    {
     "name": "stdout",
     "output_type": "stream",
     "text": [
      "For a capacity of 63, worst 5 % fall below  475.63\n",
      "For a capacity of 100, worst 5 % fall below  -634.37\n"
     ]
    }
   ],
   "source": [
    "q = 5\n",
    "\n",
    "def var_5(outcomes): return np.percentile(outcomes,5)\n",
    "\n",
    "print(f\"For a capacity of {capacity_a}, worst {q} % fall below  { var_5(outcomes_a):0.2f}\" )\n",
    "print(f\"For a capacity of {capacity_b}, worst {q} % fall below  { var_5(outcomes_b) :0.2f}\" )"
   ]
  },
  {
   "cell_type": "markdown",
   "metadata": {
    "slideshow": {
     "slide_type": "fragment"
    }
   },
   "source": [
    "- the average value of the worst 5 % (Conditional Value at Risk, expected shortfall)"
   ]
  },
  {
   "cell_type": "code",
   "execution_count": 27,
   "metadata": {
    "slideshow": {
     "slide_type": "-"
    }
   },
   "outputs": [
    {
     "name": "stdout",
     "output_type": "stream",
     "text": [
      "For a capacity of 63, the average of the worst 5 % of the outcomes is 49.04\n",
      "For a capacity of 100, the average of the worst 5 % of the outcomes is -1060.96\n"
     ]
    }
   ],
   "source": [
    "def cvar_5(outcomes): return np.mean(outcomes[outcomes < var_5(outcomes)])\n",
    "\n",
    "print(f\"For a capacity of {capacity_a}, the average of the worst {q} % of the outcomes is { cvar_5(outcomes_a) :0.2f}\" )\n",
    "print(f\"For a capacity of {capacity_b}, the average of the worst {q} % of the outcomes is { cvar_5(outcomes_b) :0.2f}\" )"
   ]
  },
  {
   "cell_type": "markdown",
   "metadata": {
    "slideshow": {
     "slide_type": "slide"
    }
   },
   "source": [
    "## Decision Making as Shaping Distributions\n",
    "\n",
    "Since, as we learned, different decisions lead to different distributions, we can make the following statement:\n",
    "\n",
    "**Decision Making under Uncertainty means Shaping (Outcome) Distributions**\n",
    "- this means we decide between outcome distributions\n",
    "- the objective function can then be seen as a function taking the outcome distribution as input\n",
    "- we can choose an objective function that reflects our preferences / risk attitude\n"
   ]
  },
  {
   "cell_type": "markdown",
   "metadata": {
    "slideshow": {
     "slide_type": "slide"
    }
   },
   "source": [
    "## How can we Compare Distributions?\n",
    "\n",
    "**If decision making means shaping distributions, how can we compare them?**\n",
    "\n",
    "There is one clear case: **Stochastic Dominance**\n",
    "- for each outcome, the dominating distribution gives at least as high a probability of obtaining an equal or better outcome than the dominated distribution\n",
    "- visually, the cdf of the better distribution is always \"on the right\" of the dominated distribution\n",
    "\n",
    "**Example:** let us consider yet another production technology for our case study that has a **higher investment cost** and a **lower contribution margin** than the original technology, and take the same capacity decision of 80 for both technologies\n",
    "- then, the outcome distribution of the original techology dominates the second technology\n"
   ]
  },
  {
   "cell_type": "code",
   "execution_count": 174,
   "metadata": {
    "hide_input": true,
    "scrolled": true,
    "slideshow": {
     "slide_type": "-"
    }
   },
   "outputs": [
    {
     "data": {
      "image/png": "[encoded data removed]",
      "text/plain": [
       "<Figure size 576x360 with 1 Axes>"
      ]
     },
     "metadata": {
      "needs_background": "light"
     },
     "output_type": "display_data"
    }
   ],
   "source": [
    "@vectorize\n",
    "def total_profit_other_technology(capacity,demands):\n",
    "    return -31*capacity + 35*min(capacity, demands)\n",
    "plt.figure(figsize=(8,5))\n",
    "ecdf = ECDF(total_profit(80,demands))\n",
    "plt.plot(xx, ecdf(xx), label=\"original technology\")\n",
    "\n",
    "ecdf = ECDF(total_profit_other_technology(80,demands))\n",
    "plt.plot(xx, ecdf(xx), label=\"worse technology\")\n",
    "plt.legend()\n",
    "plt.xlabel('Total Profit')\n",
    "plt.ylabel('Cumulative Probability');         "
   ]
  },
  {
   "cell_type": "markdown",
   "metadata": {
    "hide_input": true,
    "slideshow": {
     "slide_type": "slide"
    }
   },
   "source": [
    "## How can we Compare Distributions?\n",
    "\n",
    "**In general, stochastic dominance is an exception**: Typically, alternatives with a lower risk of bad outcomes also exhibit samller chances of very good outcomes\n",
    "\n"
   ]
  },
  {
   "cell_type": "code",
   "execution_count": 54,
   "metadata": {
    "hide_input": false,
    "slideshow": {
     "slide_type": "-"
    }
   },
   "outputs": [
    {
     "data": {
      "image/png": "[encoded data removed]",
      "text/plain": [
       "<Figure size 432x288 with 1 Axes>"
      ]
     },
     "metadata": {
      "needs_background": "light"
     },
     "output_type": "display_data"
    }
   ],
   "source": [
    "from statsmodels.distributions.empirical_distribution import ECDF\n",
    "\n",
    "values_to_plot = [63, 83, 100]\n",
    "\n",
    "xx = np.linspace(-1000,1000)\n",
    "\n",
    "#fig, axes = plt.subplots(1, len(values_to_plot), figsize=(6*len(values_to_plot), 4), constrained_layout=True)\n",
    "\n",
    "for index in range(len(values_to_plot)):\n",
    "    ecdf = ECDF(total_profit(values_to_plot[index],demands))\n",
    "    plt.plot(xx, ecdf(xx),label=f'capacity={values_to_plot[index]}')\n",
    "    #axes[index].set_title(f'capacity = {values_to_plot[index]}, expected profit = {expected_profit(values_to_plot[index]):.02f}')\n",
    "    \n",
    "plt.legend()\n",
    "plt.xlabel('Total Profit')\n",
    "plt.ylabel('Cumulative Probability');\n",
    "\n",
    "#plt.savefig(\"cumulative_result_distributions.pdf\",bbox_inches=\"tight\")\n"
   ]
  },
  {
   "cell_type": "markdown",
   "metadata": {
    "slideshow": {
     "slide_type": "-"
    }
   },
   "source": [
    "To decide between outcome distributions we can use (for example):\n",
    "- distribution statistics (e.g. mean, mode, ...)\n",
    "- risk measures\n",
    "- utility functions\n",
    "\n"
   ]
  },
  {
   "cell_type": "markdown",
   "metadata": {
    "slideshow": {
     "slide_type": "slide"
    }
   },
   "source": [
    "# Excercise: The Second Production Technology\n",
    "\n",
    "\n"
   ]
  },
  {
   "cell_type": "markdown",
   "metadata": {
    "slideshow": {
     "slide_type": "slide"
    }
   },
   "source": [
    "## An additional production technology\n",
    "\n",
    "The company from the capacity planning case study thinks of installing production capacity using an different production technology (B).\n",
    "\n",
    "Technology B has a lower installation costs (\\\\$ 20 per unit), but also a lower contribution margin per sold unit (\\\\$ 28) compared to the original technology A.\n",
    "\n",
    "Below, please find our implementation from before:"
   ]
  },
  {
   "cell_type": "code",
   "execution_count": 179,
   "metadata": {
    "slideshow": {
     "slide_type": "-"
    }
   },
   "outputs": [
    {
     "name": "stdout",
     "output_type": "stream",
     "text": [
      "The estimated expected profit is: 562.05\n"
     ]
    }
   ],
   "source": [
    "\n",
    "@vectorize\n",
    "def total_profit_b(capacity,demand):\n",
    "    return -20*capacity + 28* min(capacity, demand)\n",
    "\n",
    "demands = demand_dist.rvs(n_samples)\n",
    "# decision\n",
    "capacity = 84\n",
    "\n",
    "#we can now call the function with an array parameter returning an array of profits\n",
    "profit = total_profit_b(capacity,demands)\n",
    "\n",
    "expected_profit = np.mean(profit)\n",
    "\n",
    "print(f'The estimated expected profit is: {expected_profit:.2f}')"
   ]
  },
  {
   "cell_type": "markdown",
   "metadata": {
    "slideshow": {
     "slide_type": "slide"
    }
   },
   "source": [
    "**Task:**\n",
    "\n",
    "Compare the outcome distributions from the optimal decisions for both production technologies:\n",
    "- compute the best outcome distribution for each of the technologies (either using enumeration or scipy optimize)\n",
    "- which outcome distribution has a higher probability of losing money?\n",
    "- does one of the distributions stochastically dominate the other?\n"
   ]
  },
  {
   "cell_type": "code",
   "execution_count": 178,
   "metadata": {
    "slideshow": {
     "slide_type": "-"
    }
   },
   "outputs": [],
   "source": [
    "def neg_expected_profit_b(capacity, demands):\n",
    "    return -1*np.mean(total_profit_b(capacity,demands))\n",
    "\n",
    "result_b = minimize(neg_expected_profit_b, 100, args=(demands))\n",
    "\n",
    "total_profits_a = total_profit(result.x[0],demands)\n",
    "total_profits_b= total_profit_b(result_b.x[0],demands)"
   ]
  },
  {
   "cell_type": "code",
   "execution_count": null,
   "metadata": {
    "slideshow": {
     "slide_type": "-"
    }
   },
   "outputs": [],
   "source": []
  },
  {
   "cell_type": "code",
   "execution_count": null,
   "metadata": {
    "slideshow": {
     "slide_type": "-"
    }
   },
   "outputs": [],
   "source": []
  },
  {
   "cell_type": "markdown",
   "metadata": {
    "slideshow": {
     "slide_type": "slide"
    }
   },
   "source": [
    "## Exercise, Continued \n",
    "Now consider a combination of both technologies, that is, you may install both technology A and B. \n",
    "\n",
    "Since B has a lower profit contribution, you assume that if  both technologies are installed, first A is used to produce up to the installed capacity. If there is demand left, that demand is satisfied by technology B until the installed capacity of B is exhausted.\n",
    "\n",
    "What is the best combination of technologies A and B in terms of expected total profit? Is B used at all? \n",
    "\n",
    "See a solution below\n"
   ]
  },
  {
   "cell_type": "code",
   "execution_count": 154,
   "metadata": {
    "slideshow": {
     "slide_type": "-"
    }
   },
   "outputs": [
    {
     "name": "stdout",
     "output_type": "stream",
     "text": [
      "Best A: 76, best b 10, estimated expected profit is: 685.66\n"
     ]
    }
   ],
   "source": [
    "capacityA = 80\n",
    "capacityB = 20\n",
    "\n",
    "@vectorize\n",
    "def total_profit_both(capacityA, capacityB, demand):\n",
    "    capacity_cost =  -30*capacityA -20 *capacityB \n",
    "    soldA =  min(capacityA, demand)  \n",
    "    soldB =  min(capacityB, demand-soldA)\n",
    "    return capacity_cost + 40*soldA + 28*soldB\n",
    "\n",
    "best_profit = 0\n",
    "best_A = 0\n",
    "best_B = 0\n",
    "for capA in np.arange(160):\n",
    "    for capB in np.arange(160):\n",
    "        profit = np.mean(total_profit_both(capA,capB,demands))\n",
    "        if profit > best_profit:            \n",
    "            best_combined_distribution = total_profit_both(capA,capB,demands)\n",
    "            best_profit = profit\n",
    "            best_A = capA\n",
    "            best_B = capB            \n",
    "print(f'Best A: {best_A}, best b {best_B}, estimated expected profit is: {best_profit:.2f}')"
   ]
  },
  {
   "cell_type": "markdown",
   "metadata": {
    "slideshow": {
     "slide_type": "slide"
    }
   },
   "source": [
    "**Task:**\n",
    "\n",
    "Compare the outcome distributions from the optimal decisions for only using the original techology and for the combination of  both production technologies computed using the code above!\n",
    "- modify the code from the cell above to also store the best profit distribution\n",
    "- compute the best outcome distribution for each of the technologies (either using enumeration or scipy optimize)\n",
    "- which outcome distribution has a higher probability of losing money?\n",
    "- does one of the distributions stochastically dominate the other?\n"
   ]
  },
  {
   "cell_type": "code",
   "execution_count": null,
   "metadata": {
    "slideshow": {
     "slide_type": "-"
    }
   },
   "outputs": [],
   "source": []
  },
  {
   "cell_type": "markdown",
   "metadata": {
    "slideshow": {
     "slide_type": "slide"
    }
   },
   "source": [
    "# Risk-Oriented Decision Making under Uncertainty"
   ]
  },
  {
   "cell_type": "markdown",
   "metadata": {
    "slideshow": {
     "slide_type": "slide"
    }
   },
   "source": [
    "## Risk-Oriented Decision Making under Uncertainty\n",
    "\n",
    "In the last part, we learned that \n",
    "\n",
    "- **decision making under uncertainty means shaping distributions**\n",
    "\n",
    "In this part, we deal with approaches for influencing the shapes of distribitions, mainly in a way that follows risk preferences:\n",
    "- penalizing shortfalls below targets\n",
    "- utility theory: utility functions as objective functions\n",
    "- mean-risk objectives based on risk measures"
   ]
  },
  {
   "cell_type": "markdown",
   "metadata": {
    "slideshow": {
     "slide_type": "slide"
    }
   },
   "source": [
    "# Shaping Distributions by Penalizing Shortfalls"
   ]
  },
  {
   "cell_type": "markdown",
   "metadata": {
    "slideshow": {
     "slide_type": "slide"
    }
   },
   "source": [
    "## Shaping Distributions by Penalizing Shortfalls\n",
    "\n",
    "\n",
    "**Idea: Set target values and penalize the violations / shortfall**\n",
    "- as soon the target is violated, the shortfall is penalized with a\n",
    "  weight $\\lambda$\n",
    "- can be used to reduce risk of obtaining bad or negative outcomes"
   ]
  },
  {
   "cell_type": "markdown",
   "metadata": {
    "slideshow": {
     "slide_type": "fragment"
    }
   },
   "source": [
    "**Example for our case study:**\n",
    "- say we'd like to penalize total profits smaller than \\\\$500k\n",
    "- we can change our objective function $f$ to $f'$ as follows:\n",
    "\n",
    "$$f'(x,d) = f(x,d) - \\lambda \\max(500 - f(x,d), 0)$$\n",
    "\n",
    "For deciding under demand uncertainty, we then then maximize the **expected value  $E(f'(x,D))$** instead of maximizing $E(f(x,D))$\n",
    "\n",
    "In Python:"
   ]
  },
  {
   "cell_type": "code",
   "execution_count": 182,
   "metadata": {
    "slideshow": {
     "slide_type": "-"
    }
   },
   "outputs": [],
   "source": [
    "target_profit = 500\n",
    "shortfall_penalty = 2\n",
    "\n",
    "@vectorize\n",
    "def total_profit_and_shortfall_penalty(capacity,demand, target_profit, shortfall_penalty):\n",
    "    profit = -30*capacity + 40* min(capacity, demand)\n",
    "    return profit - shortfall_penalty * max(target_profit - profit, 0)\n",
    "\n",
    "    "
   ]
  },
  {
   "cell_type": "markdown",
   "metadata": {
    "slideshow": {
     "slide_type": "slide"
    }
   },
   "source": [
    "## Optimizing the Shortfall-based Penalty\n",
    "\n",
    "**Let us optimize for the shortfall-based penalty**\n",
    "\n",
    "Recall that the optimal decision in the risk-neutral case is $\\approx$ 83.\n",
    "\n",
    "Using $f'$ as optimization criterion, a target value of 500  and a penalty of 2, we get the following result:\n",
    "\n"
   ]
  },
  {
   "cell_type": "code",
   "execution_count": 185,
   "metadata": {
    "slideshow": {
     "slide_type": "-"
    }
   },
   "outputs": [
    {
     "name": "stdout",
     "output_type": "stream",
     "text": [
      "Given a target value of 500 and a shortfall penalty lambda= 1, the optimal capacity decision is 75.95\n"
     ]
    }
   ],
   "source": [
    "# not that we negate the function here since we'd like to use minimize\n",
    "\n",
    "def neg_expected_total_profit_and_shortfall_penalty(capacity, demands, target_profit, shortfall_penalty):\n",
    "    return -np.mean(total_profit_and_shortfall_penalty(capacity, demands, target_profit, shortfall_penalty))\n",
    "\n",
    "shortfall_penalty = 1\n",
    "result = minimize(neg_expected_total_profit_and_shortfall_penalty,100,args=(demands, 500, shortfall_penalty))\n",
    "\n",
    "print(f'Given a target value of {target_profit} and a shortfall penalty lambda= {shortfall_penalty}, the optimal capacity decision is {result.x[0]:.2f}')"
   ]
  },
  {
   "cell_type": "markdown",
   "metadata": {
    "slideshow": {
     "slide_type": "fragment"
    }
   },
   "source": [
    "A penalty of 4 is even more risk averse:"
   ]
  },
  {
   "cell_type": "code",
   "execution_count": 38,
   "metadata": {
    "slideshow": {
     "slide_type": "-"
    }
   },
   "outputs": [
    {
     "name": "stdout",
     "output_type": "stream",
     "text": [
      "Given a target value of 500 and a shortfall penalty lambda= 4, the optimal capacity decision is 64.42\n"
     ]
    }
   ],
   "source": [
    "shortfall_penalty = 4\n",
    "result = minimize(neg_expected_total_profit_and_shortfall_penalty,100,args=(demands, 500, shortfall_penalty))\n",
    "\n",
    "print(f'Given a target value of {target_profit} and a shortfall penalty lambda= {shortfall_penalty}, the optimal capacity decision is {result.x[0]:.2f}')"
   ]
  },
  {
   "cell_type": "markdown",
   "metadata": {
    "slideshow": {
     "slide_type": "slide"
    }
   },
   "source": [
    "# Utility Functions / Utility Theory"
   ]
  },
  {
   "cell_type": "markdown",
   "metadata": {
    "slideshow": {
     "slide_type": "slide"
    }
   },
   "source": [
    "## Utility Functions\n",
    "\n",
    "In **utility theory**, the results of decisions are valued\n",
    "by a utility function $u$.\n",
    "- for a given decision $x$ and deterministic parameters $d$, we can then use $u(f(x,d))$ for evaluating a decision\n",
    "- for decisions under uncertainty, we maximize the **expected utility** $E(u(f(x,D)))$\n",
    "- an important class of utility functions are **exponential utility functions**\n",
    "\n",
    "$$u(x)=1-e^{-f(x)/R}$$\n",
    "\n",
    "where\n",
    "- $f(x)$ is the (monetary) profit from taking decision $x$ and\n",
    "- $D$ is the (vector) of uncertain parameters\n",
    "- $R$ is the so-called **risk tolerance**\n",
    "- $R$ is the greatest value for which you would take the gamble\n",
    "  - win $R$ with probability 0.5\n",
    "  - lose $R/2$ with probability 0.5\n",
    "\n",
    "In general, the **exponential** utility function assumes that the subjective value of each additional unit of profit decreases with increasing profit\n"
   ]
  },
  {
   "cell_type": "markdown",
   "metadata": {
    "slideshow": {
     "slide_type": "slide"
    }
   },
   "source": [
    "## In our Example:\n",
    "\n",
    "Let us illustrate an exponential utility function for our case study:\n",
    "\n",
    "- we define a function `exponential_utility` that, for a given `risk_tolerance` $R$, returns\n",
    "  - the utility of a single `profit` value or\n",
    "  - an array of utilities if `profit` is an array of profits, e.g. from a Monte Carlo simulation"
   ]
  },
  {
   "cell_type": "code",
   "execution_count": 187,
   "metadata": {
    "hide_input": false,
    "slideshow": {
     "slide_type": "-"
    }
   },
   "outputs": [],
   "source": [
    "from math import exp\n",
    "@vectorize\n",
    "def exponential_utility (profit, risk_tolerance):\n",
    "    return 1-exp(-profit/risk_tolerance)"
   ]
  },
  {
   "cell_type": "markdown",
   "metadata": {
    "slideshow": {
     "slide_type": "fragment"
    }
   },
   "source": [
    "Let us now plot the the utilies of different total profits for different risk tolerances:"
   ]
  },
  {
   "cell_type": "code",
   "execution_count": 42,
   "metadata": {
    "hide_input": true,
    "scrolled": true,
    "slideshow": {
     "slide_type": "-"
    }
   },
   "outputs": [
    {
     "data": {
      "image/png": "[encoded data removed]",
      "text/plain": [
       "<Figure size 576x324 with 1 Axes>"
      ]
     },
     "metadata": {
      "needs_background": "light"
     },
     "output_type": "display_data"
    }
   ],
   "source": [
    "risk_tolerances = [100, 300, 1000, 2000]\n",
    "xx = np.linspace(0, 1500)\n",
    "\n",
    "plt.figure(figsize=(8,4.5))\n",
    "for risk_tolerance in risk_tolerances:\n",
    "    yy = exponential_utility (xx, risk_tolerance)\n",
    "    plt.plot(xx, yy, linewidth=2,label = f'R={risk_tolerance}')\n",
    "\n",
    "plt.suptitle('Exponential utility functions for different risk tolerances R')\n",
    "plt.legend()\n",
    "plt.xlabel('Total Profit')\n",
    "plt.ylabel('Utility');"
   ]
  },
  {
   "cell_type": "markdown",
   "metadata": {
    "slideshow": {
     "slide_type": "slide"
    }
   },
   "source": [
    "## Optimizing Expected Utility\n",
    "\n",
    "If we use the utility function for decision-making, we maximize the expected utility, that is:\n",
    "\n",
    "$$\\max_{x \\in X} E(u(f(x,D)))$$\n",
    "\n",
    "In our example, this means that we choose the capacity that give us the outcome / profit distribution with the best expected profit.\n",
    "- to achieve this, we define the following objective function that takes a capacity decision, an array of demand samples and a risk tolerance $R$, and returns a sample approximation of the expected utility:"
   ]
  },
  {
   "cell_type": "code",
   "execution_count": 188,
   "metadata": {
    "slideshow": {
     "slide_type": "-"
    }
   },
   "outputs": [],
   "source": [
    "def expected_exponential_utility_fixed_risk_tolerance (capacity, demands, risk_tolerance):\n",
    "    return np.mean(exponential_utility(total_profit(capacity,demands), risk_tolerance))"
   ]
  },
  {
   "cell_type": "markdown",
   "metadata": {
    "slideshow": {
     "slide_type": "fragment"
    }
   },
   "source": [
    "For use with scipy's `minimize`, we can write the negated objective function as follows:"
   ]
  },
  {
   "cell_type": "code",
   "execution_count": 189,
   "metadata": {
    "slideshow": {
     "slide_type": "-"
    }
   },
   "outputs": [],
   "source": [
    "def neg_expected_exponential_utility_fixed_risk_tolerance (capacity, demands, risk_tolerance):\n",
    "    return -expected_exponential_utility_fixed_risk_tolerance (capacity, demands, risk_tolerance)"
   ]
  },
  {
   "cell_type": "markdown",
   "metadata": {
    "slideshow": {
     "slide_type": "slide"
    }
   },
   "source": [
    "## Results for different risk tolerances\n",
    "\n",
    "Now, we can play with different risk tolerances:\n",
    "- $R$ = 100"
   ]
  },
  {
   "cell_type": "code",
   "execution_count": 190,
   "metadata": {
    "slideshow": {
     "slide_type": "-"
    }
   },
   "outputs": [
    {
     "name": "stdout",
     "output_type": "stream",
     "text": [
      "Given a risk tolerance of 100, the optimal capacity decision is 14.07\n"
     ]
    }
   ],
   "source": [
    "risk_tolerance = 100\n",
    "result = minimize(neg_expected_exponential_utility_fixed_risk_tolerance, 100, args=(demands, risk_tolerance))\n",
    "print(f'Given a risk tolerance of {risk_tolerance}, the optimal capacity decision is {result.x[0]:.2f}')"
   ]
  },
  {
   "cell_type": "markdown",
   "metadata": {
    "slideshow": {
     "slide_type": "fragment"
    }
   },
   "source": [
    "- $R$ = 500"
   ]
  },
  {
   "cell_type": "code",
   "execution_count": 191,
   "metadata": {
    "slideshow": {
     "slide_type": "-"
    }
   },
   "outputs": [
    {
     "name": "stdout",
     "output_type": "stream",
     "text": [
      "Given a risk tolerance of 500, the optimal capacity decision is 64.31\n"
     ]
    }
   ],
   "source": [
    "risk_tolerance = 500\n",
    "result = minimize(neg_expected_exponential_utility_fixed_risk_tolerance, 100, args=(demands, risk_tolerance))\n",
    "print(f'Given a risk tolerance of {risk_tolerance}, the optimal capacity decision is {result.x[0]:.2f}')"
   ]
  },
  {
   "cell_type": "markdown",
   "metadata": {
    "slideshow": {
     "slide_type": "fragment"
    }
   },
   "source": [
    "- $R$ = 1000"
   ]
  },
  {
   "cell_type": "code",
   "execution_count": 192,
   "metadata": {
    "slideshow": {
     "slide_type": "-"
    }
   },
   "outputs": [
    {
     "name": "stdout",
     "output_type": "stream",
     "text": [
      "Given a risk tolerance of 1000, the optimal capacity decision is 74.13\n"
     ]
    }
   ],
   "source": [
    "risk_tolerance = 1000\n",
    "result = minimize(neg_expected_exponential_utility_fixed_risk_tolerance, 100, args=(demands, risk_tolerance))\n",
    "print(f'Given a risk tolerance of {risk_tolerance}, the optimal capacity decision is {result.x[0]:.2f}')"
   ]
  },
  {
   "cell_type": "markdown",
   "metadata": {
    "slideshow": {
     "slide_type": "slide"
    }
   },
   "source": [
    "# Deciding / Optimizing with Risk Measures"
   ]
  },
  {
   "cell_type": "markdown",
   "metadata": {
    "slideshow": {
     "slide_type": "slide"
    }
   },
   "source": [
    "## The Value at Risk\n",
    "\n",
    "**The q%-Value at Risk (VaR$_q$) of an outcome distribution G**\n",
    "- is the outcome value separating the q% of the worst cases from the 1-q% of the best cases\n",
    "- corresponds to the *q-percentile* or the *q/100 quantile* of $G$\n",
    "- VaR is a risk measure often used in the financial industry and in risk reporting"
   ]
  },
  {
   "cell_type": "markdown",
   "metadata": {
    "slideshow": {
     "slide_type": "fragment"
    }
   },
   "source": [
    "**Given a set of |S| samples from $G$, VaR$_q$(G) can be obtained by**\n",
    "- sorting the sample values $g_s$ in an increasing order and\n",
    "- selecting the sample with first index that is greater than $q/100|S|$\n",
    "- `numpy` offers functions for computing quantiles / percentiles:"
   ]
  },
  {
   "cell_type": "code",
   "execution_count": 48,
   "metadata": {
    "slideshow": {
     "slide_type": "-"
    }
   },
   "outputs": [
    {
     "name": "stdout",
     "output_type": "stream",
     "text": [
      "For a capacity decision of 83 , the 5 percent value at risk is -129.79\n"
     ]
    }
   ],
   "source": [
    "capacity = 83\n",
    "total_profit_samples = total_profit(capacity,demands)\n",
    "q = 5\n",
    "var_q = np.percentile(total_profit_samples, q)\n",
    "\n",
    "print(f\"For a capacity decision of {capacity} , the {q} percent value at risk is {var_q:0.2f}\")\n"
   ]
  },
  {
   "cell_type": "markdown",
   "metadata": {
    "slideshow": {
     "slide_type": "slide"
    }
   },
   "source": [
    "## Conditional Value at Risk\n",
    "\n",
    "A **disadvantage** of VaR is that it does not consider **how bad** the outcomes below the VaR are\n",
    "\n",
    "\n",
    "This is overcome by the **Conditional Value at Risk** (CVar). The **q%-CVaR (CVaR$_q$)** corresponds to\n",
    "- the average / expected value of the distribution of values below VaR\n",
    "- it is also called **Expected Shortfall**\n",
    "\n",
    "**Given a set of |S| samples from $G$, CVaR$_q$(G) can be approximated by**\n",
    "- taking the average of all samples $g_s$ falling below  VaR\n"
   ]
  },
  {
   "cell_type": "code",
   "execution_count": 49,
   "metadata": {},
   "outputs": [
    {
     "name": "stdout",
     "output_type": "stream",
     "text": [
      "For a capacity decision of 83 , the 5 percent conditional value at risk is -539.30\n"
     ]
    }
   ],
   "source": [
    "total_profit_below_var = total_profit_samples[total_profit_samples <= var_q] \n",
    "cvar_q = total_profit_below_var.mean()\n",
    "print(f\"For a capacity decision of {capacity} , the {q} percent conditional value at risk is {cvar_q:0.2f}\")"
   ]
  },
  {
   "cell_type": "markdown",
   "metadata": {
    "slideshow": {
     "slide_type": "slide"
    }
   },
   "source": [
    "## Value at Risk and Conditional Value at Risk\n",
    "\n",
    "Let us visualize these Value at Risk and Condidtional Value at Risk along with the histogram of the distribution:\n"
   ]
  },
  {
   "cell_type": "code",
   "execution_count": 50,
   "metadata": {
    "hide_input": false,
    "slideshow": {
     "slide_type": "-"
    }
   },
   "outputs": [
    {
     "data": {
      "image/png": "[encoded data removed]",
      "text/plain": [
       "<Figure size 432x288 with 1 Axes>"
      ]
     },
     "metadata": {
      "needs_background": "light"
     },
     "output_type": "display_data"
    }
   ],
   "source": [
    "\n",
    "# plot value at risk according to different\n",
    "\n",
    "\n",
    "count, bins, ignored = plt.hist(total_profit_samples, bins=30, density=True, color='#EEEEEE', edgecolor=\"#AAAAAA\", range =[-1000,1000])\n",
    "\n",
    "plt.suptitle(f'VaR and CVaR for a capacity of {capacity}')\n",
    "plt.axvline(x=var_q, label = f'{q}%-Var')\n",
    "plt.axvline(x=cvar_q, label = f'{q}%-CVar',color='r')\n",
    "plt.xlabel('Total Profit')\n",
    "plt.legend()\n",
    "plt.show()"
   ]
  },
  {
   "cell_type": "markdown",
   "metadata": {
    "slideshow": {
     "slide_type": "slide"
    }
   },
   "source": [
    "## Comparing CVaR and VaR for different capacities\n",
    "\n",
    "Now, we compare VaR and CVaR for two capacity decisions that have almost the same expected total profit: 63 and 100"
   ]
  },
  {
   "cell_type": "code",
   "execution_count": 51,
   "metadata": {
    "hide_input": true,
    "scrolled": false,
    "slideshow": {
     "slide_type": "-"
    }
   },
   "outputs": [
    {
     "data": {
      "image/png": "[encoded data removed]",
      "text/plain": [
       "<Figure size 720x288 with 2 Axes>"
      ]
     },
     "metadata": {
      "needs_background": "light"
     },
     "output_type": "display_data"
    }
   ],
   "source": [
    "values_to_plot = [63, 100]\n",
    "qq = 5\n",
    "\n",
    "fig, axes = plt.subplots(1, len(values_to_plot), figsize=(5*len(values_to_plot), 4), constrained_layout=True, sharey=True)\n",
    "\n",
    "for index in range(len(values_to_plot)):\n",
    "    \n",
    "    capacity =values_to_plot[index]\n",
    "    total_profit_samples = total_profit(capacity,demands)\n",
    "\n",
    "    var_q = np.percentile(total_profit_samples, q)\n",
    "\n",
    "    total_pr_below_var = total_profit_samples[total_profit_samples <= var_q] \n",
    "\n",
    "    \n",
    "    cvar_q = total_pr_below_var.mean()\n",
    "\n",
    "    #print(cvar_q)\n",
    "    \n",
    "    count, bins, ignored = axes[index].hist(total_profit_samples, bins=30, density=True, color='#EEEEEE', edgecolor=\"#AAAAAA\", range =[-1000,1000])\n",
    "    axes[index].set_title(f'VaR and CVaR for a capacity of {capacity}')\n",
    "    axes[index].axvline(x=var_q, label = f'{q}%-Var')\n",
    "    axes[index].axvline(x=cvar_q, label = f'{q}%-CVar',color='r')\n",
    "    axes[index].set_xlabel('Total Profit')\n",
    "    axes[index].legend()\n",
    "\n",
    "#plt.savefig(\"var_and_cvar_comparison.pdf\",bbox_inches=\"tight\")\n",
    "plt.show()\n"
   ]
  },
  {
   "cell_type": "markdown",
   "metadata": {
    "slideshow": {
     "slide_type": "slide"
    }
   },
   "source": [
    "## Mean-Risk Objective\n",
    "\n",
    "For decision making and optimization under uncertainty, we can use risk measures in so-called **mean-risk** objectives:\n",
    "\n",
    "- similar to the shortfall penalty, we augment the objective by adding the risk measure (call it $h(x,D)$ here) with a weight $\\lambda$\n",
    "- the mean-risk objective to be maximized then becomes:\n",
    "\n",
    "$$f^{mean-risk}(x,D) = E(f(x,D)) + \\lambda h(x,D)$$\n",
    "\n",
    "Here, we consider the tow cases VaR and CVaR:\n",
    "\n",
    "$$f^{mean-VaR}(x,D) = E(f(x,D))+ \\lambda \\mathrm{VaR}(x,D)$$\n",
    "\n",
    "$$f^{mean-CVaR}(x,D) = E(f(x,D))+ \\lambda \\mathrm{CVaR}(x,D)$$"
   ]
  },
  {
   "cell_type": "markdown",
   "metadata": {
    "slideshow": {
     "slide_type": "slide"
    }
   },
   "source": [
    "## Exercise: Optimizing Mean-Risk Objectives\n",
    "\n",
    "- implement the mean-risk objectives for VaR and CVaR in Python\n",
    "- solve the capacity planning problem for these two objectives and play with different values of $\\lambda$\n",
    "\n",
    "- **hint:** use a negated objective function and scipy's `minimize` for the optimization"
   ]
  },
  {
   "cell_type": "code",
   "execution_count": null,
   "metadata": {
    "slideshow": {
     "slide_type": "-"
    }
   },
   "outputs": [],
   "source": []
  },
  {
   "cell_type": "markdown",
   "metadata": {
    "slideshow": {
     "slide_type": "slide"
    }
   },
   "source": [
    "## Conclusions\n",
    "\n",
    "In this meeting, we dealt with:\n",
    "- the **fundamental structure of decision making problems under uncertainty**\n",
    "- how to take decision maximizing expected outcome\n",
    "- how to use **unconstrained optimization** for selecting decisions\n",
    "- the **value of proper decision-making under uncertainty**\n",
    "- the **value of information** and its relation to decision-making under uncertainty\n",
    "- the idea that **decision making means shaping distributions** \n",
    "- different ways to **incorporate risk aversion in decision making under uncertainty** \n",
    "\n",
    "**In the next meeting,  we will:**\n",
    "- start discussing how to deal with **uncertainty in (mixed-integer) linear programming**\n"
   ]
  }
 ],
 "metadata": {
  "celltoolbar": "Slideshow",
  "kernelspec": {
   "display_name": "Python [conda env:shift_scheduling]",
   "language": "python",
   "name": "conda-env-shift_scheduling-py"
  },
  "language_info": {
   "codemirror_mode": {
    "name": "ipython",
    "version": 3
   },
   "file_extension": ".py",
   "mimetype": "text/x-python",
   "name": "python",
   "nbconvert_exporter": "python",
   "pygments_lexer": "ipython3",
   "version": "3.9.12"
  }
 },
 "nbformat": 4,
 "nbformat_minor": 4
}
