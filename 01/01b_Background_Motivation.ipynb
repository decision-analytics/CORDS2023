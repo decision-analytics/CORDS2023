{
 "cells": [
  {
   "cell_type": "markdown",
   "metadata": {
    "slideshow": {
     "slide_type": "slide"
    }
   },
   "source": [
    "\n",
    "<img src=\"img/logo_wiwi_en_.png\" width=\"30%\" align=\"left\">\n",
    "\n",
    "<img src=\"img/decision_analytics_logo.png\" width=\"17%\" align=\"right\">\n",
    "\n",
    "\n",
    "\n",
    "<br><br><br><br><br><br><br><br>\n",
    "\n",
    "\n",
    "\n",
    "# Combining OR and Data Science\n",
    "\n",
    "**Summer Term 2023**\n",
    "\n",
    "\n",
    "# 1.b  Background and Motivation\n",
    "\n",
    "\n",
    "\n",
    "\n",
    "<br>\n",
    "\n",
    "<br>\n",
    "<br>\n",
    "\n",
    "**J-Prof. Dr. Michael Römer, Till Porrmann, Mohsen Nafar**\n",
    "\n",
    "**Decision Analytics Group  | Bielefeld University**\n",
    "                                                    \n"
   ]
  },
  {
   "cell_type": "code",
   "execution_count": 1,
   "metadata": {
    "slideshow": {
     "slide_type": "skip"
    }
   },
   "outputs": [],
   "source": [
    "import matplotlib.pyplot as plt\n",
    "import numpy as np\n",
    "\n",
    "import mip\n",
    "from mip import maximize"
   ]
  },
  {
   "cell_type": "markdown",
   "metadata": {
    "cell_style": "center",
    "slideshow": {
     "slide_type": "slide"
    }
   },
   "source": [
    "## Outline\n",
    "\n",
    "- Operations Research and Data Science: A short review\n",
    "- Combining OR and Data Science\n",
    "- Examples for Combining OR and Data Science\n"
   ]
  },
  {
   "cell_type": "markdown",
   "metadata": {
    "slideshow": {
     "slide_type": "slide"
    }
   },
   "source": [
    "## Operations Research - What is that?\n",
    "\n",
    "<div class=\"alert alert-block alert-info\">   \n",
    "    \n",
    "<b> \"Operations Research is the application of scientific and mathematical methods to the study and analysis of problems involving complex systems\" </b> \n",
    "    INFORMS (Institute for Operations Research and the Management Sciences) </div>\n",
    "\n",
    "<center>\n",
    "<img src=\"img/or_process.png\" width=\"60%\" >\n",
    "</center>"
   ]
  },
  {
   "cell_type": "markdown",
   "metadata": {
    "slideshow": {
     "slide_type": "slide"
    }
   },
   "source": [
    "## Simple Example: Manufacturing Belts\n",
    "\n",
    "Consider the following toy case study: Planning the daily production for small\n",
    "company that manufacture two types of belts: A and B\n",
    "- The contribution margin is \\\\$2 for an A-belt and \\\\$1.5 for a B-belt.\n",
    "- The full production can be sold to a small chain of shops.\n",
    "- Producing a belt of type A takes twice as long as producing one of type\n",
    "B, and the total time available in that day would allow producing 1000\n",
    "belts of type B if only B-belts were produced.\n",
    "- Both types of belts require the same amount of leather, and there is\n",
    "enough leather to produce 800 belts.\n",
    "- The total number that can be produced per type is limited by the number\n",
    "of available bucks: The company has 400 bucks for type A and 700 bucks\n",
    "for type B.\n",
    "\n",
    "\n",
    "<div class=\"alert alert-block alert-info\">   \n",
    "   <b> Create an LP model that determines the number of belts from each type to\n",
    "produce if the shop aims at maximizing the total contribution margin!\n",
    " </b> \n",
    "  </div>\n"
   ]
  },
  {
   "cell_type": "markdown",
   "metadata": {
    "slideshow": {
     "slide_type": "slide"
    }
   },
   "source": [
    "## Belt Manufacturing: LP Formulation\n",
    "\n",
    "**Set**\n",
    "- $I = \\{A,B\\}$ belt types\n",
    "\n",
    "**Decision Variables**\n",
    "- $x_i$: number of belts to produce from type $i$\n",
    "\n",
    "$$\n",
    "\\begin{align*}\n",
    "        \\max \\;          2x_A +1.5x_B  \\\\                  \n",
    "        \\text{s.t.} \\;   2x_A + x_B &\\leq 1000 \\\\\n",
    "\t\t    \t   x_A + x_B &\\leq 800 \\\\\n",
    "\t\t    \t   0 \\leq x_A &\\leq 400 \\\\\n",
    "\t\t    \t   0 \\leq x_B &\\leq 700 \n",
    "\\end{align*}\n",
    "$$"
   ]
  },
  {
   "cell_type": "markdown",
   "metadata": {
    "slideshow": {
     "slide_type": "slide"
    }
   },
   "source": [
    "## Belt Manufacturing: Python Implementation\n",
    "\n",
    "- set up the model data:"
   ]
  },
  {
   "cell_type": "code",
   "execution_count": 2,
   "metadata": {
    "slideshow": {
     "slide_type": "-"
    }
   },
   "outputs": [],
   "source": [
    "#Data\n",
    "belt_types = [0,1]\n",
    "profit_contribution = [2, 1.5]\n",
    "time_consumption = [2, 1]\n",
    "time_available = 1000\n",
    "leather_available = 800\n",
    "bucks_available = [400, 700]"
   ]
  },
  {
   "cell_type": "markdown",
   "metadata": {
    "slideshow": {
     "slide_type": "slide"
    }
   },
   "source": [
    "## Belt Manufacturing: Python Implementation\n",
    "\n",
    "- set up the model in Python-MIP:"
   ]
  },
  {
   "cell_type": "code",
   "execution_count": 3,
   "metadata": {
    "slideshow": {
     "slide_type": "-"
    }
   },
   "outputs": [],
   "source": [
    "m = mip.Model(\"Belt_Manufacturing\") # Create a new model\n",
    "\n",
    "#decision variables: Observe: The upper bound is already there\n",
    "production = [m.add_var(name= f\"production{b}\", lb=0, ub=bucks_available[b]) for b in belt_types]\n",
    "# objective function\n",
    "m.objective = maximize( sum ( profit_contribution[b]*production[b] for b in belt_types ) )\n",
    "# constraints\n",
    "m += sum(time_consumption[b]*production[b] for b in belt_types) <= time_available\n",
    "m += sum(production[b] for b in belt_types) <= leather_available"
   ]
  },
  {
   "cell_type": "markdown",
   "metadata": {
    "slideshow": {
     "slide_type": "fragment"
    }
   },
   "source": [
    "- solve the model and print results"
   ]
  },
  {
   "cell_type": "code",
   "execution_count": 4,
   "metadata": {
    "slideshow": {
     "slide_type": "-"
    }
   },
   "outputs": [
    {
     "name": "stdout",
     "output_type": "stream",
     "text": [
      "Production belt 0: 200.0\n",
      "Production belt 1: 600.0\n",
      "Total Profit: 1300.0\n"
     ]
    }
   ],
   "source": [
    "m.optimize()\n",
    "\n",
    "production_decisions = [production[b].x for b in belt_types]\n",
    "for b in belt_types:\n",
    "    print(f'Production belt {b}: {production[b].x}')\n",
    "print(f'Total Profit: {m.objective_value}' )"
   ]
  },
  {
   "cell_type": "markdown",
   "metadata": {
    "cell_style": "center",
    "hide_input": true,
    "slideshow": {
     "slide_type": "slide"
    }
   },
   "source": [
    "### Data Science\n",
    "\n",
    "\n",
    "\n",
    "<center>\n",
    "<img src=\"img/ds_process.png\" width=\"60%\" >\n",
    "</center>\n",
    "\n",
    "Source: \"Doing Data Science\" by Schutt &O'Neil (2013)"
   ]
  },
  {
   "cell_type": "markdown",
   "metadata": {
    "slideshow": {
     "slide_type": "slide"
    }
   },
   "source": [
    "## Data Science: Some Relevant Terms\n",
    "\n",
    "- **Machine learning** is a field of computer science that uses statistical techniques to give computer systems the ability to *learn* (e.g., progressively improve performance on a specific task) with data, without being explicitly programmed – *Wikipedia*\n",
    "\n",
    "\n",
    "\n",
    "- **Data mining** is the process of discovering patterns in large data\n",
    "sets involving methods at the intersection of machine learning,\n",
    "statistics, and database systems. – *Wikipedia*\n",
    "\n",
    "\n",
    "- **Predictive modeling:** the process of developing a mathematical\n",
    "tool or model that generates an accurate prediction. – *Applied Predictive Modeling*\n",
    "\n",
    "\n",
    "- **Predictive analytics** encompasses a variety of statistical techniques from data mining, predictive modelling, and machine learning, that analyze current and historical facts to make predictions about future or otherwise unknown events. - *Wikipedia*\n",
    "\n",
    "\n",
    "<div class=\"alert alert-block alert-info\">   \n",
    "   <b> An exact differentiation of the terms is not possible because many overlaps exist.\n",
    " </b> \n",
    "  </div>"
   ]
  },
  {
   "cell_type": "markdown",
   "metadata": {
    "slideshow": {
     "slide_type": "slide"
    }
   },
   "source": [
    "## Machine Learning\n",
    "\n",
    "- **Supervised learning:** A training set of examples with the correct\n",
    "responses (targets) is provided and, based on this training set,\n",
    "the algorithm generalizes to respond correctly to all possible\n",
    "inputs. This is also called learning from examples.\n",
    "\n",
    "\n",
    "- **Unsupervised learning:** Correct responses are not provided, but\n",
    "instead the algorithm tries to identify similarities between the\n",
    "inputs so that inputs that have something in common are cat-\n",
    "egorized together. The statistical approach to unsupervised\n",
    "learning is known as density estimation.\n",
    "\n",
    "Source: *Machine Learning: An Algorithmic Perspective*"
   ]
  },
  {
   "cell_type": "markdown",
   "metadata": {
    "slideshow": {
     "slide_type": "slide"
    }
   },
   "source": [
    "## Belt Example: Uncertain Machine Availability\n",
    "The machine that is needed for producing the belts sometimes has\n",
    "failures that lead to reduced available machine time. Fortunately,\n",
    "the company has collected lots of data regarding the daily machine\n",
    "availability. The data contains has the following information for\n",
    "each day:\n",
    "- Date, including weekday\n",
    "- Temperature\n",
    "- Humidity\n",
    "- Type of leather used for production\n",
    "- Available time\n",
    "\n",
    "Question\n",
    "\n",
    "<div class=\"alert alert-block alert-info\">   \n",
    "   <b> \n",
    "What kind of ML task do we have here? How can Machine\n",
    "Learning support the production planning decision for the next day?\n",
    "        </b> \n",
    "  </div>"
   ]
  },
  {
   "cell_type": "markdown",
   "metadata": {
    "slideshow": {
     "slide_type": "slide"
    }
   },
   "source": [
    "### Data Analytics\n",
    "\n",
    "> “Analysis of data, also known as data analytics, is a process of\n",
    "inspecting, cleansing, transforming, and modeling data with the\n",
    "goal of discovering useful information, suggesting conclusions, and\n",
    "supporting decision-making” – Wikipedia\n",
    "\n",
    "#### What we will consider in this course:\n",
    "\n",
    "- Aggregate and inspect data to help make operational decisions\n",
    "-  Influence our OR models with aggregated/transformed data\n",
    "- Allow OR techniques to make data-driven decisions on their\n",
    "own\n"
   ]
  },
  {
   "cell_type": "markdown",
   "metadata": {
    "slideshow": {
     "slide_type": "slide"
    }
   },
   "source": [
    "### Interfaces between OR and DS\n",
    "- DS can feed OR models with parameters or even structural\n",
    "elements such as constraints\n",
    "- DS techniques are often instrumental in algorithm\n",
    "development and during execution\n",
    "- Data collection and machine learning for online / dynamic OR\n",
    "models\n",
    "  - → Reinforcement Learning / Approximate Dynamic\n",
    "Programming\n",
    "- Optimization (models) form(s) the basis for many data mining\n",
    "and machine learning methods\n"
   ]
  },
  {
   "cell_type": "markdown",
   "metadata": {
    "slideshow": {
     "slide_type": "slide"
    }
   },
   "source": [
    "### Belt Manufacturing Example: Predict, then Optimize?\n",
    "One obvious way for combining OR and Data Science in the belt\n",
    "manufacturing example:\n",
    "- Train a regression model that predicts machine availability\n",
    "from data\n",
    "-  For a given planning problem (say for the next day) take all\n",
    "available information (e.g. weather forecast, leather type) and\n",
    "predict the expected availability\n",
    "- Use that availability as a parameter in the optimization model\n",
    "\n",
    "\n",
    "<div class=\"alert alert-block alert-info\">   \n",
    "<b> Is this the best way of dealing with the described problem?     </b> \n",
    "  </div>\n",
    "\n",
    "**Learning to answer this question is a key part of this course!**\n"
   ]
  },
  {
   "cell_type": "markdown",
   "metadata": {
    "cell_style": "center",
    "slideshow": {
     "slide_type": "slide"
    }
   },
   "source": [
    "# Some more Complex Examples"
   ]
  },
  {
   "cell_type": "markdown",
   "metadata": {
    "slideshow": {
     "slide_type": "slide"
    }
   },
   "source": [
    "## Example 1: Liner Shipping Service Design\n",
    "\n",
    "- Paper from Kevin Tierney et al. (2019)\n",
    "- **Goal:** Design liner shipping services with an **on-time-guarantee**\n",
    "<center>\n",
    "<img src=\"img/liner_ship.png\" width=\"60%\" >\n",
    "</center>\n",
    "\n"
   ]
  },
  {
   "cell_type": "markdown",
   "metadata": {
    "slideshow": {
     "slide_type": "slide"
    }
   },
   "source": [
    "## Example 1: Liner Shipping Service Design\n",
    "\n",
    "**Key Problem Feature:** Uncertainty:\n",
    "- The sailing time between two ports depends on varying\n",
    "environmental conditions and is thus an uncertain parameter\n",
    "\n",
    "\n",
    "**Naïve approach: Predict-then-Optimize**\n",
    "- Use a single point forecast (typically the expected value) for every uncertain parameter\n",
    "- Solve a deterministic optimization model\n",
    "\n",
    "$\\rightarrow$ Very common approach that often leads to suboptimal and\n",
    "non-robust solutions\n",
    "\n",
    "**Better approach:** Account for uncertainty in the OR model\n",
    "- Use DS techniques to quantify uncertainty, e.g. in form of\n",
    "probability distributions\n",
    "- Feed this information into a stochastic optimization model\n",
    "\n",
    "\n"
   ]
  },
  {
   "cell_type": "markdown",
   "metadata": {
    "slideshow": {
     "slide_type": "slide"
    }
   },
   "source": [
    "## Example 1: Liner Shipping Service Design\n",
    "\n",
    "<div class=\"alert alert-block alert-info\">   \n",
    "<b> Say we have an optimization model to design liner shipping routes.\n",
    "How can we guarantee that ships will be on time with a given\n",
    "probability?  </b> \n",
    "  </div>\n",
    "  \n",
    "  "
   ]
  },
  {
   "cell_type": "markdown",
   "metadata": {
    "slideshow": {
     "slide_type": "fragment"
    }
   },
   "source": [
    "**The question, reformulated:**\n",
    "<div class=\"alert alert-block alert-info\">  \n",
    "<b> What distribution best represents the sailing time of container\n",
    "ships between ports?\n",
    "    <br>\n",
    "How can we use that distribution in an optimization model? </b> \n",
    "  </div>"
   ]
  },
  {
   "cell_type": "markdown",
   "metadata": {
    "slideshow": {
     "slide_type": "slide"
    }
   },
   "source": [
    "## Travel Time Data: Single Connection\n",
    "\n",
    "<center>\n",
    "<img src=\"img/travel_time_sing_suez.png\" width=\"60%\" >\n",
    "</center>\n",
    "\n",
    "- empirical travel time from Singapore to Suez"
   ]
  },
  {
   "cell_type": "markdown",
   "metadata": {
    "slideshow": {
     "slide_type": "slide"
    }
   },
   "source": [
    "## Travel Time Data: Aggregation of Connections within Europe\n",
    "\n",
    "<center>\n",
    "<img src=\"img/travel_time_europe.png\" width=\"60%\" >\n",
    "</center>\n",
    "\n",
    "- deviation from the mean travel time for each connection"
   ]
  },
  {
   "cell_type": "markdown",
   "metadata": {
    "slideshow": {
     "slide_type": "slide"
    }
   },
   "source": [
    "## And where’s the OR?\n",
    "- These distributions obtained with DS techniques can now be\n",
    "used in an OR model for designing services by using a\n",
    "so-called chance constraint\n",
    "$$x_i + t^\\alpha_{ij} \\leq x_j + M(1 − y_{ij})$$\n",
    "\n",
    "#### Decision Variables and Parameters:\n",
    "- $x_i$ – Time at port $i$\n",
    "- $y_{ij}$ – Ship sails from i to j?\n",
    "- $t^\\alpha_{ij}$ – Minimum buffer needed for service level α\n",
    "\n",
    "\n",
    "$t^\\alpha_{ij}$ is the inverse CDF value at α of the given distributiom"
   ]
  },
  {
   "cell_type": "markdown",
   "metadata": {
    "slideshow": {
     "slide_type": "slide"
    }
   },
   "source": [
    "### Does it help?\n",
    "\n",
    "Using a simulation, the services obtained with the chance\n",
    "constraint-model were compared to those obtained with a\n",
    "deterministic model. The key results are:\n",
    "- Using the chance constraint model results in a big reduction\n",
    "in delays\n",
    "- In order to achieve this, more vessels were needed\n",
    "- By running the evaluation with different distributions and\n",
    "service levels, the decision makers can try finding their sweet\n",
    "spot in the trade-off between service level and cost\n",
    "\n"
   ]
  },
  {
   "cell_type": "markdown",
   "metadata": {
    "slideshow": {
     "slide_type": "slide"
    }
   },
   "source": [
    "## Example 2: Speeding Up CPLEX with Machine Learning\n",
    "**IBM CPLEX**\n",
    "- One of the leading commercial Mixed Integer Programming\n",
    "solvers\n",
    "- In  release 12.10, they significantly improved the Mixed Integer *Quadratic* Programming performance employing Machine Learning \n",
    "\n",
    "**Mixed Integer Quadratic Programming (MIQP)**\n",
    "- Considers Mixed Integer Programs with quadratic terms in the objective function\n",
    "- In practice, harder to solve than Mixed Integer Linear Programming (MILP) problems\n",
    "\n",
    "Source: P. Bonami, A. Lodi, G. Zarpellon (2019)"
   ]
  },
  {
   "cell_type": "markdown",
   "metadata": {
    "slideshow": {
     "slide_type": "slide"
    }
   },
   "source": [
    "# Example 2: Speeding Up CPLEX with Machine Learning\n",
    "\n",
    "**Binary quadratic terms** can be addressed in two alternative ways:\n",
    "- Linearize by applying a well-known reformulation technique and solve as linear problem\n",
    "-Do not linearize and directly solve the quadratic problem\n",
    "..none of the two dominates the other\n",
    "\n",
    "**Idea:** Train a classifier to predict the favorable approach\n",
    "- SVM classifier based on 21 instance features and an estimation of the objective function difference of the two formulations\n",
    "- The classifier has an accuracy of 79 % \n",
    "- Average reduction of solution time of 49% on average for non-trivial instances\n",
    "\n"
   ]
  },
  {
   "cell_type": "markdown",
   "metadata": {
    "slideshow": {
     "slide_type": "slide"
    }
   },
   "source": [
    "## Example 3: Learning to Reduce MIP Models\n",
    "**State-Expanded Network Formulations for Personnel Scheduling**\n",
    "- in such a network, nodes are associated with states (e.g. number of hours worked), arcs are associated with assignments (e.g. a working from 2 to 4 pm) in a way that each path in the network corresponds to a feasible shift\n",
    "\n",
    "<center>\n",
    "<img src=\"img/sen.png\" width=\"60%\" >\n",
    "</center>\n",
    "\n"
   ]
  },
  {
   "cell_type": "markdown",
   "metadata": {
    "slideshow": {
     "slide_type": "slide"
    }
   },
   "source": [
    "## Example 3: Learning to Reduce MIP Models\n",
    "**State-Expanded Network Formulations**\n",
    "- networks are used in MIP models as network flow components\n",
    "- the models are very strong (there is a small LP-IP gap), but also very large\n",
    "\n",
    "**Idea: Train regression model that predicts which part of the\n",
    "network are important and which parts can be left out**\n",
    "- training with optimal solutions for different (but similar) instances\n",
    "- substantial reduction of model size\n",
    "- much faster solution time (only 15 % of the original time), only very small loss in solution quality (much less than 1 % on average)\n",
    "\n",
    "Source: T. Porrmann and M. Römer (2021)"
   ]
  },
  {
   "cell_type": "markdown",
   "metadata": {
    "slideshow": {
     "slide_type": "slide"
    }
   },
   "source": [
    "## Conclusion\n",
    "\n",
    "**What we did today: We**...\n",
    "- Motivated topics of the course\n",
    "- Investigated data analytics and decision making\n",
    "- Learned something about ships, solving MIPQPs, and state-expanded networks\n",
    "\n",
    "**What’s next?**\n",
    "- we may have a short (non-mandatory) tutorial on Python and Jupyter\n",
    "- next week we will start Part 1 of the course with the first block\n",
    "\n"
   ]
  },
  {
   "cell_type": "markdown",
   "metadata": {
    "slideshow": {
     "slide_type": "slide"
    }
   },
   "source": [
    "## References\n",
    "**Liner Shipping Example**\n",
    "\n",
    "Tierney K, Ehmke JF, Campbell AM, Müller D (2019) *Liner shipping\n",
    "single service design problem with arrival time service levels.* Flexible\n",
    "Services and Manufacturing Journal 31(3):620–652.\n",
    "\n",
    "**IBM CPLEX Example**\n",
    "\n",
    "Bonami P, Lodi A, Zarpellon G (2018) Learning a Classifi- cation of\n",
    "Mixed-Integer Quadratic Programming Problems. *Lecture Notes in\n",
    "Computer Science 10848*, Springer, 595–604.\n",
    "\n",
    "**Model Reduction Example**\n",
    "\n",
    "T. Porrmann and M. Römer (2021) Learning to Reduce State-Expanded\n",
    "Networks for Multi-Activity Shift Scheduling, *18th\n",
    "International Conference on the Integration of Constraint Programming,\n",
    "Artificial Intelligence and Operations Research (CPAIOR) 2021, Lecture Notes in\n",
    "Computer Science 12735*, Springer, 383-391."
   ]
  }
 ],
 "metadata": {
  "celltoolbar": "Slideshow",
  "kernelspec": {
   "display_name": "Python [conda env:cords2022]",
   "language": "python",
   "name": "conda-env-cords2022-py"
  },
  "language_info": {
   "codemirror_mode": {
    "name": "ipython",
    "version": 3
   },
   "file_extension": ".py",
   "mimetype": "text/x-python",
   "name": "python",
   "nbconvert_exporter": "python",
   "pygments_lexer": "ipython3",
   "version": "3.9.12"
  },
  "toc": {
   "base_numbering": 1,
   "nav_menu": {},
   "number_sections": false,
   "sideBar": true,
   "skip_h1_title": false,
   "title_cell": "Table of Contents",
   "title_sidebar": "Contents",
   "toc_cell": false,
   "toc_position": {},
   "toc_section_display": true,
   "toc_window_display": false
  },
  "varInspector": {
   "cols": {
    "lenName": 16,
    "lenType": 16,
    "lenVar": 40
   },
   "kernels_config": {
    "python": {
     "delete_cmd_postfix": "",
     "delete_cmd_prefix": "del ",
     "library": "var_list.py",
     "varRefreshCmd": "print(var_dic_list())"
    },
    "r": {
     "delete_cmd_postfix": ") ",
     "delete_cmd_prefix": "rm(",
     "library": "var_list.r",
     "varRefreshCmd": "cat(var_dic_list()) "
    }
   },
   "types_to_exclude": [
    "module",
    "function",
    "builtin_function_or_method",
    "instance",
    "_Feature"
   ],
   "window_display": false
  }
 },
 "nbformat": 4,
 "nbformat_minor": 2
}
