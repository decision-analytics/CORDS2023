{
 "cells": [
  {
   "cell_type": "markdown",
   "metadata": {
    "slideshow": {
     "slide_type": "slide"
    }
   },
   "source": [
    "\n",
    "<img src=\"img/logo_wiwi_en_.png\" width=\"30%\" align=\"left\">\n",
    "\n",
    "<img src=\"img/decision_analytics_logo.png\" width=\"17%\" align=\"right\">\n",
    "\n",
    "\n",
    "\n",
    "<br><br><br><br><br><br><br><br>\n",
    "\n",
    "\n",
    "\n",
    "# Combining OR and Data Science\n",
    "\n",
    "**Summer Term 2022**\n",
    "\n",
    "\n",
    "# 1a. Course Organization\n",
    "\n",
    "\n",
    "\n",
    "\n",
    "<br>\n",
    "\n",
    "<br>\n",
    "<br>\n",
    "\n",
    "**J-Prof. Dr. Michael Römer, Till Porrmann, Mohsen Nafar**\n",
    "\n",
    "**Decision Analytics Group  | Bielefeld University**\n",
    "                                                    \n"
   ]
  },
  {
   "cell_type": "markdown",
   "metadata": {
    "cell_style": "center",
    "slideshow": {
     "slide_type": "slide"
    }
   },
   "source": [
    "## Overview\n",
    "\n",
    "- Getting to know each other\n",
    "- Course Organisation\n",
    "- Examination and Modules\n"
   ]
  },
  {
   "cell_type": "markdown",
   "metadata": {
    "slideshow": {
     "slide_type": "slide"
    }
   },
   "source": [
    "\n",
    "\n",
    "\n",
    "## Decision Analytics\n",
    "\n",
    "<img src=\"img/Wikipedia.png\" width=\"10%\" align=\"right\">\n",
    "\n",
    "\n",
    "\n",
    "**Analytics** is the systematic computational analysis of data or\n",
    "statistics. It is used for the discovery, interpretation, and\n",
    "communication of meaningful patterns in data. \n",
    "\n",
    "\n",
    "It also entails applying\n",
    "data patterns towards effective **decision making**. It can be valuable in\n",
    "areas rich with recorded information; analytics relies on the\n",
    "simultaneous application of statistics, computer programming and\n",
    "operations research to quantify performance.\n",
    "\n",
    "**Source:** Wikipedia"
   ]
  },
  {
   "cell_type": "markdown",
   "metadata": {
    "slideshow": {
     "slide_type": "slide"
    }
   },
   "source": [
    "## Michael Römer"
   ]
  },
  {
   "cell_type": "markdown",
   "metadata": {
    "cell_style": "center",
    "hide_input": true,
    "slideshow": {
     "slide_type": "-"
    }
   },
   "source": [
    "## Short Bio\n",
    "- Studied \"Wirtschaftsinformatik\" (Information Systems) at Paderborn University\n",
    "- PhD from Martin Luther University Halle-Wittenberg \n",
    "  - Topic: Airline Crew Planning and Scheduling \n",
    "- 2017-2019 Postdoctoral research stay in Toronto / Montréal\n",
    "- since December 2019: Junior Professor at Bielefeld University leading the research group Decision Analytics funded by the \"NRW Rückkehrprogramm\""
   ]
  },
  {
   "cell_type": "markdown",
   "metadata": {
    "cell_style": "split",
    "hide_input": true,
    "slideshow": {
     "slide_type": "fragment"
    }
   },
   "source": [
    "## Research: Methods\n",
    "- Mathematical Programming / Combinatorial Optimization\n",
    "- Graph/Network-based Modeling of Optimization Problems\n",
    "- Decision Diagrams / Dynamic Programming\n",
    "- Simulation\n",
    "- Machine Learning (for Optimization)"
   ]
  },
  {
   "cell_type": "markdown",
   "metadata": {
    "cell_style": "split",
    "hide_input": true,
    "slideshow": {
     "slide_type": "fragment"
    }
   },
   "source": [
    "## Research: Application Fields\n",
    "- **Logistics** Airlines, Bike Sharing, Production Logistics\n",
    "- **Personnel Scheduling** Crew Scheduling, Employee Shift Scheduling\n",
    "- **Health Care** Clinical Pathway Planning, Nurse Scheduling,ICU capacity planning"
   ]
  },
  {
   "cell_type": "markdown",
   "metadata": {
    "slideshow": {
     "slide_type": "slide"
    }
   },
   "source": [
    "## Teaching Assistant for this course: Till Porrmann\n",
    "\n",
    "#### PhD Student and Scientific Assistant in the Decision Analytics Group}\n",
    "   \n",
    "- PhD Topic: Decision Analytics for Resource Planning and Scheduling\n",
    "- example Research Paper: \"Learning to Reduce State-Expanded Networks for Multi-Activity Shift Scheduling\"\n",
    "\n",
    "    \n",
    "#### Office Hours for this course: time tba\n",
    "- answering questions regarding the course, giving support with exercises \n",
    "- at the beginning, used for short \"refresher\" tutorials\n",
    "\n",
    "    "
   ]
  },
  {
   "cell_type": "markdown",
   "metadata": {
    "slideshow": {
     "slide_type": "slide"
    }
   },
   "source": [
    "## Teaching Assistant for this course: Mohsen Nafar\n",
    "\n",
    "#### PhD Student and Scientific Assistant in the Decision Analytics Group}\n",
    "   \n",
    "- PhD Topic: Decision Diagrams for Combinatorial Optimization\n",
    "\n",
    "\n",
    "    \n",
    "#### Office Hours for this course: time tba\n",
    "- answering questions regarding the course, giving support with exercises \n",
    "- at the beginning, used for short \"refresher\" tutorials\n",
    "    "
   ]
  },
  {
   "cell_type": "markdown",
   "metadata": {
    "slideshow": {
     "slide_type": "slide"
    }
   },
   "source": [
    "## Getting to Know You\n",
    "\n",
    "- What is your study program?\n",
    "- How many and  which OR courses did you take so far?\n",
    "  - in particular, did you take **Operations Research Models** (Kevin Tierney)?\n",
    "- How many and  which DS/ML modules did you take so far?\n",
    "\n",
    "- Do you have experience with programming in Python?\n",
    "\n"
   ]
  },
  {
   "cell_type": "markdown",
   "metadata": {
    "slideshow": {
     "slide_type": "slide"
    }
   },
   "source": [
    "## Course Goal\n",
    "\n",
    "\n",
    "#### In this course, you will learn\n",
    "- how to combine techniques from Operations Research, Data Science and Machine Learning to\n",
    "- deal with hard decision and optimization problems involving uncertainty and to\n",
    "- select and improve/tune optimization algorithms"
   ]
  },
  {
   "cell_type": "markdown",
   "metadata": {
    "slideshow": {
     "slide_type": "slide"
    }
   },
   "source": [
    "## Teaching and Support Formats\n",
    "\n",
    "#### Teaching...\n",
    "- will in be **in person / presence teaching** \n",
    "- we will have **block meetings** of 2 x 90 minutes, **Tuesdays from 8:30 to 11:45**\n",
    "    - 7 meetings after this one, the **Metaheuristics**-course from Kevin Tierney will happen be held on \"non-CORDS\"-Tuesdays\n",
    "- during these meetings we will have a **mix** of lecture-style content and practical excercises in Python"
   ]
  },
  {
   "cell_type": "markdown",
   "metadata": {
    "slideshow": {
     "slide_type": "fragment"
    }
   },
   "source": [
    "#### Support...\n",
    "- will be provided by **Till Porrmann** and **Mohsen Nafar** in form of \"virtual office hours\" and (voluntary) \"refresher tutorials\" for topics such Python basics, implementing optimization models and machine learning with scikit-learn\n",
    "    "
   ]
  },
  {
   "cell_type": "markdown",
   "metadata": {
    "slideshow": {
     "slide_type": "slide"
    }
   },
   "source": [
    "## Teaching Style\n",
    "- Case Study-driven: Motivating models and techniques from case studies\n",
    "- Focus on intuition and application: Focus is not on formal proofs, but on an application-driven understanding\n",
    "-  Focus on practice: (Almost) all models and techniques will be implemented in Python – you should not only understand what you learn, but be able to apply it, e.g. in project seminars or Master theses\n",
    "- Feedback: Our goal is that you can make most out of the course. To adapt it to your needs, we need your feedback. Feel free to contact us after each lecture, via email or via Matrix"
   ]
  },
  {
   "cell_type": "markdown",
   "metadata": {
    "slideshow": {
     "slide_type": "slide"
    }
   },
   "source": [
    "## Teaching Material\n",
    "\n",
    "#### Jupyter Notebooks as Slides\n",
    "- these slides are \"executable\" Jupyter notebooks\n",
    "- code examples and exercises are included\n",
    "- you can access these notebooks online via Google Colab or Binder, or download them and execute them locally\n",
    ".. please bring your laptop to class!\n",
    "\n",
    "#### In Moodle you will find:\n",
    "- lecture material (slides / Jupyter notebooks)\n",
    "- announcements\n",
    "- homework assignments"
   ]
  },
  {
   "cell_type": "markdown",
   "metadata": {
    "slideshow": {
     "slide_type": "slide"
    }
   },
   "source": [
    "## Structure of the Course\n",
    "\n",
    "#### The course has two main parts:\n",
    "\n",
    "- **Part 1:** Decision-Making and Optimization under Uncertainty (~2/3 of the course) \n",
    "- **Part 2:** Algorithm Selection and Configuration (~1/3 of the course)\n",
    "\n",
    ".. and probably, there will be one guest lecture\n"
   ]
  },
  {
   "cell_type": "markdown",
   "metadata": {
    "slideshow": {
     "slide_type": "slide"
    }
   },
   "source": [
    "## (Tentative)  Schedule for the Course Blocks\n",
    "\n",
    "- the course is held in blocks of 2x90 minutes, **Tuesdays 8:30 to 11:45** (including a 15 min break)\n",
    "- these blocks will take place on  the following days \n",
    "\n",
    "|  Block | Date | Topic |\n",
    "|--:-|:----- |:--|\n",
    "| **1** | **April 11** | Introductory Case Study, Representing and Computing with Uncertain Quantities |\n",
    "| **2** | **April 25**| Obtaining Probability Distributions and Probabilistic Machine Learning |\n",
    "| **3** | **May 9** | Decision Making Under Uncertainty, the Value of Information and Risk Orientation |\n",
    "| **4** | **May 23** | Optimization Under Uncertainty I: Two-Stage Stochastic Programming |\n",
    "| **5** | **June 13** |  Optimization Under Uncertainty II: Chance-Constrained Programming  |\n",
    "| |  | |\n",
    "| **6** | **June 27**  | Machine Learning for Algorithm Selection |\n",
    "| **7** | **July 4** | Algorithm Configuration |\n",
    "\n",
    ".. on (most) other Tuesdays, there will teaching blocks for **Metaheuristics** (Prof. Tierney)"
   ]
  },
  {
   "cell_type": "markdown",
   "metadata": {
    "slideshow": {
     "slide_type": "slide"
    }
   },
   "source": [
    "## Grading / Modules\n",
    "\n",
    "\n",
    "### Grading\n",
    "\n",
    "- this course will have **three graded homework assignments**\n",
    "- the homework assignments have to be prepared and handed in individually (no group work)\n",
    "- no other oral or written exams\n",
    "     \n",
    "\n",
    "### This course is part of two modules:\n",
    "- **31-MM34 Data Science in Operations Research** (Master Wiwi)\n",
    "- **31-M-ASM2 Advanced Statistical Methods II** (Master Data Science)\n",
    "\n"
   ]
  }
 ],
 "metadata": {
  "celltoolbar": "Slideshow",
  "kernelspec": {
   "display_name": "Python [conda env:shift_scheduling]",
   "language": "python",
   "name": "conda-env-shift_scheduling-py"
  },
  "language_info": {
   "codemirror_mode": {
    "name": "ipython",
    "version": 3
   },
   "file_extension": ".py",
   "mimetype": "text/x-python",
   "name": "python",
   "nbconvert_exporter": "python",
   "pygments_lexer": "ipython3",
   "version": "3.9.12"
  },
  "toc": {
   "base_numbering": 1,
   "nav_menu": {},
   "number_sections": false,
   "sideBar": true,
   "skip_h1_title": false,
   "title_cell": "Table of Contents",
   "title_sidebar": "Contents",
   "toc_cell": false,
   "toc_position": {},
   "toc_section_display": true,
   "toc_window_display": false
  },
  "varInspector": {
   "cols": {
    "lenName": 16,
    "lenType": 16,
    "lenVar": 40
   },
   "kernels_config": {
    "python": {
     "delete_cmd_postfix": "",
     "delete_cmd_prefix": "del ",
     "library": "var_list.py",
     "varRefreshCmd": "print(var_dic_list())"
    },
    "r": {
     "delete_cmd_postfix": ") ",
     "delete_cmd_prefix": "rm(",
     "library": "var_list.r",
     "varRefreshCmd": "cat(var_dic_list()) "
    }
   },
   "types_to_exclude": [
    "module",
    "function",
    "builtin_function_or_method",
    "instance",
    "_Feature"
   ],
   "window_display": false
  }
 },
 "nbformat": 4,
 "nbformat_minor": 2
}
