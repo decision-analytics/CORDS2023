{
 "cells": [
  {
   "cell_type": "markdown",
   "metadata": {
    "slideshow": {
     "slide_type": "slide"
    }
   },
   "source": [
    "<img src=\"img/logo_wiwi_en_.png\" width=\"30%\" align=\"left\">\n",
    "\n",
    "<img src=\"img/decision_analytics_logo.png\" width=\"17%\" align=\"right\">\n",
    "\n",
    "\n",
    "\n",
    "<br><br><br><br><br><br><br><br>\n",
    "\n",
    "\n",
    "\n",
    "# Combining OR and Data Science\n",
    "\n",
    "**Summer Term 2023**\n",
    "\n",
    "\n",
    "# 6. Optimization under Uncertainty II:  Risk Aversion and Chance-Constrained Programming\n",
    "\n",
    "\n",
    "<br>\n",
    "\n",
    "<br>\n",
    "<br>\n",
    "\n",
    "**J-Prof. Dr. Michael Römer, Till Porrmann, Mohsen Nafar**\n",
    "\n",
    "**Decision Analytics Group  | Bielefeld University**\n",
    "                                                    \n"
   ]
  },
  {
   "cell_type": "code",
   "execution_count": 2,
   "metadata": {
    "slideshow": {
     "slide_type": "skip"
    }
   },
   "outputs": [],
   "source": [
    "import numpy as np\n",
    "from scipy import stats\n",
    "import matplotlib.pyplot as plt\n",
    "from numba import vectorize\n",
    "import pandas as pd\n",
    "import mip\n",
    "from mip import maximize\n",
    "from scipy.optimize import minimize"
   ]
  },
  {
   "cell_type": "markdown",
   "metadata": {
    "heading_collapsed": true,
    "slideshow": {
     "slide_type": "slide"
    }
   },
   "source": [
    "## Overview\n",
    "\n",
    "#### Part I:  Risk Orientation / Decision-Making as Shaping Distributions\n",
    "\n",
    "- Shaping Distributions by Incorporating Risk Attitude into Decision / Optimization Models\n",
    "\n",
    "#### Part II: Feasibility Guarantees by Chance-Constrained Programming\n",
    "- Feasibility Issues in Single-Stage Problems under Uncertainty\n",
    "- Single Chance Constraints\n",
    "- Joint Chance Constraints\n"
   ]
  },
  {
   "cell_type": "markdown",
   "metadata": {
    "slideshow": {
     "slide_type": "slide"
    }
   },
   "source": [
    "# Part I: Risk Orientation and Decision Making under Uncertainty as Shaping Distributions"
   ]
  },
  {
   "cell_type": "markdown",
   "metadata": {
    "slideshow": {
     "slide_type": "slide"
    }
   },
   "source": [
    "## Part I: Risk Orientation and Decision Making under Uncertainty as Shaping Distributions\n",
    "\n",
    "In the first part, we will introduce the idea that:\n",
    "\n",
    "**Decision Making under Uncertainty means Shaping Distributions**\n",
    "\n",
    "In particular, we will answer the following questions:\n",
    "- when it is appropriate to optimize expected values?\n",
    "- what is an outcome distribution?\n",
    "- what kind of useful information does the outcome distribution give us?\n",
    "- how can we compare outcome distributions?\n",
    "- how can we modify models to account for risk attitude?"
   ]
  },
  {
   "cell_type": "markdown",
   "metadata": {
    "slideshow": {
     "slide_type": "slide"
    }
   },
   "source": [
    "## Literature\n",
    "\n",
    "Much of the literature dealing with Stochastic Programming is not very accessible for Business students. In my opinion, the following book is an exception:\n",
    "- **Modeling with Stochastic Programming**, Authors: Alan King and Stein Wallace, Springer, 2012 \n",
    "\n",
    "Other Textbooks include:\n",
    "- **Introduction to Stochastic Programming** (2nd edition), Authors: John Birge and Francois Louveaux, Springer, 2011\n",
    "- **Stochastic Programming: Modeling Decision Problems Under Uncertainty**,  Authors: Klein Haneveld et al. , Springer, 2020 \n",
    "\n",
    "\n",
    "*Note that these Springer textbooks are available as full text pdfs from the university library!*\n"
   ]
  },
  {
   "cell_type": "markdown",
   "metadata": {
    "cell_style": "center",
    "slideshow": {
     "slide_type": "slide"
    }
   },
   "source": [
    "## This Meeting: The Outcome Distribution and Risk Orientation in Stochastic Programming\n",
    "\n",
    "**In this meeting, we will**\n",
    "- discuss how to obtain the outcome distribution\n",
    "- see how manipulate the outcome distribution to account for risk aversion by:\n",
    "    - penalizing shortfalls\n",
    "    - mean-risk optimization with Conditional Value at Risk\n",
    "- we will use the agricultural case study  for illustration and exercises\n"
   ]
  },
  {
   "cell_type": "markdown",
   "metadata": {
    "slideshow": {
     "slide_type": "slide"
    }
   },
   "source": [
    "## Review: A Stochastic Programming Formulation for our Case Study"
   ]
  },
  {
   "cell_type": "markdown",
   "metadata": {
    "cell_style": "split",
    "slideshow": {
     "slide_type": "-"
    }
   },
   "source": [
    "**Sets:**\n",
    "- $S$  scenario set\n",
    "\n",
    "**Parameters:**\n",
    "- $d_s$: demand in units in scenario  $s$\n",
    "- $p_s$: probability of scenario $s$"
   ]
  },
  {
   "cell_type": "markdown",
   "metadata": {
    "cell_style": "split",
    "slideshow": {
     "slide_type": "-"
    }
   },
   "source": [
    "**Decision Variables:**\n",
    "- $x$: capacity installation decision (*first stage* / *here and now* decision) \n",
    "- $z_s$: production decision for scenario $s$ (*second stage* / *recourse* decision)"
   ]
  },
  {
   "cell_type": "markdown",
   "metadata": {
    "slideshow": {
     "slide_type": "-"
    }
   },
   "source": [
    "\n",
    " \\begin{align*}\n",
    "        \\max \\;        -30x +  & \\sum_{s \\in S} p_s 40 z_s \\\\\n",
    "        \\text{s.t.} \\qquad   z_s &\\leq x \\qquad &\\forall s \\in S \\\\                  \n",
    "                         z_s &\\leq d_s \\qquad &\\forall s \\in S \\\\\n",
    "                         x &\\geq 0 \\\\\n",
    " z_s &\\geq 0 \\qquad &\\forall s \\in S\n",
    "\\end{align*}"
   ]
  },
  {
   "cell_type": "markdown",
   "metadata": {
    "slideshow": {
     "slide_type": "slide"
    }
   },
   "source": [
    "## Review: Implementation in Python\n"
   ]
  },
  {
   "cell_type": "code",
   "execution_count": 4,
   "metadata": {
    "slideshow": {
     "slide_type": "skip"
    }
   },
   "outputs": [],
   "source": [
    "demand_dist = stats.norm(100,25)\n",
    "\n",
    "n_samples = 10000\n",
    "\n",
    "# we create a sample vector of demands (demand_dist was defined above), only using positive outcomes\n",
    "demand_sample = np.maximum(demand_dist.rvs(n_samples),0)"
   ]
  },
  {
   "cell_type": "code",
   "execution_count": 6,
   "metadata": {
    "slideshow": {
     "slide_type": "-"
    }
   },
   "outputs": [
    {
     "name": "stdout",
     "output_type": "stream",
     "text": [
      "Capacity decision: 82.87\n",
      "Expected Total Profit: 678.17\n"
     ]
    }
   ],
   "source": [
    "\n",
    "# Create a new model\n",
    "m = mip.Model(\"Capacity_Planning_Stochastic\")\n",
    "\n",
    "#sets\n",
    "n_scenarios = n_samples\n",
    "scenarios = np.arange(n_scenarios) #in stochastic programming, we call the samples scenarios\n",
    "\n",
    "#probability of each scenario - in our case, each scenario has prob. 1/|S|\n",
    "prob = np.full((n_scenarios), 1/n_scenarios)\n",
    "\n",
    "#parameters\n",
    "installation_cost = 30\n",
    "contribution_margin = 40\n",
    "\n",
    "#decision variables\n",
    "capacity =  m.add_var(name=\"capacity\", lb=0)\n",
    "\n",
    "production = [m.add_var(name=f\"production{s}\", lb= 0) for s in scenarios]\n",
    "\n",
    "m.objective =  maximize( -installation_cost*capacity + sum(prob[s] * contribution_margin * production[s] for s in scenarios))\n",
    "\n",
    "for s in scenarios:    \n",
    "    m += production[s] <= demand_sample[s]\n",
    "    m += production[s] <= capacity \n",
    "\n",
    "m.optimize()\n",
    "\n",
    "print(f'Capacity decision: {capacity.x:.02f}')\n",
    "\n",
    "print(f'Expected Total Profit: {m.objective_value:.02f}' )"
   ]
  },
  {
   "cell_type": "markdown",
   "metadata": {
    "slideshow": {
     "slide_type": "slide"
    }
   },
   "source": [
    "# The Outcome Distribution in Stochastic Programming"
   ]
  },
  {
   "cell_type": "markdown",
   "metadata": {
    "slideshow": {
     "slide_type": "slide"
    }
   },
   "source": [
    "## Model Reformulation for Obtaining the Outcome Distribution\n",
    "\n",
    "**Remember:** Decision making under uncertainty means shaping distributions\n",
    "- Where is the outcome distribution in a stochastic program?\n",
    "\n",
    "**Idea:** Introduce an outcome variable **$g_s$** per scenario (a second-stage variable) and reformulate the model as follows:\n",
    "\n",
    "\n",
    "\n",
    "\\begin{align*}\n",
    "        \\max \\;      &\\sum_{s \\in S} p_s g_s \\\\\n",
    "        \\text{s.t.} \\qquad g_s &=  -30x +  40 z_s  \\qquad &\\forall s \\in S\\\\\n",
    "        z_s &\\leq x \\qquad &\\forall s \\in S \\\\                  \n",
    "                         z_s &\\leq d_s \\qquad &\\forall s \\in S \\\\\n",
    "                         x &\\geq 0 \\\\\n",
    " z_s &\\geq 0 \\qquad &\\forall s \\in S\n",
    "\\end{align*}\n",
    "\n",
    "In a given solution:\n",
    "\n",
    "- the vector $\\mathbf{g}=[g_s]_{s \\in S}$ is a sample approximation of the outcome (total profit) distribution given the optimal capacity decision $x$\n"
   ]
  },
  {
   "cell_type": "markdown",
   "metadata": {
    "slideshow": {
     "slide_type": "slide"
    }
   },
   "source": [
    "## Model Reformulation for Obtaining the Outcome Distribution\n",
    "\n",
    "**Remember:** Decision making under uncertainty means shaping distributions\n",
    "- Target value is $g^t$\n",
    "\n",
    "**Idea:** Introduce an outcome variable **$g_s$** per scenario (a second-stage variable) and reformulate the model as follows:\n",
    "\n",
    "\n",
    "\n",
    "\\begin{align*}\n",
    "        \\max \\;      &\\sum_{s \\in S} p_s( g_s - \\lambda v_s)\\\\\n",
    "        \\text{s.t.} \\qquad g_s &=  -30x +  40 z_s  \\qquad &\\forall s \\in S\\\\\n",
    "        z_s &\\leq x \\qquad &\\forall s \\in S \\\\   \n",
    "        v_s & \\geq g^t - g_s \\qquad &\\forall s \\in S \\\\  \n",
    "                         z_s &\\leq d_s \\qquad &\\forall s \\in S \\\\\n",
    "                         x &\\geq 0 \\\\\n",
    " z_s &\\geq 0 \\qquad &\\forall s \\in S \\\\\n",
    " v_s &\\geq 0 \\qquad &\\forall s \\in S \\\\ \n",
    "\\end{align*}\n",
    "\n",
    "In a given solution:\n",
    "\n",
    "- the vector $\\mathbf{g}=[g_s]_{s \\in S}$ is a sample approximation of the outcome (total profit) distribution given the optimal capacity decision $x$\n"
   ]
  },
  {
   "cell_type": "markdown",
   "metadata": {
    "slideshow": {
     "slide_type": "slide"
    }
   },
   "source": [
    "## Model Reformulation: Implementation in Python"
   ]
  },
  {
   "cell_type": "code",
   "execution_count": 7,
   "metadata": {
    "slideshow": {
     "slide_type": "-"
    }
   },
   "outputs": [
    {
     "name": "stdout",
     "output_type": "stream",
     "text": [
      "Capacity decision: 82.87\n",
      "Expected Total Profit: 678.17\n"
     ]
    }
   ],
   "source": [
    "# Create a new model\n",
    "m = mip.Model(\"Capacity_Planning_Stochastic\")\n",
    "\n",
    "#decision variables\n",
    "capacity =  m.add_var(name=\"capacity\", lb=0)\n",
    "\n",
    "production = [m.add_var(name=f\"production{s}\",lb=0) for s in scenarios]\n",
    "\n",
    "## this is the new variable\n",
    "profit = [m.add_var(name=f\"profit{s}\",  lb=-np.inf) for s in scenarios]\n",
    "\n",
    "m.objective =  maximize( sum(prob[s] * profit[s] for s in scenarios)) \n",
    "\n",
    "for s in scenarios:   \n",
    "    m += profit[s] == -installation_cost*capacity + contribution_margin * production[s] # computes the profit for scenario s\n",
    "    m += production[s] <= demand_sample[s]\n",
    "    m += production[s] <= capacity \n",
    "\n",
    "m.optimize()\n",
    "\n",
    "print(f'Capacity decision: {capacity.x:.02f}')\n",
    "print(f'Expected Total Profit: {m.objective_value:.02f}' )\n",
    "\n",
    "\n"
   ]
  },
  {
   "cell_type": "markdown",
   "metadata": {
    "slideshow": {
     "slide_type": "slide"
    }
   },
   "source": [
    "## Plotting the Outcome Distribution\n",
    "\n",
    "As ab example, we can now  use the vector $\\mathbf{g}=[g_s]_{s \\in S}$ from the optimal solution plot a histogram of the outcompe distribution:"
   ]
  },
  {
   "cell_type": "code",
   "execution_count": 8,
   "metadata": {
    "scrolled": false
   },
   "outputs": [
    {
     "data": {
      "text/plain": [
       "Text(0.5, 0, 'Total Profit')"
      ]
     },
     "execution_count": 8,
     "metadata": {},
     "output_type": "execute_result"
    },
    {
     "data": {
      "image/png": "[encoded data removed]",
      "text/plain": [
       "<Figure size 432x288 with 1 Axes>"
      ]
     },
     "metadata": {
      "needs_background": "light"
     },
     "output_type": "display_data"
    }
   ],
   "source": [
    "## collect the profit samples into an array\n",
    "profit_samples = np.array( [ profit[s].x for s in scenarios ])\n",
    "\n",
    "count, bins, ignored = plt.hist(profit_samples, bins=30, density=True, color='#EEEEEE', edgecolor=\"#AAAAAA\", range =[-1000,1000])\n",
    "plt.xlabel('Total Profit')\n",
    "\n",
    "#plt.savefig('profit_distribution_stochastic_lp.pdf')\n"
   ]
  },
  {
   "cell_type": "markdown",
   "metadata": {
    "slideshow": {
     "slide_type": "slide"
    }
   },
   "source": [
    "#  Risk Attitude and Shaping Distributions"
   ]
  },
  {
   "cell_type": "markdown",
   "metadata": {
    "slideshow": {
     "slide_type": "slide"
    }
   },
   "source": [
    "##  Risk Attitude and Shaping Distributions\n",
    "\n",
    "Recall that **decision making under uncertainty means shaping outcome\n",
    "distributions**\n",
    "\n",
    "- if the decision maker is risk averse, optimizing the expected value is not the best idea\n",
    "- we may thus take the outcome distribution into account by\n",
    "  introducing scenario-dependent outcome variables\n",
    "- and we can change the objective function and add constraints to\n",
    "  reflect the risk attitude of decision makers\n",
    "\n",
    "We will consider the following approaches for **incorporating risk aversion into stochastic programs**:\n",
    "- target values and shortfall penalties\n",
    "- mean-risk objectives using CVaR as risk measure\n",
    "\n"
   ]
  },
  {
   "cell_type": "markdown",
   "metadata": {
    "slideshow": {
     "slide_type": "slide"
    }
   },
   "source": [
    "##  Targets and Shortfall Penalties\n",
    "\n",
    "**Key Idea**:\n",
    "- set a target, e.g.  $g^t$\n",
    "- introduce a shortfall variable $v_s$ for each scenario $s$\n",
    "- in the objective, penalize expected shortfall   with factor $\\lambda$\n",
    "\n",
    "\n",
    "**Model:**\n",
    "\n",
    "\n",
    "\n",
    " \\begin{align*}\n",
    "        \\max \\;        &\\sum_{s \\in S}  p_s g_s  - \\lambda  \\sum_{s \\in S} p_s v_s \\\\\n",
    "        \\text{s.t.} \\qquad   g_s &=  -30x +  40z_s\\qquad &\\forall s \\in S \\\\  \n",
    "\t   v_s &\\geq g^t - g_s    &\\forall s \\in S \\\\  \n",
    "                         z_s &\\leq d_s \\qquad &\\forall s \\in S \\\\\n",
    "         z_s &\\leq x \\qquad &\\forall s \\in S \\\\                  \n",
    "                         x &\\geq 0 \\\\\n",
    "\t\t\t v_s &\\geq 0, z_s \\geq 0 \\qquad &\\forall s \\in S\t\t\t \n",
    "\\end{align*}\n"
   ]
  },
  {
   "cell_type": "markdown",
   "metadata": {
    "slideshow": {
     "slide_type": "slide"
    }
   },
   "source": [
    "##  Targets and Shortfall Penalties: Implementation in Python\n",
    "\n"
   ]
  },
  {
   "cell_type": "code",
   "execution_count": 11,
   "metadata": {
    "slideshow": {
     "slide_type": "-"
    }
   },
   "outputs": [
    {
     "name": "stdout",
     "output_type": "stream",
     "text": [
      "Results for a target 500 and lambda = 0.5\n",
      "Capacity decision: 78.90\n",
      "Objective function value: 640.64\n",
      " Expected Profit: 674.16\n"
     ]
    }
   ],
   "source": [
    "target_value = 500\n",
    "lambd = 0.5\n",
    "\n",
    "# Create a new model\n",
    "m = mip.Model(\"Capacity_Planning_Stochastic_Shortfall\")\n",
    "\n",
    "#decision variables\n",
    "capacity =  m.add_var(name=\"capacity\", lb=0)\n",
    "production = [m.add_var(name=f\"production{s}\",lb=0) for s in scenarios]\n",
    "\n",
    "## this is the profit variable (scenario-dependent)\n",
    "profit = [m.add_var(name=f\"profit{s}\",  lb=-np.inf) for s in scenarios]\n",
    "\n",
    "## this is the shortfall variable (scenario-dependent)\n",
    "shortfall = [m.add_var(name=f\"shortfall{s}\",  lb=0) for s in scenarios] # scenario-dependent!\n",
    "\n",
    "# in the objective, we now add a variable for the shortfall\n",
    "m.objective =  maximize( sum(prob[s] * profit[s] for s in scenarios)  - lambd*sum( prob[s]*shortfall[s] for s in scenarios ) ) \n",
    "\n",
    "for s in scenarios:   \n",
    "    m += profit[s]  == -installation_cost*capacity + contribution_margin * production[s] # computes the profit for scenario s\n",
    "    m += production[s] <= demand_sample[s]\n",
    "    m += production[s] <= capacity \n",
    "    # computing shortfall\n",
    "    m += shortfall[s] >= target_value - profit[s]\n",
    "\n",
    "m.optimize()\n",
    "\n",
    "print(f'Results for a target {target_value} and lambda = {lambd}')\n",
    "print(f'Capacity decision: {capacity.x:.02f}')\n",
    "print(f'Objective function value: {m.objective_value:.02f}' )\n",
    "\n",
    "profit_samples = np.array( [ profit[s].x for s in scenarios ])\n",
    "print(f' Expected Profit: {np.mean(profit_samples):.02f}')\n"
   ]
  },
  {
   "cell_type": "markdown",
   "metadata": {
    "slideshow": {
     "slide_type": "slide"
    }
   },
   "source": [
    "# Part II: Chance-Constrained Programming"
   ]
  },
  {
   "cell_type": "markdown",
   "metadata": {
    "slideshow": {
     "slide_type": "slide"
    }
   },
   "source": [
    "## Motivation\n",
    "\n",
    "In our case studies discussed so far, we assumed that there are second-stage decisions:\n",
    "- Capacity Planning: adapting production to demand\n",
    "- Farmer's problem: buying and selling crops on the market"
   ]
  },
  {
   "cell_type": "markdown",
   "metadata": {
    "slideshow": {
     "slide_type": "subslide"
    }
   },
   "source": [
    "**What if we assume that we cannot react?**\n",
    "- we will either have enforce a safe solution\n",
    "- or tolerate a certain violation\n",
    "- in many setting, we may see this as a **service level**\n",
    "  - for example, on-time guarantees in logistics"
   ]
  },
  {
   "cell_type": "markdown",
   "metadata": {
    "cell_style": "center",
    "slideshow": {
     "slide_type": "slide"
    }
   },
   "source": [
    "## Chance-Constrained Programming: Overview\n",
    "\n",
    "\n",
    "In this part, we learn how to create optimization models\n",
    "under uncertainty providing probabilistic guarantees\n",
    "\n",
    "**In particular, we will discuss**\n",
    "- how to model cases in which a single constraints are affected by\n",
    "  uncertainty using **chance constraints**\n",
    "- how to model **joint chance constraints** providing a feasibility\n",
    "  guarantee for problems in which multiple constraints are affected by\n",
    "  uncertainty\n",
    "- how to **improve joint chance constraint formulations** to make then solvable faster\n",
    "\n",
    " \n"
   ]
  },
  {
   "cell_type": "markdown",
   "metadata": {
    "slideshow": {
     "slide_type": "slide"
    }
   },
   "source": [
    "# Belt Manufacturing Case Study as an Illustration"
   ]
  },
  {
   "cell_type": "markdown",
   "metadata": {
    "slideshow": {
     "slide_type": "slide"
    }
   },
   "source": [
    "## Case Study: Manufacturing Belts\n",
    "\n",
    "- A small company manufactures two types of belts: A  and B. The contribution margin  \\\\$2 for an A-belt and \\\\$1.5 for a B-belt.\n",
    "- It plans the production for a week, and it can sell its full production to small chain of shops.\n",
    "- Producing a belt of type A takes twice as long as producing one of\n",
    "  type B, and the total time available in that week would allow\n",
    "  producing 1000 belts of type B if only B-belts were produced.\n",
    "- Both types of belts require the same amount of leather, and there is enough leather to produce 800 belts.\n",
    "- The total number that can be produced per type is limited by the number of available bucks: The company has 400 bucks for type A and 700 bucks for type B.\n",
    "\n",
    "Create an LP model that determines the number of belts from each type to produce if the shop aims at maximizing the total contribution margin!"
   ]
  },
  {
   "cell_type": "markdown",
   "metadata": {
    "slideshow": {
     "slide_type": "slide"
    }
   },
   "source": [
    "## Case Study: Manufacturing Belts - Deterministic LP\n",
    "\n",
    "**Set**\n",
    "- $I = \\{A,B\\}$ belt types\n",
    "\n",
    "**Decision Variables**\n",
    "- $x_i$: number of belts to produce from type $i$\n",
    "\n",
    "\\begin{align*}\n",
    "        \\max \\;          2x_A +1.5x_B  \\\\                  \n",
    "        \\text{s.t.} \\;   2x_A + x_B &\\leq 1000 \\\\\n",
    "\t\t    \t   x_A + x_B &\\leq 800 \\\\\n",
    "\t\t    \t   0 \\leq x_A &\\leq 400 \\\\\n",
    "\t\t    \t   0 \\leq x_B &\\leq 700 \n",
    "\\end{align*}\n",
    "\n",
    "The optimal production plan is $x_A=200, x_B=600$ yielding a total profit of $1300.\n"
   ]
  },
  {
   "cell_type": "markdown",
   "metadata": {
    "slideshow": {
     "slide_type": "slide"
    }
   },
   "source": [
    "## Case Study: Manufacturing Belts - Deterministic LP\n",
    "\n",
    "**Set**\n",
    "- $I = \\{A,B\\}$ belt types\n",
    "\n",
    "**Decision Variables**\n",
    "- $x_i$: number of belts to produce from type $i$\n",
    "\n",
    "\\begin{align*}\n",
    "        \\max \\;          2x_A +1.5x_B  - \\sum_{s \\in S} p_s * c*u_s  \\\\                  \n",
    "        \\text{s.t.} \\;   2x_A + x_B &\\leq b^t_s + u_s \\quad \\forall s \\in S \\\\\n",
    "\t\t    \t   x_A + x_B &\\leq 800 \\\\\n",
    "\t\t    \t   0 \\leq x_A &\\leq 400 \\\\\n",
    "\t\t    \t   0 \\leq x_B &\\leq 700 \\\\\n",
    "                   u_s \\geq 0 \\forall s \\in S\n",
    "\\end{align*}\n",
    "\n",
    "The optimal production plan is $x_A=200, x_B=600$ yielding a total profit of $1300.\n"
   ]
  },
  {
   "cell_type": "markdown",
   "metadata": {
    "slideshow": {
     "slide_type": "slide"
    }
   },
   "source": [
    "## Case Study: Manufacturing Belts - Deterministic LP in Python"
   ]
  },
  {
   "cell_type": "code",
   "execution_count": 18,
   "metadata": {
    "slideshow": {
     "slide_type": "-"
    }
   },
   "outputs": [
    {
     "name": "stdout",
     "output_type": "stream",
     "text": [
      "Production belt 0: 200.0\n",
      "Production belt 1: 600.0\n",
      "Total Profit: 1300.0\n"
     ]
    }
   ],
   "source": [
    "belt_types = np.arange(2)\n",
    "profit_contribution = [2, 1.5]\n",
    "time_consumption = [2, 1]\n",
    "\n",
    "time_available = 1000\n",
    "leather_available = 800\n",
    "bucks_available = [400, 700]\n",
    "\n",
    "\n",
    "# Create a new model\n",
    "m = mip.Model(\"Belt_Production_Deterministic\")\n",
    "\n",
    "\n",
    "#decision variables\n",
    "production = [m.add_var(name= f\"production{b}\", lb=0, ub=bucks_available[b]) for b in belt_types]\n",
    "m.objective = maximize(sum(profit_contribution[b] * production[b] for b in belt_types))\n",
    "\n",
    "m += sum (time_consumption[b]*production[b] for b in belt_types) <= time_available \n",
    "m += sum (production[b] for b in belt_types) <= leather_available \n",
    "\n",
    "m.optimize()\n",
    "\n",
    "production_decisions = [production[b].x for b in belt_types]\n",
    "for b in belt_types:\n",
    "    print(f'Production belt {b}: {production[b].x}')\n",
    "print(f'Total Profit: {m.objective_value}' )"
   ]
  },
  {
   "cell_type": "markdown",
   "metadata": {
    "slideshow": {
     "slide_type": "slide"
    }
   },
   "source": [
    "## Uncertain Machine Time without Recourse\n",
    "\n",
    "\n",
    "- let us now assume that due to random machine failures, the **available\n",
    "  time is subject to uncertainty**\n",
    "- however, due to contractual obligation, the company has to commit to\n",
    "  a production plan **before** the machine time is known\n",
    "  - the production decisions are thus **here and now decisions**\n",
    "- in this part, we assume that there is **no recourse decision**\n",
    "- given that the random variable describing the available time is\n",
    "  $B_T$, the uncertain constraint is:\n",
    "\n",
    "\n",
    "$$2x_A + x_B \\leq B_T$$\n",
    "\n",
    "$\\rightarrow$ if our first-stage decisions are bad, the model becomes\n",
    "**infeasible for certain scenarios**"
   ]
  },
  {
   "cell_type": "markdown",
   "metadata": {
    "slideshow": {
     "slide_type": "slide"
    }
   },
   "source": [
    "## Uncertain Machine Time: The Data\n",
    "\n",
    "\n",
    "We assume that the machine time follows a normal distribution:"
   ]
  },
  {
   "cell_type": "code",
   "execution_count": 26,
   "metadata": {},
   "outputs": [
    {
     "data": {
      "image/png": "[encoded data removed]",
      "text/plain": [
       "<Figure size 432x288 with 1 Axes>"
      ]
     },
     "metadata": {
      "needs_background": "light"
     },
     "output_type": "display_data"
    }
   ],
   "source": [
    "# avaible_time\n",
    "time_available_dist = stats.norm(1000,150)\n",
    "\n",
    "n_samples = 1000\n",
    "\n",
    "# we create a sample vector of demands (demand_dist was defined above), only using positive outcomes\n",
    "time_available_samples = np.maximum(time_available_dist.rvs(n_samples, random_state=42),0)\n",
    "\n",
    "count, bins, ignored = plt.hist(time_available_samples , bins=30, density=True, color='#EEEEEE', edgecolor=\"#AAAAAA\")\n",
    "plt.xlabel('time available')\n",
    "plt.show()"
   ]
  },
  {
   "cell_type": "markdown",
   "metadata": {
    "slideshow": {
     "slide_type": "slide"
    }
   },
   "source": [
    "## Uncertain Machine Time: How likely is it that our Solution is Infeasible?\n",
    "\n",
    "The following function can be used to estimate the feasibility of a production plan:"
   ]
  },
  {
   "cell_type": "code",
   "execution_count": 20,
   "metadata": {
    "slideshow": {
     "slide_type": "-"
    }
   },
   "outputs": [],
   "source": [
    "def probability_production_plan_is_feasible (production_decisions, time_available_samples):\n",
    "    return np.mean([2 * production_decisions[0] + production_decisions[1] <= time_available for time_available in time_available_samples])"
   ]
  },
  {
   "cell_type": "markdown",
   "metadata": {
    "slideshow": {
     "slide_type": "-"
    }
   },
   "source": [
    "Let's apply it to our optimal deterministic decision:"
   ]
  },
  {
   "cell_type": "code",
   "execution_count": 22,
   "metadata": {
    "slideshow": {
     "slide_type": "-"
    }
   },
   "outputs": [
    {
     "name": "stdout",
     "output_type": "stream",
     "text": [
      "The production plan is feasible with probability 0.51\n"
     ]
    }
   ],
   "source": [
    "probability_of_feasibility =  probability_production_plan_is_feasible (production_decisions, time_available_samples)\n",
    "\n",
    "print (f'The production plan is feasible with probability {probability_of_feasibility:.02f}')"
   ]
  },
  {
   "cell_type": "markdown",
   "metadata": {
    "slideshow": {
     "slide_type": "slide"
    }
   },
   "source": [
    "# Ensuring Feasibility"
   ]
  },
  {
   "cell_type": "markdown",
   "metadata": {
    "slideshow": {
     "slide_type": "slide"
    }
   },
   "source": [
    "## Enforcing Feasibility for each Scenario?\n",
    "\n",
    "What if we want to establish feasibility for each scenario?\n",
    "- the time constraint becomes: $\\quad 2x_A + x_B \\leq b_{T,s} \\qquad \\forall s \\in S$\n",
    "- which is equivalent to the single constraint:\n",
    " $\\quad 2x_A + x_B \\leq \\min\\limits_{s \\in S} b_{T,s}$\n",
    "- note that $\\min\\limits_{s \\in S} b_{T,s}$ can be  computed **before** solving the problem"
   ]
  },
  {
   "cell_type": "markdown",
   "metadata": {
    "slideshow": {
     "slide_type": "fragment"
    }
   },
   "source": [
    "Note that this approach, sometimes called **fat solution**, \n",
    "- is extremely conservative / pessimistic \n",
    "- may lead  completely infeasible model instances in more complex cases\n",
    "- depends a lot on the samples that are drawn:\n",
    "  - different samples can result in very different solutions\n",
    "  - more samples tend to result in more pessimistic decisions"
   ]
  },
  {
   "cell_type": "markdown",
   "metadata": {
    "slideshow": {
     "slide_type": "slide"
    }
   },
   "source": [
    "### Ensuring Feasibility for each Scenario\n",
    "\n",
    "If we want the model to be feasible for each scenario, we just use the minimum of the available time over all sample values."
   ]
  },
  {
   "cell_type": "code",
   "execution_count": 27,
   "metadata": {
    "slideshow": {
     "slide_type": "-"
    }
   },
   "outputs": [
    {
     "name": "stdout",
     "output_type": "stream",
     "text": [
      "Production belt 0: 0.0\n",
      "Production belt 1: 513.8098989896391\n",
      "Total Profit: 770.7148484844587\n"
     ]
    }
   ],
   "source": [
    "# Create a new model\n",
    "m = mip.Model(\"Belt_Production_Pessimistic\")\n",
    "\n",
    "min_time_avaible = np.min(time_available_samples)\n",
    "\n",
    "#decision variables\n",
    "production = [m.add_var(name= f\"production{b}\", lb=0, ub=bucks_available[b]) for b in belt_types]\n",
    "\n",
    "m.objective = maximize(sum(profit_contribution[b] * production[b] for b in belt_types))\n",
    "\n",
    "# we change this variable\n",
    "m += sum (time_consumption[b]*production[b] for b in belt_types) <= min_time_avaible \n",
    "m += sum (production[b] for b in belt_types) <= leather_available \n",
    "\n",
    "m.optimize()\n",
    "\n",
    "production_decisions = [production[b].x for b in belt_types]\n",
    "for b in belt_types:\n",
    "    print(f'Production belt {b}: {production[b].x}')\n",
    "print(f'Total Profit: {m.objective_value}' )"
   ]
  },
  {
   "cell_type": "markdown",
   "metadata": {
    "slideshow": {
     "slide_type": "slide"
    }
   },
   "source": [
    "### Ensuring Feasibility for each Scenario: Evaluating the Solution\n",
    "\n",
    "We may evaluate the solution, and of course it should be feasible"
   ]
  },
  {
   "cell_type": "code",
   "execution_count": 28,
   "metadata": {
    "slideshow": {
     "slide_type": "-"
    }
   },
   "outputs": [
    {
     "name": "stdout",
     "output_type": "stream",
     "text": [
      "The production plan is feasible with probability 1.00\n"
     ]
    }
   ],
   "source": [
    "probability_of_feasibility =  probability_production_plan_is_feasible (production_decisions, time_available_samples)\n",
    "\n",
    "print (f'The production plan is feasible with probability {probability_of_feasibility:.02f}')"
   ]
  },
  {
   "cell_type": "markdown",
   "metadata": {
    "slideshow": {
     "slide_type": "fragment"
    }
   },
   "source": [
    "We may also evaluate it using a new sample, resulting in a so-called *out-of-sample* evaluation"
   ]
  },
  {
   "cell_type": "code",
   "execution_count": 32,
   "metadata": {
    "slideshow": {
     "slide_type": "-"
    }
   },
   "outputs": [
    {
     "name": "stdout",
     "output_type": "stream",
     "text": [
      "The production plan is feasible with probability 0.9994\n"
     ]
    }
   ],
   "source": [
    "probability_of_feasibility =  probability_production_plan_is_feasible (production_decisions, time_available_dist.rvs(10000, random_state=4))\n",
    "\n",
    "print (f'The production plan is feasible with probability {probability_of_feasibility}')"
   ]
  },
  {
   "cell_type": "markdown",
   "metadata": {
    "slideshow": {
     "slide_type": "fragment"
    }
   },
   "source": [
    "**Exercise:** \n",
    "\n",
    "Experiment with different samples of the same size and samples of different sizes and see the effects on the decisions and on the profit!"
   ]
  },
  {
   "cell_type": "markdown",
   "metadata": {
    "slideshow": {
     "slide_type": "slide"
    }
   },
   "source": [
    "# Chance Constraints"
   ]
  },
  {
   "cell_type": "markdown",
   "metadata": {
    "slideshow": {
     "slide_type": "slide"
    }
   },
   "source": [
    "## Chance Constraints: Key Idea\n",
    "\n",
    "**Key Idea:**\n",
    "- 100% feasibility is often very expensive\n",
    "- instead ensure that the probability of feasibility is $\\geq \\alpha$\n",
    "\n",
    "Formally expressed, given a constraint $C$, a **chance constraint** can be written as:\n",
    "\n",
    "$$P(C\\: \\mathrm{holds}) \\geq \\alpha$$\n",
    "\n",
    "In our example, given $B_T$ as the random variable for available time:\n",
    "\n",
    "$$P(2x_A + x_B \\leq B_T) \\geq \\alpha$$\n",
    "\n",
    "- if only a single constraint is affected by uncertainty, a single\n",
    "  chance constraint ensures that the solution is feasible with a probability $\\geq \\alpha$\n",
    "- if more constraints are uncertain, we have **joint chance constraints** "
   ]
  },
  {
   "cell_type": "markdown",
   "metadata": {
    "slideshow": {
     "slide_type": "slide"
    }
   },
   "source": [
    "## How to Model a Chance Constraint?\n",
    "\n",
    "Given that $B_T$ is a random variable and $\\alpha$ is\n",
    "the desired probability of feasibility, how can we model the chance constraint:\n",
    "\n",
    "$$P(2x_A + x_B \\leq B_T) \\geq \\alpha$$\n",
    "\n",
    "**Key Idea:**\n",
    "    \n",
    "Assume that we have a set $S$ of scenarios. Then we can approximate\n",
    "the chance constraint by ensuring that the constraint is violated in\n",
    "at most $(1-\\alpha)|S|$ scenarios\n",
    "- we can achieve this by sorting the scenarios from the most to the least restricting  and\n",
    "- taking the value $b^{\\alpha}_{T}$ below which $(1-\\alpha)|S|$\n",
    "  values fall and using it in the right hand side of the constraint:\n",
    "\n",
    "\n",
    "$$2x_A + x_B \\leq b^{1-\\alpha}_{T}$$\n",
    "\n",
    "- this way, there are at most $\\alpha |S|$ scenarios violating the  constraint \n",
    "- for example, in case of $\\alpha=0.95$ and $|S|$ = 1000,\n",
    "  $b^{1-\\alpha}_{T,s}$ is the 51th-smallest value from all scenarios\n",
    "\n",
    "\n"
   ]
  },
  {
   "cell_type": "markdown",
   "metadata": {
    "slideshow": {
     "slide_type": "slide"
    }
   },
   "source": [
    "## Chance Constraints Using Quantiles\n",
    "\n",
    "- observe that the value $b^{1-\\alpha}_{T}$ corresponds to the\n",
    "  $(1-\\alpha)$ quantile of the sample distribution\n",
    "- thus, if we have a random distribution for which we can compute the\n",
    "  $(1-\\alpha)$ quantile directly (without sampling), we can use it without resorting to sampling\n",
    "- for our example, the full model looks as follows:\n",
    "\n",
    "\n",
    "$\\begin{align*}\n",
    "        \\max \\;          2x_A +1.5x_B  \\\\                  \n",
    "        \\text{s.t.} \\;   2x_A + x_B &\\leq b^{1-\\alpha}_{T} \\\\\n",
    "\t\t    \t   x_A + x_B &\\leq 800 \\\\\n",
    "\t\t    \t   0 \\leq x_A &\\leq 400 \\\\\n",
    "\t\t    \t   0 \\leq x_B &\\leq 700 \n",
    "\\end{align*}$\n",
    "\n",
    "- observe that the model does *not* involve scenarios but has\n",
    "  the same size as the deterministic model - we only replace $b_T$ with $b^{1-\\alpha}_T$.\n"
   ]
  },
  {
   "cell_type": "markdown",
   "metadata": {
    "slideshow": {
     "slide_type": "slide"
    }
   },
   "source": [
    "### Individual Chance Constraints\n",
    "\n",
    "Given that we have a single chance constraint, we can ensure feasibility with probability $\\alpha$ by replacing the uncertain right hand side parameter with the $1-\\alpha$-quantile of the distribution.\n",
    "\n"
   ]
  },
  {
   "cell_type": "code",
   "execution_count": 33,
   "metadata": {
    "slideshow": {
     "slide_type": "-"
    }
   },
   "outputs": [],
   "source": [
    "# Create a new model\n",
    "m = mip.Model(\"Belt_Production_Single_Chance_Constraint\")\n",
    "\n",
    "\n",
    "alpha = 0.95\n",
    "\n",
    "#in scipy stats, we get the quantile using the function ppf (inverse cumulative distribution function)\n",
    "# we may also get the quantile from the set of samples!\n",
    "time_available_quantile = time_available_dist.ppf(1-alpha)\n",
    "\n",
    "#decision variables\n",
    "production = [m.add_var(name= f\"production{b}\", lb=0, ub=bucks_available[b]) for b in belt_types]\n",
    "\n",
    "m.objective = maximize(sum(profit_contribution[b] * production[b] for b in belt_types))\n",
    "\n",
    "# we change this variable\n",
    "m += sum (time_consumption[b]*production[b] for b in belt_types) <= time_available_quantile\n",
    "m += sum (production[b] for b in belt_types) <= leather_available "
   ]
  },
  {
   "cell_type": "markdown",
   "metadata": {
    "slideshow": {
     "slide_type": "slide"
    }
   },
   "source": [
    "### Individual Chance Constraints: Solving and Evaluating the Model"
   ]
  },
  {
   "cell_type": "code",
   "execution_count": 34,
   "metadata": {
    "scrolled": true,
    "slideshow": {
     "slide_type": "-"
    }
   },
   "outputs": [
    {
     "name": "stdout",
     "output_type": "stream",
     "text": [
      "Production belt 0: 26.635977978639573\n",
      "Production belt 1: 700.0\n",
      "Total Profit: 1103.2719559572793\n"
     ]
    }
   ],
   "source": [
    "m.optimize()\n",
    "\n",
    "production_decisions = [production[b].x for b in belt_types]\n",
    "\n",
    "for b in belt_types:\n",
    "    print(f'Production belt {b}: {production[b].x}')\n",
    "print(f'Total Profit: {m.objective_value}' )"
   ]
  },
  {
   "cell_type": "markdown",
   "metadata": {
    "slideshow": {
     "slide_type": "fragment"
    }
   },
   "source": [
    "Let us use Monte-Carlo simulation to verify:"
   ]
  },
  {
   "cell_type": "code",
   "execution_count": 35,
   "metadata": {
    "scrolled": true,
    "slideshow": {
     "slide_type": "-"
    }
   },
   "outputs": [
    {
     "name": "stdout",
     "output_type": "stream",
     "text": [
      "Using Monte Carlo, the production plan is feasible with probability 0.95\n"
     ]
    }
   ],
   "source": [
    "      # let's evaluate feasibility using sampling!\n",
    "probability_of_feasibility_from_sampling =  probability_production_plan_is_feasible (production_decisions, time_available_dist.rvs(50000, random_state=42))\n",
    "\n",
    "print (f'Using Monte Carlo, the production plan is feasible with probability {probability_of_feasibility_from_sampling :.02f}')"
   ]
  },
  {
   "cell_type": "markdown",
   "metadata": {
    "slideshow": {
     "slide_type": "slide"
    }
   },
   "source": [
    "# Joint Chance Contraints"
   ]
  },
  {
   "cell_type": "markdown",
   "metadata": {
    "slideshow": {
     "slide_type": "slide"
    }
   },
   "source": [
    "## But: What Happens in Case of  Multiple Uncertain Constraints?\n",
    "\n",
    "**Let us now assume that both resource constraints are uncertain:**\n",
    "- no only time, but also leather capacity is affected by uncertainty, e.g. due\n",
    "  to quality issues, represented by the random variable $B_L$\n",
    "- as in the time case, there is no second-stage / recourse decision is available\n",
    "\n",
    "**Question:** How can we ensure that our plan is feasible with a probability of $\\alpha$?\n",
    "\n",
    "- more formally, how can we ensure the so-called *joint chance constraint*\n",
    "\n",
    "$$ P \\left( \\begin{array}{r}  2 x_A + x_B \\leq B_T \\\\  x_A + x_B \\leq B_L \\end{array} \\right) \\geq \\alpha$$ \n"
   ]
  },
  {
   "cell_type": "markdown",
   "metadata": {
    "slideshow": {
     "slide_type": "slide"
    }
   },
   "source": [
    "## Uncertain Leather Availability: Probability Distribution\n",
    "\n",
    "We assume that leather availability is normally distributed:"
   ]
  },
  {
   "cell_type": "code",
   "execution_count": 37,
   "metadata": {
    "slideshow": {
     "slide_type": "-"
    }
   },
   "outputs": [
    {
     "data": {
      "image/png": "[encoded data removed]",
      "text/plain": [
       "<Figure size 432x288 with 1 Axes>"
      ]
     },
     "metadata": {
      "needs_background": "light"
     },
     "output_type": "display_data"
    }
   ],
   "source": [
    "# available leather\n",
    "leather_available_dist = stats.norm(800,100)\n",
    "\n",
    "\n",
    "# we create a sample vector of demands (demand_dist was defined above), only using positive outcomes\n",
    "leather_available_samples = np.maximum(leather_available_dist.rvs(n_samples, random_state=42),0)\n",
    "\n",
    "count, bins, ignored = plt.hist(leather_available_samples , bins=30, density=True, color='#EEEEEE', edgecolor=\"#AAAAAA\")\n",
    "plt.xlabel('leather available')\n",
    "plt.show()"
   ]
  },
  {
   "cell_type": "markdown",
   "metadata": {
    "slideshow": {
     "slide_type": "slide"
    }
   },
   "source": [
    "## What about using two single chance constraints to model the joint chance constraint?\n",
    "\n",
    "\n",
    "We may enforce that\n",
    "\n",
    "$P(2x_A + x_B \\leq B_{T}) \\geq \\alpha$ **and**  $P(x_A + x_B \\leq B_{L}) \\geq \\alpha$ \n",
    "\n",
    "\n",
    "by the following constraints:\n",
    "\n",
    " \\begin{align*}\n",
    "  2x_A + x_B &\\leq b^{1-\\alpha}_{T} \\\\\n",
    "   x_A + x_B &\\leq b^{1-\\alpha}_{L} \n",
    "\\end{align*}\n",
    "\n",
    "\n",
    "\n",
    "**Does this imply that the problem is feasible with  probability  $\\alpha$?**\n",
    "- Let's check in Python"
   ]
  },
  {
   "cell_type": "markdown",
   "metadata": {
    "slideshow": {
     "slide_type": "slide"
    }
   },
   "source": [
    "## Quantile-Based Model for Two Chance Constraints in Python"
   ]
  },
  {
   "cell_type": "code",
   "execution_count": 45,
   "metadata": {
    "slideshow": {
     "slide_type": "-"
    }
   },
   "outputs": [
    {
     "name": "stdout",
     "output_type": "stream",
     "text": [
      "Production belt 0: 117.7573186524263\n",
      "Production belt 1: 517.7573186524265\n",
      "Total Profit: 1012.1506152834925\n"
     ]
    }
   ],
   "source": [
    "# Create a new model\n",
    "m = mip.Model(\"Belt_Production_Single_Chance_Constraint\")\n",
    "m.verbose=1\n",
    "belt_types = np.arange(2)\n",
    "profit_contribution = [2, 1.5]\n",
    "time_consumption = [2, 1]\n",
    "bucks_available = [400, 700]\n",
    "\n",
    "alpha = 0.95\n",
    "\n",
    "#in scipy stats, we get the quantile using the function ppf (inverse cumulative distribution function)\n",
    "# we may also get the quantile from the set of samples!\n",
    "time_available_quantile = time_available_dist.ppf(1-alpha)\n",
    "leather_available_quantile = leather_available_dist.ppf(1-alpha)\n",
    "\n",
    "\n",
    "#decision variables\n",
    "production = [m.add_var(name= f\"production{b}\", lb=0, ub=bucks_available[b]) for b in belt_types]\n",
    "\n",
    "m.objective = maximize(sum(profit_contribution[b] * production[b] for b in belt_types))\n",
    "\n",
    "# we change this variable\n",
    "m += sum (time_consumption[b]*production[b] for b in belt_types) <= time_available_quantile\n",
    "m += sum (production[b] for b in belt_types) <= leather_available_quantile\n",
    "\n",
    "m.optimize()\n",
    "production_decisions = [production[b].x for b in belt_types]\n",
    "\n",
    "for b in belt_types:\n",
    "    print(f'Production belt {b}: {production[b].x}')\n",
    "print(f'Total Profit: {m.objective_value}' )\n"
   ]
  },
  {
   "cell_type": "markdown",
   "metadata": {
    "slideshow": {
     "slide_type": "slide"
    }
   },
   "source": [
    "## Quantile-Based Model for Two Chance Constraints: Evaluation in Python\n",
    "\n",
    "- in our model, we built the two constraints with $\\alpha=0.95$\n",
    "- how high is the probability that the solution is feasible with respect to both constraints?\n"
   ]
  },
  {
   "cell_type": "code",
   "execution_count": 51,
   "metadata": {
    "slideshow": {
     "slide_type": "fragment"
    }
   },
   "outputs": [
    {
     "name": "stdout",
     "output_type": "stream",
     "text": [
      "We want to ensure feasibility with probability 0.95\n",
      "Based on a Monte-Carlo approximation the production plan is feasible with probability 0.90\n"
     ]
    }
   ],
   "source": [
    "\n",
    "\n",
    "print(f'We want to ensure feasibility with probability {alpha}')\n",
    "\n",
    "\n",
    "def probability_production_plan_is_feasible_time_and_leather  (production_decisions, time_available_samples, leather_available_samples):\n",
    "    n_samples = time_available_samples.size\n",
    "    feasible_samples = np.array([2 * production_decisions[0] + production_decisions[1] <= time_available_samples[s] \n",
    "                                 and production_decisions[0] + production_decisions[1] <= leather_available_samples[s] for s in range(n_samples)])\n",
    "    return np.mean(feasible_samples)\n",
    "\n",
    "n_samples_for_evaluation = 5000\n",
    "samples_time = time_available_dist.rvs(n_samples_for_evaluation)\n",
    "samples_leather = leather_available_dist.rvs(n_samples_for_evaluation)\n",
    "\n",
    "probability_of_feasibility_from_sampling = probability_production_plan_is_feasible_time_and_leather (production_decisions, samples_time, samples_leather )\n",
    "\n",
    "\n",
    "print (f'Based on a Monte-Carlo approximation the production plan is feasible with probability {probability_of_feasibility_from_sampling :.02f}')\n"
   ]
  },
  {
   "cell_type": "markdown",
   "metadata": {
    "slideshow": {
     "slide_type": "slide"
    }
   },
   "source": [
    "## Using Multiple Individual Chance Constraints?\n",
    "\n",
    "As we learned in our example, in general, given a set of $n$ constraints affected by uncertainty and\n",
    "a desired feasibility probability $\\alpha$, the *joint chance\n",
    "constraint* \n",
    "\n",
    "$$P( C_j \\: \\mathrm{holds} \\quad \\forall j=1\\ldots n) \\geq \\alpha$$ \n",
    "\n",
    "is **not** enforced by using a set of single chance constraints of the form\n",
    "\n",
    "$$P( C_j \\: \\mathrm{ holds} ) \\geq \\alpha \\quad \\forall j=1\\ldots n$$\n",
    "\n",
    "\n",
    "**Question**: How can we enforce a such joint chance constraint?\n",
    "- note that in case of multiple uncertain constraints, the scenarios\n",
    "  can no longer be ordered according to strictness of constraints\n",
    "- for example, given two scenarios in the belt production case study,\n",
    "  one may have a smaller $b_T$ and the other a smaller $b_L$\n"
   ]
  },
  {
   "cell_type": "markdown",
   "metadata": {
    "slideshow": {
     "slide_type": "slide"
    }
   },
   "source": [
    "# Using Binary Variables for Modelling Joint Chance Constraints"
   ]
  },
  {
   "cell_type": "markdown",
   "metadata": {
    "slideshow": {
     "slide_type": "slide"
    }
   },
   "source": [
    "## Modeling Chance Constraints using Scenarios and Binary Variables\n",
    "\n",
    "**Key Idea: Let the solver decide which scenarios should hold**\n",
    "\n",
    "- introduce a binary variable $y_s$ for each scenario $s \\in S$:\n",
    "  - $y_s = 0$ means that in scenario $s$, all uncertain constraints hold\n",
    "  - $y_s = 1$ means that in scenario $s$, at least one constraint may be violated\n",
    "\n",
    "- introduce a constraint that ensures that the total probability of\n",
    "  all scenarios for which $y_s = 1$ is $\\leq 1-\\alpha$:\n",
    "  $$\\sum_{s \\in S} p_s y_s \\leq 1-\\alpha$$\n",
    "\n",
    "- introduce a \"scenario realization\" for each uncertain constraint\n",
    "  and each scenario $s$ and link that constraint to $y_s$ to switch it on or off\n",
    "\n",
    " \\begin{align*}\n",
    "2x_A + x_B &\\leq b_{T,s} + M_T y_s &\\forall s \\in S\\\\\n",
    " x_A + x_B &\\leq b_{L,s} + M_L y_s &\\forall s \\in S\n",
    "\\end{align*}\n",
    "\n"
   ]
  },
  {
   "cell_type": "markdown",
   "metadata": {
    "slideshow": {
     "slide_type": "slide"
    }
   },
   "source": [
    "## The Model with Joint Chance Constraints"
   ]
  },
  {
   "cell_type": "markdown",
   "metadata": {
    "cell_style": "split",
    "slideshow": {
     "slide_type": "-"
    }
   },
   "source": [
    "**Sets**\n",
    "- $S$: scenarios\n",
    "   \n",
    "**Decision Variables:**\n",
    "- $x_i$: number of belts to produce from type $i$\n",
    "- $y_s$: binary indicator variable for infeasibility in scenario $s$\n"
   ]
  },
  {
   "cell_type": "markdown",
   "metadata": {
    "cell_style": "split",
    "slideshow": {
     "slide_type": "-"
    }
   },
   "source": [
    "**Parameters:**\n",
    "- $p_s$: probability of scenarios $s$\n",
    "- $b_{r,s}$: availability from resource $r$ (time, leather) in scenario $s$\n",
    "- $M_r$: big-M value for resource $r$ used to switch off constraint\n"
   ]
  },
  {
   "cell_type": "markdown",
   "metadata": {
    "slideshow": {
     "slide_type": "-"
    }
   },
   "source": [
    "\n",
    "\\begin{align*}\n",
    "        \\max \\;          2x_A +1.5x_B  \\\\                  \n",
    "        \\text{s.t.} \\;   2x_A + x_B &\\leq b_{T,s} + M_T y_s &\\forall s \\in S\\\\\n",
    "\t\t    \t   x_A + x_B &\\leq b_{L,s} + M_L y_s &\\forall s \\in S\\\\\n",
    "\t\t\t   \\sum_{s \\in S} p_s y_s &\\leq 1-\\alpha \\\\\n",
    "\t\t    \t   0 \\leq x_A &\\leq 400 \\\\\n",
    "\t\t    \t   0 \\leq x_B &\\leq 700 \\\\\n",
    "\t\t\t   y_s &\\in \\{0,1\\} &\\forall s \\in S\n",
    "\\end{align*}\n",
    "\n",
    "\n"
   ]
  },
  {
   "cell_type": "markdown",
   "metadata": {
    "slideshow": {
     "slide_type": "slide"
    }
   },
   "source": [
    "## The Model with Joint Chance Constraints in Python"
   ]
  },
  {
   "cell_type": "code",
   "execution_count": 57,
   "metadata": {
    "slideshow": {
     "slide_type": "-"
    }
   },
   "outputs": [],
   "source": [
    "alpha = 0.95\n",
    "n_scenarios = 750\n",
    "scenarios = np.arange(n_scenarios)\n",
    "time_available = time_available_dist.rvs(n_scenarios, random_state=5)\n",
    "leather_available = leather_available_dist.rvs(n_scenarios,  random_state=7)"
   ]
  },
  {
   "cell_type": "code",
   "execution_count": 58,
   "metadata": {
    "slideshow": {
     "slide_type": "-"
    }
   },
   "outputs": [],
   "source": [
    "m = mip.Model(\"Belt_Production_Joint_Chance_Constraints\")\n",
    "\n",
    "#probability of each scenario\n",
    "prob = np.full((n_scenarios), 1.0/n_scenarios)\n",
    "\n",
    "\n",
    "#bigM is used for switching off constraints by adding it to the resource capacity in a scenario\n",
    "#if it is chosen as difference between the max and min capacity, it is definitely large enough to switch off the constraint\n",
    "bigM = [max(time_available)-min(time_available),max(leather_available)-min(leather_available)]\n",
    "\n",
    "#decision variables\n",
    "production = [m.add_var(name= f\"production{b}\", lb=0, ub=bucks_available[b]) for b in belt_types]\n",
    "\n",
    "#y-variable\n",
    "is_scenario_violated = [m.add_var(name=f\"is_feasible{s}\", var_type=mip.BINARY ) for s in scenarios]\n",
    "\n",
    "m.objective = maximize(sum(profit_contribution[b] * production[b] for b in belt_types))\n",
    "\n",
    "# one set of constraints per scenario\n",
    "for s in scenarios:\n",
    "    m += sum (time_consumption[b]*production[b] for b in belt_types) <= time_available[s] + bigM[0]*(is_scenario_violated[s])\n",
    "    m += sum (production[b] for b in belt_types) <= leather_available[s] + bigM[1]*(is_scenario_violated[s])\n",
    "\n",
    "# ensure that the right number of scenarios hold\n",
    "m += sum(prob[s]*is_scenario_violated[s] for s in scenarios) <= 1-alpha "
   ]
  },
  {
   "cell_type": "markdown",
   "metadata": {
    "slideshow": {
     "slide_type": "slide"
    }
   },
   "source": [
    "## The Model with Joint Chance Constraints In Python\n"
   ]
  },
  {
   "cell_type": "code",
   "execution_count": 59,
   "metadata": {
    "slideshow": {
     "slide_type": "-"
    }
   },
   "outputs": [
    {
     "name": "stdout",
     "output_type": "stream",
     "text": [
      "Solution time: 34.06522989273071 seconds\n",
      "Production belt 0: 114.67625394947993\n",
      "Production belt 1: 493.86972165175894\n",
      "Total Profit: 970.1570903765983\n"
     ]
    }
   ],
   "source": [
    "from time import time\n",
    "\n",
    "start_time = time()\n",
    "m.optimize()\n",
    "print(f\"Solution time: {time()-start_time} seconds\")\n",
    "\n",
    "production_decisions = [production[b].x for b in belt_types]\n",
    "for b in belt_types:\n",
    "    print(f'Production belt {b}: {production[b].x}')\n",
    "print(f'Total Profit: {m.objective_value}' )"
   ]
  },
  {
   "cell_type": "markdown",
   "metadata": {
    "slideshow": {
     "slide_type": "fragment"
    }
   },
   "source": [
    "Let us now evaluate the probability of having an infeasible model.\n",
    "\n",
    "- first, using the same 500 samples we used in the model"
   ]
  },
  {
   "cell_type": "code",
   "execution_count": 61,
   "metadata": {
    "slideshow": {
     "slide_type": "-"
    }
   },
   "outputs": [
    {
     "name": "stdout",
     "output_type": "stream",
     "text": [
      "We want to ensure feasibility with probability 0.95\n",
      "Using Monte Carlo for the samples used in the optimization, the production plan is feasible with probability 0.95\n"
     ]
    }
   ],
   "source": [
    "print(f'We want to ensure feasibility with probability {alpha}')\n",
    "probability_of_feasibility_from_sampling = probability_production_plan_is_feasible_time_and_leather (production_decisions, time_available, leather_available)\n",
    "\n",
    "print (f'Using Monte Carlo for the samples used in the optimization, the production plan is feasible with probability {probability_of_feasibility_from_sampling :.02f}')"
   ]
  },
  {
   "cell_type": "markdown",
   "metadata": {
    "slideshow": {
     "slide_type": "fragment"
    }
   },
   "source": [
    "- and then, using 5000 new sample (out-of-sample evaluation)"
   ]
  },
  {
   "cell_type": "code",
   "execution_count": 68,
   "metadata": {
    "slideshow": {
     "slide_type": "-"
    }
   },
   "outputs": [
    {
     "name": "stdout",
     "output_type": "stream",
     "text": [
      "Using Monte Carlo with different samples, the production plan is feasible with probability 0.941\n"
     ]
    }
   ],
   "source": [
    "n_samples_for_evaluation = 100000\n",
    "probability_of_feasibility_from_sampling = probability_production_plan_is_feasible_time_and_leather (production_decisions, time_available_dist.rvs(n_samples_for_evaluation), leather_available_dist.rvs(n_samples_for_evaluation))\n",
    "\n",
    "print (f'Using Monte Carlo with different samples, the production plan is feasible with probability {probability_of_feasibility_from_sampling :.03f}')"
   ]
  },
  {
   "cell_type": "markdown",
   "metadata": {
    "slideshow": {
     "slide_type": "slide"
    }
   },
   "source": [
    "# Exercise: Capacity Planning Case Study - Reaching A Certain Profit with a Desired Probability"
   ]
  },
  {
   "cell_type": "markdown",
   "metadata": {
    "slideshow": {
     "slide_type": "slide"
    }
   },
   "source": [
    "## Exercise: Capacity Planning Case Study\n"
   ]
  },
  {
   "cell_type": "markdown",
   "metadata": {
    "slideshow": {
     "slide_type": "-"
    }
   },
   "source": [
    "- Here you once again find the implementation of the capacity planning case study, this time with the modification from last week for obtaining an approximation of a profit distribution\n"
   ]
  },
  {
   "cell_type": "code",
   "execution_count": 69,
   "metadata": {
    "slideshow": {
     "slide_type": "-"
    }
   },
   "outputs": [
    {
     "name": "stdout",
     "output_type": "stream",
     "text": [
      "Capacity decision: 84.27\n",
      "Expected Total Profit: 454.73\n"
     ]
    }
   ],
   "source": [
    "demand_dist = stats.norm(100,25)\n",
    "n_samples = 500\n",
    "\n",
    "# we create a sample vector of demands (demand_dist was defined above), only using positive outcomes\n",
    "demand_sample = np.maximum(demand_dist.rvs(n_samples),0)\n",
    "prob = np.full((n_scenarios), 1/n_scenarios)\n",
    "\n",
    "m = mip.Model(\"Capacity_Planning_Stochastic\")\n",
    "\n",
    "#in stochastic programming, we call the samples scenarios\n",
    "n_scenarios = n_samples\n",
    "scenarios = np.arange(n_scenarios) # set of scenarios\n",
    "\n",
    "#parameters\n",
    "installation_cost = 30\n",
    "contribution_margin = 40\n",
    "\n",
    "#decision variables\n",
    "capacity =  m.add_var(name=\"capacity\", lb=0)\n",
    "\n",
    "production = [m.add_var(name=f\"production{s}\", lb= 0) for s in scenarios]\n",
    "\n",
    "## this is the new variable\n",
    "profit = [m.add_var(name=f\"profit{s}\",  lb=-np.inf) for s in scenarios]\n",
    "\n",
    "m.objective =  maximize( sum(prob[s] * profit[s] for s in scenarios)) \n",
    "\n",
    "for s in scenarios:   \n",
    "    m += profit[s] == -installation_cost*capacity + contribution_margin * production[s] # computes the profit for scenario s\n",
    "    m += production[s] <= demand_sample[s]\n",
    "    m += production[s] <= capacity \n",
    "\n",
    "m.optimize()\n",
    "\n",
    "print(f'Capacity decision: {capacity.x:.02f}')\n",
    "print(f'Expected Total Profit: {m.objective_value:.02f}' )\n",
    "\n",
    "profit_samples = np.array( [ profit[s].x for s in scenarios ])\n",
    "\n"
   ]
  },
  {
   "cell_type": "markdown",
   "metadata": {
    "slideshow": {
     "slide_type": "slide"
    }
   },
   "source": [
    "## Exercise: Capacity Planning Case Study: Tasks\n",
    "\n",
    "- what is the probability that the profit exceeds 500?\n"
   ]
  },
  {
   "cell_type": "code",
   "execution_count": null,
   "metadata": {
    "slideshow": {
     "slide_type": "-"
    }
   },
   "outputs": [],
   "source": []
  },
  {
   "cell_type": "markdown",
   "metadata": {
    "slideshow": {
     "slide_type": "-"
    }
   },
   "source": [
    "- modify the model in a way that we obtain a profit exceeding 500 with a probability of 90%\n",
    "- hint: use the basic idea of using binary variables for modeling (joint) chance constraints!"
   ]
  },
  {
   "cell_type": "markdown",
   "metadata": {
    "slideshow": {
     "slide_type": "slide"
    }
   },
   "source": [
    "## Summary\n",
    "\n",
    "In the two parts of this meeting, we dealt with approaches for avoiding undesired outcomes:\n",
    "\n",
    "#### Part I:  Risk Orientation / Decision-Making as Shaping Distributions\n",
    "- Decision Making under Uncertainty as Shaping Distributions\n",
    "- Comparing Distributions: Stochastic Dominance\n",
    "- Shaping Distributions by Incorporating Risk Attitude into Decision / Optimization Models\n",
    "\n",
    "#### Part II: Feasibility Guarantees by Chance-Constrained Programming\n",
    "- Feasibility Issues in Single-Stage Problems under Uncertainty\n",
    "- Single Chance Constraints\n",
    "- Joint Chance Constraints\n",
    "\n"
   ]
  }
 ],
 "metadata": {
  "celltoolbar": "Slideshow",
  "kernelspec": {
   "display_name": "Python [conda env:shift_scheduling]",
   "language": "python",
   "name": "conda-env-shift_scheduling-py"
  },
  "language_info": {
   "codemirror_mode": {
    "name": "ipython",
    "version": 3
   },
   "file_extension": ".py",
   "mimetype": "text/x-python",
   "name": "python",
   "nbconvert_exporter": "python",
   "pygments_lexer": "ipython3",
   "version": "3.9.12"
  },
  "toc": {
   "base_numbering": 1,
   "nav_menu": {},
   "number_sections": false,
   "sideBar": true,
   "skip_h1_title": false,
   "title_cell": "Table of Contents",
   "title_sidebar": "Contents",
   "toc_cell": false,
   "toc_position": {},
   "toc_section_display": true,
   "toc_window_display": false
  },
  "varInspector": {
   "cols": {
    "lenName": 16,
    "lenType": 16,
    "lenVar": 40
   },
   "kernels_config": {
    "python": {
     "delete_cmd_postfix": "",
     "delete_cmd_prefix": "del ",
     "library": "var_list.py",
     "varRefreshCmd": "print(var_dic_list())"
    },
    "r": {
     "delete_cmd_postfix": ") ",
     "delete_cmd_prefix": "rm(",
     "library": "var_list.r",
     "varRefreshCmd": "cat(var_dic_list()) "
    }
   },
   "types_to_exclude": [
    "module",
    "function",
    "builtin_function_or_method",
    "instance",
    "_Feature"
   ],
   "window_display": false
  }
 },
 "nbformat": 4,
 "nbformat_minor": 2
}
