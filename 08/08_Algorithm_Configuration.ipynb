{
 "cells": [
  {
   "cell_type": "markdown",
   "metadata": {
    "slideshow": {
     "slide_type": "slide"
    }
   },
   "source": [
    "<img src=\"img/logo_wiwi_en_.png\" width=\"30%\" align=\"left\">\n",
    "\n",
    "<img src=\"img/decision_analytics_logo.png\" width=\"17%\" align=\"right\">\n",
    "\n",
    "\n",
    "\n",
    "<br><br><br><br><br><br><br><br>\n",
    "\n",
    "\n",
    "\n",
    "# Combining OR and Data Science\n",
    "\n",
    "**Summer Term 2023**\n",
    "\n",
    "\n",
    "# 8. Algorithm Configuration\n",
    "\n",
    "\n",
    "<br>\n",
    "\n",
    "<br>\n",
    "<br>\n",
    "\n",
    "**J-Prof. Dr. Michael Römer, Till Porrmann, Mohsen Nafar**\n",
    "\n",
    "**Decision Analytics Group  | Bielefeld University**\n"
   ]
  },
  {
   "cell_type": "code",
   "execution_count": 1,
   "metadata": {
    "slideshow": {
     "slide_type": "skip"
    }
   },
   "outputs": [],
   "source": [
    "# Import packages.\n",
    "import numpy as np\n",
    "import scipy.stats as stats\n",
    "import matplotlib.pyplot as plt\n",
    "from mip import *\n",
    "\n",
    "from mip.cbc import cbc_set_parameter\n",
    "\n",
    "from IPython.display import display, HTML\n",
    "\n",
    "import time\n",
    "\n",
    "import pandas as pd\n",
    "\n"
   ]
  },
  {
   "cell_type": "code",
   "execution_count": 2,
   "metadata": {
    "slideshow": {
     "slide_type": "skip"
    }
   },
   "outputs": [
    {
     "data": {
      "text/html": [
       "<style>\n",
       "/* Any CSS style can go in here. */\n",
       ".dataframe th {\n",
       "    font-size: 25px;\n",
       "}\n",
       ".dataframe td {\n",
       "    font-size: 25px;\n",
       "}\n",
       "</style>\n"
      ],
      "text/plain": [
       "<IPython.core.display.HTML object>"
      ]
     },
     "metadata": {},
     "output_type": "display_data"
    }
   ],
   "source": [
    "%%html\n",
    "<style>\n",
    "/* Any CSS style can go in here. */\n",
    ".dataframe th {\n",
    "    font-size: 25px;\n",
    "}\n",
    ".dataframe td {\n",
    "    font-size: 25px;\n",
    "}\n",
    "</style>"
   ]
  },
  {
   "cell_type": "markdown",
   "metadata": {
    "hide_input": true,
    "slideshow": {
     "slide_type": "slide"
    }
   },
   "source": [
    "## Motivation: Consider a Race Car..\n",
    "\n",
    "![race_car](img/race_car_parameter.jpg)\n",
    "\n",
    "- a race car has lots of design parameters / settings to be decided upon\n",
    "- there is not a single best car configuration\n",
    "  - for each race track\n",
    "  - for all weather conditions\n"
   ]
  },
  {
   "cell_type": "markdown",
   "metadata": {
    "slideshow": {
     "slide_type": "slide"
    }
   },
   "source": [
    "## Tuning Algorithm Parameters\n",
    "\n",
    "Like race cars, algorithms have many parameters that influence their performance:\n",
    "\n",
    "![algo_config](img/parameters_algorithm.png)"
   ]
  },
  {
   "cell_type": "markdown",
   "metadata": {
    "slideshow": {
     "slide_type": "fragment"
    }
   },
   "source": [
    "- with good parameter settings, problems can be solved faster (or better)"
   ]
  },
  {
   "cell_type": "markdown",
   "metadata": {
    "slideshow": {
     "slide_type": "slide"
    }
   },
   "source": [
    "## This Meeting: Algorithm Configuration\n",
    "\n",
    "\n",
    "**In this meeting**, we deal with **algorithm configuration**\n",
    "\n",
    "- understanding the relevance of algorithm configuration\n",
    "- basic ideas and concepts\n",
    "- introducing a case study\n",
    "- automating algorithm configuration using black box (Bayesian) optimization\n",
    "- addressing key challenges in algorithm configuration:\n",
    "  - avoiding overfitting\n",
    "  - reducing configuration time\n",
    "\n"
   ]
  },
  {
   "cell_type": "markdown",
   "metadata": {
    "slideshow": {
     "slide_type": "slide"
    }
   },
   "source": [
    "## Case Study: Solving Chance-Constrained Programs Faster\n",
    "\n",
    "- imagine a consulting project with a small belt manufacturing company where we\n",
    "  want to use **joint chance constrained programming** (CCP) (see part 6 for the implementation)\n",
    "- CCP models with binary variables can be very hard to solve \n",
    "- commercial solvers are very powerful, but only free for academic use\n",
    "  - for small commercial projects, they tend to be too expensive:\n",
    "     **a single Gurobi license is about $ 10 000**\n",
    "- we will instead use the **open source** solver **CBC**"
   ]
  },
  {
   "cell_type": "markdown",
   "metadata": {
    "slideshow": {
     "slide_type": "fragment"
    }
   },
   "source": [
    "#### How can we improve CBC's performace?\n",
    "- use algorithm configuration to improve CBC's performance for CCP models with 200 scenarios\n",
    "- we would like to achieve a similar performance as Gurobi \n",
    "  - in my tests, Gurobi was about 3x as fast as CBC"
   ]
  },
  {
   "cell_type": "markdown",
   "metadata": {
    "slideshow": {
     "slide_type": "slide"
    }
   },
   "source": [
    "## Case Study: Uncertain Availability of Time and Leather\n",
    "- in the case study, we assume that both time and leather availability is uncertain \n",
    "- there is no possibility to resort to extra hours\n",
    "- we want to find a production plan that is feasible with probability of 95\\% \n",
    "\n",
    "We create 200 samples for both time and leather:"
   ]
  },
  {
   "cell_type": "code",
   "execution_count": 57,
   "metadata": {
    "cell_style": "center",
    "hide_input": true,
    "scrolled": true,
    "slideshow": {
     "slide_type": "-"
    }
   },
   "outputs": [
    {
     "data": {
      "image/png": "[encoded data removed]",
      "text/plain": [
       "<Figure size 864x345.6 with 2 Axes>"
      ]
     },
     "metadata": {
      "needs_background": "light"
     },
     "output_type": "display_data"
    }
   ],
   "source": [
    "n_scenarios = 200\n",
    "\n",
    "np.random.seed(seed=1)\n",
    "time_available_dist = stats.norm(1000,150)\n",
    "leather_available_dist = stats.norm(800,100)\n",
    "\n",
    "samples_time_available = time_available_dist.rvs(n_scenarios)\n",
    "samples_leather_available = leather_available_dist.rvs(n_scenarios)\n",
    "\n",
    "fig, (ax1,ax2) = plt.subplots(1, 2,figsize=(12, 4.8), constrained_layout=True)\n",
    "fig.suptitle(\"Samples from the distributions of the uncertain model parameters\")\n",
    "ax1.set_ylabel(\"probability\")\n",
    "\n",
    "\n",
    "ax1.set_title(\"time\")\n",
    "count, bins, ignored = ax1.hist( samples_time_available , bins=30, density=True, color='#EEEEEE', edgecolor=\"#AAAAAA\")\n",
    "ax1.set_xlabel(\"available time\")\n",
    "\n",
    "ax2.set_title(\"leather\")\n",
    "count, bins, ignored = ax2.hist( samples_leather_available , bins=30, density=True, color='#EEEEEE', edgecolor=\"#AAAAAA\")\n",
    "ax2.set_xlabel(\"available leather\")\n",
    "plt.show()"
   ]
  },
  {
   "cell_type": "markdown",
   "metadata": {
    "slideshow": {
     "slide_type": "slide"
    }
   },
   "source": [
    "## Case Study: Python Implementation of the Model Creation\n",
    "Below, the creation of the mathematical is wrapped into a function that takes\n",
    "- the time and leather samples\n",
    "- and the solver \n",
    "as parameters\n",
    "\n"
   ]
  },
  {
   "cell_type": "code",
   "execution_count": 6,
   "metadata": {
    "slideshow": {
     "slide_type": "-"
    }
   },
   "outputs": [],
   "source": [
    "def build_model_with_samples(samples_time_available, samples_leather_available, solver):\n",
    "    \n",
    "    n_scenarios = len(samples_time_available)    \n",
    "    scenarios = np.arange(n_scenarios)\n",
    "    \n",
    "    #sets\n",
    "    belt_types = np.arange(2)\n",
    "\n",
    "    #deterministic parameters\n",
    "    profit_contribution = [2, 1.5]\n",
    "    time_consumption = [2, 1]\n",
    "    bucks_available = [400, 700]\n",
    "\n",
    "    #probability of each scenario\n",
    "    prob = np.full((n_scenarios), 1.0/n_scenarios)\n",
    "\n",
    "    alpha = 0.95\n",
    "    #bigM is used for switching off constraints by adding it to the resource capacity in a scenario\n",
    "    #if it is chosen as difference between the max and min capacity, it is definitely large enough to switch off the constraint\n",
    "    bigM = [max(samples_time_available)-min(samples_time_available),max(samples_leather_available)-min(samples_leather_available)]\n",
    "        \n",
    "    m = Model(solver_name=solver)  \n",
    "    production = [ m.add_var(var_type=INTEGER) for i in belt_types ] # production variable \n",
    "    is_scenario_violated =  [ m.add_var(var_type=BINARY) for s in scenarios ] # binary variable indicating if scenario is vilated or not\n",
    "\n",
    "    m.objective =  maximize( xsum(profit_contribution[b] * production[b] for b in belt_types) ) # objective function\n",
    "\n",
    "    for s in scenarios:\n",
    "        m += sum (time_consumption[b]*production[b] for b in belt_types) <= samples_time_available[s] + bigM[0]*(is_scenario_violated[s]) # chance constraint for time\n",
    "        m += sum (production[b] for b in belt_types) <= samples_leather_available[s] + bigM[1]*(is_scenario_violated[s]) # chance constraint for leather\n",
    "   \n",
    "    m += sum ( prob[s]*is_scenario_violated[s] for s in scenarios) <= 1-alpha   # enforcing the maximium allowed violation probability\n",
    "\n",
    "    return m"
   ]
  },
  {
   "cell_type": "markdown",
   "metadata": {
    "slideshow": {
     "slide_type": "slide"
    }
   },
   "source": [
    "## Let us Try the Different Solvers\n",
    "- CBC"
   ]
  },
  {
   "cell_type": "code",
   "execution_count": 11,
   "metadata": {
    "slideshow": {
     "slide_type": "-"
    }
   },
   "outputs": [
    {
     "name": "stdout",
     "output_type": "stream",
     "text": [
      "Solution time with CBC: 1.06 seconds\n"
     ]
    }
   ],
   "source": [
    "model_instance_cbc = build_model_with_samples(samples_time_available, samples_leather_available, solver=CBC)\n",
    "\n",
    "start = time.time()\n",
    "\n",
    "model_instance_cbc.optimize()\n",
    "\n",
    "print (f'Solution time with CBC: {time.time()-start:0.2f} seconds' )"
   ]
  },
  {
   "cell_type": "markdown",
   "metadata": {
    "slideshow": {
     "slide_type": "fragment"
    }
   },
   "source": [
    "- Gurobi"
   ]
  },
  {
   "cell_type": "code",
   "execution_count": 10,
   "metadata": {
    "slideshow": {
     "slide_type": "-"
    }
   },
   "outputs": [
    {
     "name": "stdout",
     "output_type": "stream",
     "text": [
      "Solution time with Gurobi: 0.10 seconds\n"
     ]
    }
   ],
   "source": [
    "model_instance_gurobi = build_model_with_samples(samples_time_available, samples_leather_available, solver=GRB)\n",
    "\n",
    "start = time.time()\n",
    "\n",
    "model_instance_gurobi.optimize()\n",
    "\n",
    "print (f'Solution time with Gurobi: {time.time()-start:0.2f} seconds' )\n"
   ]
  },
  {
   "cell_type": "markdown",
   "metadata": {
    "slideshow": {
     "slide_type": "-"
    }
   },
   "source": [
    "**Question: Can we tune the (free) solver CBC to become competitive with Gurobi for this problem?**"
   ]
  },
  {
   "cell_type": "markdown",
   "metadata": {
    "slideshow": {
     "slide_type": "slide"
    }
   },
   "source": [
    "# Algorithm Configuration Basics"
   ]
  },
  {
   "cell_type": "markdown",
   "metadata": {
    "slideshow": {
     "slide_type": "slide"
    }
   },
   "source": [
    "## What are Parameters?\n",
    "\n",
    "Parameters are settings of an algorithm (or solver) that change the\n",
    "way an algorithm solves a problem."
   ]
  },
  {
   "cell_type": "markdown",
   "metadata": {
    "slideshow": {
     "slide_type": "slide"
    }
   },
   "source": [
    "\n",
    "## What are Parameters?\n",
    "\n",
    "\n",
    "Parameters are settings of an algorithm (or solver) that change the\n",
    "way an algorithm solves a problem.\n",
    "\n",
    "### There are configurable and non-configurable parameters\n",
    "\n"
   ]
  },
  {
   "cell_type": "markdown",
   "metadata": {
    "cell_style": "split",
    "slideshow": {
     "slide_type": "-"
    }
   },
   "source": [
    "**Configurable**\n",
    "- simulated annealing start temperature\n",
    "- population size in a genetic algorithm (GA)\n",
    "- branching heuristic in Branch-and-Bound \n",
    "- probability of a GA mutation"
   ]
  },
  {
   "cell_type": "markdown",
   "metadata": {
    "cell_style": "split",
    "slideshow": {
     "slide_type": "-"
    }
   },
   "source": [
    "**Non-Configurable**\n",
    "- random seed\n",
    "- instance to be solved\n",
    "- numerical accuracy in an exact solver\n",
    "- maximum solution time\n"
   ]
  },
  {
   "cell_type": "markdown",
   "metadata": {
    "slideshow": {
     "slide_type": "slide"
    }
   },
   "source": [
    "## Parameter Types\n",
    "\n",
    "\n",
    "- Continuous: e.g. $[1.0, 5.0]$\n",
    "- Discrete: e.g. $\\{1, \\dots, 10\\}$\n",
    "- Categorical: e.g. $\\{a, b, c, d\\}$\n",
    "- Ordinal: e.g. $\\{low, medium, high\\}$ (Ordered set)\n"
   ]
  },
  {
   "cell_type": "markdown",
   "metadata": {
    "slideshow": {
     "slide_type": "slide"
    }
   },
   "source": [
    "\n",
    "## Parameter Examples: Genetic Algorithm\n",
    "A genetic algorithm could have the following parameters:\n",
    "\n",
    "\n",
    "| Parameter      | Description                               |Considered values    |\n",
    "|:--------------------|:-------------------------------------------|:----------------------------|\n",
    "| $$\\color{cyan} {\\textsf{ population }}$$ | Population size    | 1..infinity                      |\n",
    "| $$\\color{red} {\\textsf{recombProb }}$$ | Recombination probability| 0-1.0                       |\n",
    "| $$\\color{red} {\\textsf{mutProb }}$$    |  Mutation probability          | 0-1.0                |\n",
    "| $$\\color{green} {\\textsf{select   }}$$    | Selection heuristic             | 'Roulette', 'Tournament', 'Random'       |\n",
    "| $$\\color{green}{\\textsf{fitness-scaling  }}$$    | Use fitness scaling?     | 'yes', 'no'              |\n",
    "\n",
    "$$\\color{cyan}{\\textsf{discrete }}, \\color{red}{\\textsf{continuous}}, \\color{green}{\\textsf{categorical}}$$"
   ]
  },
  {
   "cell_type": "markdown",
   "metadata": {
    "slideshow": {
     "slide_type": "slide"
    }
   },
   "source": [
    "## MIP Solver Parameters Used in our Case Study\n",
    "In our case study, we will configure the MIP solver *CBC*\n",
    "- CBC has many parameters, but we will only use a subset\n",
    "- we will use the following parameters for configuration:\n",
    "\n",
    "\n",
    "| Parameter      | Description                               |Considered values    |\n",
    "|:--------------------|:-------------------------------------------|:----------------------------|\n",
    "| $$\\color{green}{\\textsf{nodeStrategy}}$$    | Strategy for selecting nodes to branch on   | 'depth', 'fewest','hybrid' |\n",
    "| $$\\color{cyan} {\\textsf{ strongBranching }}$$ | # vars. to consider in strong branching     | 0-10                       |\n",
    "| $$\\color{cyan} {\\textsf{trustPseudoCosts }}$$ | str. br. evals before trusting pseudo costs | 0-10                       |\n",
    "| $$\\color{green} {\\textsf{preprocess }}$$    | Switch for model preprocessing              | 'on', 'off'                |\n",
    "| $$\\color{green} {\\textsf{presolve   }}$$    | Switch for presolve reductions              | 'on', 'off','sos'          |\n",
    "| $$\\color{green}{\\textsf{cutsOnOff   }}$$    | Switch for cut generation (all cuts)        | 'on', 'off'                |\n",
    "| $$\\color{green}{\\textsf{ heuristicsOnOff }}$$ | Turn (all) heuristics on/off                | 'on', 'off'             |\n",
    "\n",
    "$$\\color{cyan}{\\textsf{discrete }}, \\color{red}{\\textsf{continuous}}, \\color{green}{\\textsf{categorical}}$$"
   ]
  },
  {
   "cell_type": "markdown",
   "metadata": {
    "slideshow": {
     "slide_type": "slide"
    }
   },
   "source": [
    "## Let us Start Playing with CBC Parameters in our Case Study\n",
    "\n",
    "- first, we write a function for setting parameters\n"
   ]
  },
  {
   "cell_type": "code",
   "execution_count": 12,
   "metadata": {
    "slideshow": {
     "slide_type": "-"
    }
   },
   "outputs": [],
   "source": [
    "def set_cbc_parameter(model_instance, parameter, value):\n",
    "    cbc_set_parameter(model_instance.solver,parameter,str(value)) # the function cbc_set parameter only takes string, we thus convert numbers to strings here\n",
    "  "
   ]
  },
  {
   "cell_type": "markdown",
   "metadata": {
    "slideshow": {
     "slide_type": "fragment"
    }
   },
   "source": [
    "- now, we try out the parameter 'node_strategy' to 'depth'\n",
    "- observe: we first make a copy to avoid that CBC uses a *warm start*, that is, starts from the previous state"
   ]
  },
  {
   "cell_type": "code",
   "execution_count": 18,
   "metadata": {
    "slideshow": {
     "slide_type": "-"
    }
   },
   "outputs": [
    {
     "name": "stdout",
     "output_type": "stream",
     "text": [
      "Solution time: 1.02 seconds\n"
     ]
    }
   ],
   "source": [
    "model_instance_cbc = model_instance_cbc.copy() # reset the model to a fresh state (to avoid warm start!)\n",
    "\n",
    "set_cbc_parameter(model_instance_cbc, 'node_strategy','fewest') # as an example, let us try depth-first-search\n",
    "\n",
    "start = time.time()\n",
    "model_instance_cbc.optimize()\n",
    "print (f'Solution time: {time.time()-start:0.2f} seconds' )\n"
   ]
  },
  {
   "cell_type": "markdown",
   "metadata": {
    "slideshow": {
     "slide_type": "slide"
    }
   },
   "source": [
    "## Making Experimentation Easier: An Evaluation Function\n",
    "\n",
    "- we write a function that takes a model instance and a set of named parameter-value pairs\n",
    "- and performs the complete evaluation based on a threshold of 30 seconds (returning the PAR10-performance, that is 10\\*30 in case of timeout"
   ]
  },
  {
   "cell_type": "code",
   "execution_count": 19,
   "metadata": {
    "slideshow": {
     "slide_type": "-"
    }
   },
   "outputs": [],
   "source": [
    "def evaluate_parameters_on_instance(model_instance, **params):\n",
    "\n",
    "    model = model_instance.copy() # we make a copy of the model here since    \n",
    "    model.seed = 42 # set the seed to make multiple runs comparable\n",
    "    \n",
    "    for param, value in params.items(): # iterate over the names and values of the parameters\n",
    "        cbc_set_parameter(model.solver,param,str(value)) # the function cbc_set parameter takes only strings\n",
    "        \n",
    "    time_limit_seconds = 30 \n",
    "    start = time.time()    \n",
    "    status = model.optimize(max_seconds=time_limit_seconds) # we set the runtime limit to 30\n",
    "    \n",
    "    if status == OptimizationStatus.OPTIMAL:    \n",
    "        return (time.time()-start)    \n",
    "    else: #  if the limit is exceeded, we return the time_limit *10, this is the PAR10 logic   \n",
    "        return time_limit_seconds * 10"
   ]
  },
  {
   "cell_type": "markdown",
   "metadata": {
    "slideshow": {
     "slide_type": "fragment"
    }
   },
   "source": [
    "- let's see this in action:"
   ]
  },
  {
   "cell_type": "code",
   "execution_count": 20,
   "metadata": {
    "slideshow": {
     "slide_type": "-"
    }
   },
   "outputs": [
    {
     "name": "stdout",
     "output_type": "stream",
     "text": [
      "Solution time: 0.99 seconds\n",
      "Solution time: 0.91 seconds\n"
     ]
    }
   ],
   "source": [
    "performance = evaluate_parameters_on_instance(model_instance_cbc, nodeStrategy='hybrid', heuristicsOnOff='off', preprocess='off')\n",
    "print (f'Solution time: {performance:0.2f} seconds' )\n",
    "performance = evaluate_parameters_on_instance(model_instance_cbc, nodeStrategy='hybrid', heuristicsOnOff='off', 𝗌𝗍𝗋𝗈𝗇𝗀𝖡𝗋𝖺𝗇𝖼𝗁𝗂𝗇𝗀 =0.4, presolve='off', preprocess='off',𝗍𝗋𝗎𝗌𝗍𝖯𝗌𝖾𝗎𝖽𝗈𝖢𝗈𝗌𝗍𝗌=0)\n",
    "print (f'Solution time: {performance:0.2f} seconds' )"
   ]
  },
  {
   "cell_type": "markdown",
   "metadata": {
    "slideshow": {
     "slide_type": "slide"
    }
   },
   "source": [
    "## Exercise: Play with the Parameters!\n",
    "\n",
    "Play with the following parameters! What is your best parameter combination?\n",
    "\n",
    "| Parameter      | Description                               |Considered values    |\n",
    "|:--------------------|:-------------------------------------------|:----------------------------|\n",
    "| $$\\color{green}{\\textsf{nodeStrategy}}$$    | Strategy for selecting nodes to branch on   | 'depth', 'fewest','hybrid' |\n",
    "| $$\\color{cyan} {\\textsf{ strongBranching }}$$ | # vars. to consider in strong branching     | 0-10                       |\n",
    "| $$\\color{cyan} {\\textsf{trustPseudoCosts }}$$ | str. br. evals before trusting pseudo costs | 0-10                       |\n",
    "| $$\\color{green} {\\textsf{preprocess }}$$    | Switch for model preprocessing              | 'on', 'off'                |\n",
    "| $$\\color{green} {\\textsf{presolve   }}$$    | Switch for presolve reductions              | 'on', 'off','sos'          |\n",
    "| $$\\color{green}{\\textsf{cutsOnOff   }}$$    | Switch for cut generation (all cuts)        | 'on', 'off'                |\n",
    "| $$\\color{green}{\\textsf{ heuristicsOnOff }}$$ | Turn (all) heuristics on/off                | 'on', 'off'             |\n",
    "\n",
    "$$\\color{cyan}{\\textsf{discrete }}, \\color{red}{\\textsf{continuous}}, \\color{green}{\\textsf{categorical}}$$"
   ]
  },
  {
   "cell_type": "code",
   "execution_count": 27,
   "metadata": {},
   "outputs": [
    {
     "name": "stdout",
     "output_type": "stream",
     "text": [
      "Solution time: 0.33 seconds\n"
     ]
    }
   ],
   "source": [
    "performance = evaluate_parameters_on_instance(model_instance_cbc, nodeStrategy='hybrid', heuristicsOnOff='off', preprocess='off',presolve='off', cutsOnOff='off')\n",
    "print (f'Solution time: {performance:0.2f} seconds' )"
   ]
  },
  {
   "cell_type": "markdown",
   "metadata": {
    "slideshow": {
     "slide_type": "slide"
    }
   },
   "source": [
    "## Why Bothering with Algorithm Configuration?\n",
    "\n",
    "**Why would we care about algorithm configuration?**\n",
    "- in many cases, algorithms are not only used once, but are part of a repeating planning workflow\n",
    "  - e.g. monthly staff scheduling, daily power plant dispatch\n",
    "- in these cases, the instance to solve are very similar\n",
    "- sometimes, runtime is critical to allow testing multiple scenarios\n",
    "- in many cases, configuration can lead to big runtime reductions\n",
    "  - often, only a fraction (say, 1/10) of original runtime is needed\n",
    "    after configuration\n",
    "    "
   ]
  },
  {
   "cell_type": "markdown",
   "metadata": {
    "slideshow": {
     "slide_type": "slide"
    }
   },
   "source": [
    "## Goals of Algorithm Configuration\n",
    "\n",
    "There are two main types of algorithm configuration:\n",
    "\n",
    "<div class=\"alert alert-block alert-info\">\n",
    "<b>Runtime configuration</b> <br> \n",
    "<li>Concerned with minimizing the runtime of a target algorithm.\n",
    "</div>\n",
    "\n",
    "<div class=\"alert alert-block alert-danger\">\n",
    "<b>Quality configuration</b> <br> \n",
    "<li>Concerned with minimizing an objective function seen only through the evaluation of an algorithm.\n",
    "<li> This is generally the fitness/objective function of an optimization algorithm or the solution of a simulation.\n",
    "</div>\n"
   ]
  },
  {
   "cell_type": "markdown",
   "metadata": {
    "slideshow": {
     "slide_type": "slide"
    }
   },
   "source": [
    "## Offline Configuration and  Online Application\n",
    "\n",
    "\n",
    "![off_on](img/algorithm_configuration_offline_online.png)\n",
    "\n",
    "\n"
   ]
  },
  {
   "cell_type": "markdown",
   "metadata": {
    "slideshow": {
     "slide_type": "slide"
    }
   },
   "source": [
    "## Homogeneous vs Heterogeneous Instance Sets\n",
    "#### Homogeneous datasets\n",
    "*Homogeneous instance sets* contain instances with similar structures, allowing algorithms to use similar parameters on all of the instances to solve them.\n",
    "\n",
    "\n",
    "#### Heterogeneous instance sets\n",
    "*Heterogeneous instance sets* consist of two or more homogeneous sub-sets, but which instance belongs to which sub-aset is unclear. Different parameter values are required for different instances.\n",
    "\n",
    "$\\rightarrow$ This case may require a combination of algorithm selection (e.g. based on clustering) and algorithm configuration!\n"
   ]
  },
  {
   "cell_type": "markdown",
   "metadata": {
    "slideshow": {
     "slide_type": "slide"
    }
   },
   "source": [
    "## Manual Configuration?\n",
    "\n",
    "Can't we just **manually** tune parameters? \n",
    "\n",
    "We can, but it is\n",
    "- time-consuming\n",
    "- error-prone and \n",
    "- tedious"
   ]
  },
  {
   "cell_type": "code",
   "execution_count": 28,
   "metadata": {
    "slideshow": {
     "slide_type": "-"
    }
   },
   "outputs": [
    {
     "name": "stdout",
     "output_type": "stream",
     "text": [
      "Solution time: 0.96 seconds\n",
      "Solution time: 1.03 seconds\n",
      "Solution time: 1.03 seconds\n"
     ]
    }
   ],
   "source": [
    "performance = evaluate_parameters_on_instance(model_instance_cbc, nodeStrategy='hybrid', heuristicsOnOff='off')\n",
    "print (f'Solution time: {performance:0.2f} seconds' )\n",
    "\n",
    "performance = evaluate_parameters_on_instance(model_instance_cbc, nodeStrategy='hybrid', heuristicsOnOff='on')\n",
    "print (f'Solution time: {performance:0.2f} seconds' )\n",
    "\n",
    "performance = evaluate_parameters_on_instance(model_instance_cbc, nodeStrategy='fewest', heuristicsOnOff='on')\n",
    "print (f'Solution time: {performance:0.2f} seconds' )"
   ]
  },
  {
   "cell_type": "markdown",
   "metadata": {
    "slideshow": {
     "slide_type": "slide"
    }
   },
   "source": [
    "In many cases, it is more effective to **automate** algorithm\n",
    "configuration!"
   ]
  },
  {
   "cell_type": "markdown",
   "metadata": {
    "slideshow": {
     "slide_type": "slide"
    }
   },
   "source": [
    "# Automating the Configuration of Algorithms"
   ]
  },
  {
   "cell_type": "markdown",
   "metadata": {
    "slideshow": {
     "slide_type": "slide"
    }
   },
   "source": [
    "##  Automating the Configuration of Algorithms\n",
    "\n",
    "The goal of the following part is to get an introduction to the topic of\n",
    "**algorithm configuration**\n",
    "\n",
    "In particular,  will discuss\n",
    "- the idea and the challenges of automatic algorithm configuration\n",
    "- how to use black box (Bayesian) optimization for automatic algorithm configuration\n",
    "- how to address the challenge of overfitting\n",
    "- how to speed up algorithm selection by using early stopping\n",
    "\n",
    "As in the last weeks, we will\n",
    "- use a case study (see above) to illustrate the concepts learned\n",
    "- provide implementations of an algorithm configuration approach for\n",
    "  this case study in this Jupyter Notebook\n"
   ]
  },
  {
   "cell_type": "markdown",
   "metadata": {
    "slideshow": {
     "slide_type": "slide"
    }
   },
   "source": [
    "## Automatic Algorithm Configuration: The Idea and the Challenges"
   ]
  },
  {
   "cell_type": "markdown",
   "metadata": {
    "slideshow": {
     "slide_type": "slide"
    }
   },
   "source": [
    "## Automatic Algorithm Configuration\n",
    "\n",
    "- automatic algorithm configurators **automatically** try different parameter settings on selected instances and measure the performance of the target algorithm. \n",
    "- they perform the search in a somewhat intelligent way\n",
    "\n",
    "![off_on](img/automatic_algorithm_configuration.png)\n"
   ]
  },
  {
   "cell_type": "markdown",
   "metadata": {
    "slideshow": {
     "slide_type": "slide"
    }
   },
   "source": [
    "## Challenges\n",
    "\n",
    "#### Automated algorithm configurators have to overcome the following challenges (among many others):\n",
    "- Which instances to evaluate parameterizations on\n",
    "- Which parameterizations to test\n",
    "- Testing parameterizations is **expensive**\n",
    "- Big risk of overfitting"
   ]
  },
  {
   "cell_type": "markdown",
   "metadata": {
    "slideshow": {
     "slide_type": "fragment"
    }
   },
   "source": [
    "#### Why is algorithm configuration different from other optimization problems?\n",
    "- The objective function in most metaheuristics is easy to evaluate (that is: fast)\n",
    "\n",
    "-  Algorithm configurators must execute the target algorithm with a parameterization **on multiple instances** to evaluate it."
   ]
  },
  {
   "cell_type": "markdown",
   "metadata": {
    "slideshow": {
     "slide_type": "slide"
    }
   },
   "source": [
    "## Addressing the Challenges of Algorithm Configuration: Case Study\n",
    "\n",
    "\n",
    "In the remainder of this meeting, we will see how we can address some of\n",
    "the challenges fusing \"standard\" tools in our case study:\n",
    "\n",
    "\n",
    "\n",
    "- using **Bayesian Optimization** to search the space of configurations\n",
    "- optimize using **multiple training instances** to avoid overfitting\n",
    "- use a simple **early stopping strategy** to reduce the time spent evaluating bad configurations\n"
   ]
  },
  {
   "cell_type": "markdown",
   "metadata": {
    "slideshow": {
     "slide_type": "slide"
    }
   },
   "source": [
    "# Using Black Box (Bayesian) Optimization for Algorithm Configuration"
   ]
  },
  {
   "cell_type": "markdown",
   "metadata": {
    "slideshow": {
     "slide_type": "slide"
    }
   },
   "source": [
    "## Black Box Optimization using Bayesian Optimization\n",
    "\n",
    "A **black box optimizer** treats the optimization problem as \"black box\"\n",
    "- it does not make any assumption regarding problem structure (e.g. linearity)\n",
    "- it only requires a mechanism that returns the value of a solution / configuration"
   ]
  },
  {
   "cell_type": "markdown",
   "metadata": {
    "slideshow": {
     "slide_type": "fragment"
    }
   },
   "source": [
    "**Key Idea of Bayesian Optimization**\n",
    "- use a machine learning model (mostly: Gaussian Processes) as a\n",
    "  surrogate model for the configuration space\n",
    "- initialize the model using few (e.g. random) configurations\n",
    "- update the surrogate model after each new evaluation"
   ]
  },
  {
   "cell_type": "markdown",
   "metadata": {
    "heading_collapsed": true,
    "slideshow": {
     "slide_type": "slide"
    }
   },
   "source": [
    "## Illustrating Bayesian Optimization\n",
    "\n",
    "**Key Idea of Bayesian Optimization**\n",
    "- use a machine learning model (mostly: Gaussian Processes) as a\n",
    "  surrogate model for the configuration space\n",
    "- initialize the model using few (e.g. random) configurations\n",
    "- update the surrogate model after each new evaluation\n",
    "\n",
    "![BO](img/BO-0.png)\n",
    "\n",
    "Source: https://distill.pub/2020/bayesian-optimization/"
   ]
  },
  {
   "cell_type": "markdown",
   "metadata": {
    "slideshow": {
     "slide_type": "slide"
    }
   },
   "source": [
    "## Illustrating Bayesian Optimization\n",
    "\n",
    "**Key Idea of Bayesian Optimization**\n",
    "- use a machine learning model (mostly: Gaussian Processes) as a\n",
    "  surrogate model for the configuration space\n",
    "- initialize the model using few (e.g. random) configurations\n",
    "- update the surrogate model after each new evaluation\n",
    "\n",
    "![BO](img/BO-1.png)\n",
    "\n",
    "Source: https://distill.pub/2020/bayesian-optimization/"
   ]
  },
  {
   "cell_type": "markdown",
   "metadata": {
    "slideshow": {
     "slide_type": "slide"
    }
   },
   "source": [
    "## Illustrating Bayesian Optimization\n",
    "\n",
    "**Key Idea of Bayesian Optimization**\n",
    "- use a machine learning model (mostly: Gaussian Processes) as a\n",
    "  surrogate model for the configuration space\n",
    "- initialize the model using few (e.g. random) configurations\n",
    "- update the surrogate model after each new evaluation\n",
    "\n",
    "![BO](img/BO-2.png)\n",
    "\n",
    "Source: https://distill.pub/2020/bayesian-optimization/"
   ]
  },
  {
   "cell_type": "markdown",
   "metadata": {
    "slideshow": {
     "slide_type": "slide"
    }
   },
   "source": [
    "## Illustrating Bayesian Optimization\n",
    "\n",
    "**Key Idea of Bayesian Optimization**\n",
    "- use a machine learning model (mostly: Gaussian Processes) as a\n",
    "  surrogate model for the configuration space\n",
    "- initialize the model using few (e.g. random) configurations\n",
    "- update the surrogate model after each new evaluation\n",
    "\n",
    "![BO](img/BO-3.png)\n",
    "\n",
    "Source: https://distill.pub/2020/bayesian-optimization/"
   ]
  },
  {
   "cell_type": "markdown",
   "metadata": {
    "slideshow": {
     "slide_type": "slide"
    }
   },
   "source": [
    "## Illustrating Bayesian Optimization\n",
    "\n",
    "**Key Idea of Bayesian Optimization**\n",
    "- use a machine learning model (mostly: Gaussian Processes) as a\n",
    "  surrogate model for the configuration space\n",
    "- initialize the model using few (e.g. random) configurations\n",
    "- update the surrogate model after each new evaluation\n",
    "\n",
    "![BO](img/BO-4.png)\n",
    "\n",
    "Source: https://distill.pub/2020/bayesian-optimization/"
   ]
  },
  {
   "cell_type": "markdown",
   "metadata": {
    "slideshow": {
     "slide_type": "slide"
    }
   },
   "source": [
    "## Illustrating Bayesian Optimization\n",
    "\n",
    "**Key Idea of Bayesian Optimization**\n",
    "- use a machine learning model (mostly: Gaussian Processes) as a\n",
    "  surrogate model for the configuration space\n",
    "- initialize the model using few (e.g. random) configurations\n",
    "- update the surrogate model after each new evaluation\n",
    "\n",
    "![BO](img/BO-5.png)\n",
    "Source: https://distill.pub/2020/bayesian-optimization/"
   ]
  },
  {
   "cell_type": "markdown",
   "metadata": {
    "slideshow": {
     "slide_type": "slide"
    }
   },
   "source": [
    "## Scikit-Optimize: A Package for Black Box Optimization\n",
    "\n",
    "A **black box optimizer** treats the optimization problem as \"black box\"\n",
    "- it does not make any assumption regarding problem structure (e.g. linearity)\n",
    "- it only requires a mechanism that returns the value of a solution / configuration"
   ]
  },
  {
   "cell_type": "markdown",
   "metadata": {
    "slideshow": {
     "slide_type": "fragment"
    }
   },
   "source": [
    "**Scikit-Optimize**\n",
    "- is a package for black box optimization with different methods, in particular:\n",
    "  - Random Search \n",
    "  - **Bayesian Optimization**\n",
    "- it can also be used for hyperparameter tuning of machine learning models"
   ]
  },
  {
   "cell_type": "markdown",
   "metadata": {
    "slideshow": {
     "slide_type": "slide"
    }
   },
   "source": [
    "## Scikit-Optimize: A Package for Black Box Optimization\n",
    "\n",
    "A **black box optimizer** treats the optimization problem as \"black box\"\n",
    "- it does not make any assumption regarding problem structure (e.g. linearity)\n",
    "- it only requires a mechanism that returns the value of a solution / configuration\n",
    "\n",
    "**Scikit-Optimize**\n",
    "- is a package for black box optimization with different methods, in particular:\n",
    "  - random search \n",
    "  - **Bayesian Optimization**\n",
    "- it can also be used for hyperparameter tuning of machine learning models\n"
   ]
  },
  {
   "cell_type": "markdown",
   "metadata": {
    "slideshow": {
     "slide_type": "slide"
    }
   },
   "source": [
    "## Recall: MIP Solver Parameters Used in our Case Study\n",
    "In our case study, we will configure the MIP solver *CBC*\n",
    "- CBC has many parameters, but we will only use a subset\n",
    "- we will use the following parameters for configuration:\n",
    "\n",
    "\n",
    "| Parameter      | Description                               |Considered values    |\n",
    "|:--------------------|:-------------------------------------------|:----------------------------|\n",
    "| $$\\color{green}{\\textsf{nodeStrategy}}$$    | Strategy for selecting nodes to branch on   | 'depth', 'fewest','hybrid' |\n",
    "| $$\\color{cyan} {\\textsf{ strongBranching }}$$ | # vars. to consider in strong branching     | 0-10                       |\n",
    "| $$\\color{cyan} {\\textsf{trustPseudoCosts }}$$ | str. br. evals before trusting pseudo costs | 0-10                       |\n",
    "| $$\\color{green} {\\textsf{preprocess }}$$    | Switch for model preprocessing              | 'on', 'off'                |\n",
    "| $$\\color{green} {\\textsf{presolve   }}$$    | Switch for presolve reductions              | 'on', 'off','sos'          |\n",
    "| $$\\color{green}{\\textsf{cutsOnOff   }}$$    | Switch for cut generation (all cuts)        | 'on', 'off'                |\n",
    "| $$\\color{green}{\\textsf{ heuristicsOnOff }}$$ | Turn (all) heuristics on/off                | 'on', 'off'             |\n",
    "\n",
    "$$\\color{cyan}{\\textsf{discrete }}, \\color{red}{\\textsf{continuous}}, \\color{green}{\\textsf{categorical}}$$"
   ]
  },
  {
   "cell_type": "markdown",
   "metadata": {
    "slideshow": {
     "slide_type": "slide"
    }
   },
   "source": [
    "## Defining the Parameter Space and the Evaluation Function"
   ]
  },
  {
   "cell_type": "markdown",
   "metadata": {
    "slideshow": {
     "slide_type": "-"
    }
   },
   "source": [
    "- using data structures from `scikit-optimize`, we define the parameter space"
   ]
  },
  {
   "cell_type": "code",
   "execution_count": 33,
   "metadata": {
    "slideshow": {
     "slide_type": "-"
    }
   },
   "outputs": [],
   "source": [
    "from skopt.space import Real, Integer, Categorical\n",
    "from skopt.utils import use_named_args\n",
    "from skopt.space import Space\n",
    "\n",
    "space  = [Categorical(['hybrid','fewest','depth'], name='nodeStrategy'),\n",
    "          Integer(0,10,name='strongBranching'),\n",
    "          Integer(0,10,name='trustPseudoCosts'),\n",
    "          Categorical(['on','off'], name='preprocess'),\n",
    "          Categorical(['on','off','sos'], name='presolve'),\n",
    "          Categorical(['on','off'], name='cutsOnOff'),\n",
    "          Categorical(['on','off'], name='heuristicsOnOff')]"
   ]
  },
  {
   "cell_type": "markdown",
   "metadata": {
    "slideshow": {
     "slide_type": "fragment"
    }
   },
   "source": [
    "- then, we define the objective / evaluation function. For now, we only use a single instance for evaluation"
   ]
  },
  {
   "cell_type": "code",
   "execution_count": 35,
   "metadata": {
    "slideshow": {
     "slide_type": "-"
    }
   },
   "outputs": [],
   "source": [
    "model_instance_for_objective = model_instance_cbc\n",
    "\n",
    "@use_named_args(space)\n",
    "def performance_objective_single_instance(**params):\n",
    "    return evaluate_parameters_on_instance(model_instance_for_objective,**params)\n"
   ]
  },
  {
   "cell_type": "markdown",
   "metadata": {
    "slideshow": {
     "slide_type": "slide"
    }
   },
   "source": [
    "## Running the Optimization\n",
    "- let us now run the optimization\n",
    "- note that by using the parameter `n_calls`, we limit the number of configurations evaluated to 50"
   ]
  },
  {
   "cell_type": "code",
   "execution_count": 36,
   "metadata": {
    "slideshow": {
     "slide_type": "-"
    }
   },
   "outputs": [
    {
     "name": "stdout",
     "output_type": "stream",
     "text": [
      "Iteration No: 1 started. Evaluating function at random point.\n",
      "Iteration No: 1 ended. Evaluation done at random point.\n",
      "Time taken: 0.4809\n",
      "Function value obtained: 0.4653\n",
      "Current minimum: 0.4653\n",
      "Iteration No: 2 started. Evaluating function at random point.\n",
      "Iteration No: 2 ended. Evaluation done at random point.\n",
      "Time taken: 0.5481\n",
      "Function value obtained: 0.5481\n",
      "Current minimum: 0.4653\n",
      "Iteration No: 3 started. Evaluating function at random point.\n",
      "Iteration No: 3 ended. Evaluation done at random point.\n",
      "Time taken: 0.9962\n",
      "Function value obtained: 0.9806\n",
      "Current minimum: 0.4653\n",
      "Iteration No: 4 started. Evaluating function at random point.\n",
      "Iteration No: 4 ended. Evaluation done at random point.\n",
      "Time taken: 1.1965\n",
      "Function value obtained: 1.1865\n",
      "Current minimum: 0.4653\n",
      "Iteration No: 5 started. Evaluating function at random point.\n",
      "Iteration No: 5 ended. Evaluation done at random point.\n",
      "Time taken: 0.2811\n",
      "Function value obtained: 0.2731\n",
      "Current minimum: 0.2731\n",
      "Iteration No: 6 started. Evaluating function at random point.\n",
      "Iteration No: 6 ended. Evaluation done at random point.\n",
      "Time taken: 1.2654\n",
      "Function value obtained: 1.2654\n",
      "Current minimum: 0.2731\n",
      "Iteration No: 7 started. Evaluating function at random point.\n",
      "Iteration No: 7 ended. Evaluation done at random point.\n",
      "Time taken: 1.3843\n",
      "Function value obtained: 1.3843\n",
      "Current minimum: 0.2731\n",
      "Iteration No: 8 started. Evaluating function at random point.\n",
      "Iteration No: 8 ended. Evaluation done at random point.\n",
      "Time taken: 1.2612\n",
      "Function value obtained: 1.2532\n",
      "Current minimum: 0.2731\n",
      "Iteration No: 9 started. Evaluating function at random point.\n",
      "Iteration No: 9 ended. Evaluation done at random point.\n",
      "Time taken: 1.2028\n",
      "Function value obtained: 1.2028\n",
      "Current minimum: 0.2731\n",
      "Iteration No: 10 started. Evaluating function at random point.\n",
      "Iteration No: 10 ended. Evaluation done at random point.\n",
      "Time taken: 2.0292\n",
      "Function value obtained: 1.3848\n",
      "Current minimum: 0.2731\n",
      "Iteration No: 11 started. Searching for the next optimal point.\n",
      "Iteration No: 11 ended. Search finished for the next optimal point.\n",
      "Time taken: 0.8925\n",
      "Function value obtained: 0.3696\n",
      "Current minimum: 0.2731\n",
      "Iteration No: 12 started. Searching for the next optimal point.\n",
      "Iteration No: 12 ended. Search finished for the next optimal point.\n",
      "Time taken: 1.0154\n",
      "Function value obtained: 0.4106\n",
      "Current minimum: 0.2731\n",
      "Iteration No: 13 started. Searching for the next optimal point.\n",
      "Iteration No: 13 ended. Search finished for the next optimal point.\n",
      "Time taken: 0.8929\n",
      "Function value obtained: 0.2349\n",
      "Current minimum: 0.2349\n",
      "Iteration No: 14 started. Searching for the next optimal point.\n",
      "Iteration No: 14 ended. Search finished for the next optimal point.\n",
      "Time taken: 0.9541\n",
      "Function value obtained: 0.5349\n",
      "Current minimum: 0.2349\n",
      "Iteration No: 15 started. Searching for the next optimal point.\n",
      "Iteration No: 15 ended. Search finished for the next optimal point.\n",
      "Time taken: 0.6956\n",
      "Function value obtained: 0.2495\n",
      "Current minimum: 0.2349\n",
      "Iteration No: 16 started. Searching for the next optimal point.\n",
      "Iteration No: 16 ended. Search finished for the next optimal point.\n",
      "Time taken: 3.1626\n",
      "Function value obtained: 2.6133\n",
      "Current minimum: 0.2349\n",
      "Iteration No: 17 started. Searching for the next optimal point.\n",
      "Iteration No: 17 ended. Search finished for the next optimal point.\n",
      "Time taken: 1.0859\n",
      "Function value obtained: 0.5143\n",
      "Current minimum: 0.2349\n",
      "Iteration No: 18 started. Searching for the next optimal point.\n",
      "Iteration No: 18 ended. Search finished for the next optimal point.\n",
      "Time taken: 0.8773\n",
      "Function value obtained: 0.2901\n",
      "Current minimum: 0.2349\n",
      "Iteration No: 19 started. Searching for the next optimal point.\n",
      "Iteration No: 19 ended. Search finished for the next optimal point.\n",
      "Time taken: 1.0066\n",
      "Function value obtained: 0.3535\n",
      "Current minimum: 0.2349\n",
      "Iteration No: 20 started. Searching for the next optimal point.\n",
      "Iteration No: 20 ended. Search finished for the next optimal point.\n",
      "Time taken: 1.0777\n",
      "Function value obtained: 0.5170\n",
      "Current minimum: 0.2349\n",
      "Iteration No: 21 started. Searching for the next optimal point.\n",
      "Iteration No: 21 ended. Search finished for the next optimal point.\n",
      "Time taken: 0.8375\n",
      "Function value obtained: 0.2092\n",
      "Current minimum: 0.2092\n",
      "Iteration No: 22 started. Searching for the next optimal point.\n"
     ]
    },
    {
     "name": "stderr",
     "output_type": "stream",
     "text": [
      "C:\\Users\\mroemer\\Miniconda3\\envs\\cords2022\\lib\\site-packages\\skopt\\optimizer\\optimizer.py:449: UserWarning: The objective has been evaluated at this point before.\n",
      "  warnings.warn(\"The objective has been evaluated \"\n"
     ]
    },
    {
     "name": "stdout",
     "output_type": "stream",
     "text": [
      "Iteration No: 22 ended. Search finished for the next optimal point.\n",
      "Time taken: 1.0201\n",
      "Function value obtained: 0.2421\n",
      "Current minimum: 0.2092\n",
      "Iteration No: 23 started. Searching for the next optimal point.\n",
      "Iteration No: 23 ended. Search finished for the next optimal point.\n",
      "Time taken: 0.9772\n",
      "Function value obtained: 0.3434\n",
      "Current minimum: 0.2092\n",
      "Iteration No: 24 started. Searching for the next optimal point.\n",
      "Iteration No: 24 ended. Search finished for the next optimal point.\n",
      "Time taken: 0.8205\n",
      "Function value obtained: 0.2812\n",
      "Current minimum: 0.2092\n",
      "Iteration No: 25 started. Searching for the next optimal point.\n",
      "Iteration No: 25 ended. Search finished for the next optimal point.\n",
      "Time taken: 1.1915\n",
      "Function value obtained: 0.4630\n",
      "Current minimum: 0.2092\n",
      "Iteration No: 26 started. Searching for the next optimal point.\n",
      "Iteration No: 26 ended. Search finished for the next optimal point.\n",
      "Time taken: 1.0549\n",
      "Function value obtained: 0.3515\n",
      "Current minimum: 0.2092\n",
      "Iteration No: 27 started. Searching for the next optimal point.\n",
      "Iteration No: 27 ended. Search finished for the next optimal point.\n",
      "Time taken: 1.2048\n",
      "Function value obtained: 0.5208\n",
      "Current minimum: 0.2092\n",
      "Iteration No: 28 started. Searching for the next optimal point.\n",
      "Iteration No: 28 ended. Search finished for the next optimal point.\n",
      "Time taken: 0.8628\n",
      "Function value obtained: 0.2094\n",
      "Current minimum: 0.2092\n",
      "Iteration No: 29 started. Searching for the next optimal point.\n"
     ]
    },
    {
     "name": "stderr",
     "output_type": "stream",
     "text": [
      "C:\\Users\\mroemer\\Miniconda3\\envs\\cords2022\\lib\\site-packages\\skopt\\optimizer\\optimizer.py:449: UserWarning: The objective has been evaluated at this point before.\n",
      "  warnings.warn(\"The objective has been evaluated \"\n"
     ]
    },
    {
     "name": "stdout",
     "output_type": "stream",
     "text": [
      "Iteration No: 29 ended. Search finished for the next optimal point.\n",
      "Time taken: 0.8291\n",
      "Function value obtained: 0.2297\n",
      "Current minimum: 0.2092\n",
      "Iteration No: 30 started. Searching for the next optimal point.\n",
      "Iteration No: 30 ended. Search finished for the next optimal point.\n",
      "Time taken: 0.9384\n",
      "Function value obtained: 0.2467\n",
      "Current minimum: 0.2092\n",
      "Iteration No: 31 started. Searching for the next optimal point.\n",
      "Iteration No: 31 ended. Search finished for the next optimal point.\n",
      "Time taken: 1.3064\n",
      "Function value obtained: 0.6217\n",
      "Current minimum: 0.2092\n",
      "Iteration No: 32 started. Searching for the next optimal point.\n",
      "Iteration No: 32 ended. Search finished for the next optimal point.\n",
      "Time taken: 1.6025\n",
      "Function value obtained: 0.9738\n",
      "Current minimum: 0.2092\n",
      "Iteration No: 33 started. Searching for the next optimal point.\n",
      "Iteration No: 33 ended. Search finished for the next optimal point.\n",
      "Time taken: 3.6297\n",
      "Function value obtained: 2.9069\n",
      "Current minimum: 0.2092\n",
      "Iteration No: 34 started. Searching for the next optimal point.\n",
      "Iteration No: 34 ended. Search finished for the next optimal point.\n",
      "Time taken: 1.1625\n",
      "Function value obtained: 0.4148\n",
      "Current minimum: 0.2092\n",
      "Iteration No: 35 started. Searching for the next optimal point.\n",
      "Iteration No: 35 ended. Search finished for the next optimal point.\n",
      "Time taken: 1.2406\n",
      "Function value obtained: 0.4722\n",
      "Current minimum: 0.2092\n",
      "Iteration No: 36 started. Searching for the next optimal point.\n",
      "Iteration No: 36 ended. Search finished for the next optimal point.\n",
      "Time taken: 1.2967\n",
      "Function value obtained: 0.5830\n",
      "Current minimum: 0.2092\n",
      "Iteration No: 37 started. Searching for the next optimal point.\n",
      "Iteration No: 37 ended. Search finished for the next optimal point.\n",
      "Time taken: 1.0767\n",
      "Function value obtained: 0.2960\n",
      "Current minimum: 0.2092\n",
      "Iteration No: 38 started. Searching for the next optimal point.\n"
     ]
    },
    {
     "name": "stderr",
     "output_type": "stream",
     "text": [
      "C:\\Users\\mroemer\\Miniconda3\\envs\\cords2022\\lib\\site-packages\\skopt\\optimizer\\optimizer.py:449: UserWarning: The objective has been evaluated at this point before.\n",
      "  warnings.warn(\"The objective has been evaluated \"\n"
     ]
    },
    {
     "name": "stdout",
     "output_type": "stream",
     "text": [
      "Iteration No: 38 ended. Search finished for the next optimal point.\n",
      "Time taken: 1.0670\n",
      "Function value obtained: 0.3070\n",
      "Current minimum: 0.2092\n",
      "Iteration No: 39 started. Searching for the next optimal point.\n"
     ]
    },
    {
     "name": "stderr",
     "output_type": "stream",
     "text": [
      "C:\\Users\\mroemer\\Miniconda3\\envs\\cords2022\\lib\\site-packages\\skopt\\optimizer\\optimizer.py:449: UserWarning: The objective has been evaluated at this point before.\n",
      "  warnings.warn(\"The objective has been evaluated \"\n"
     ]
    },
    {
     "name": "stdout",
     "output_type": "stream",
     "text": [
      "Iteration No: 39 ended. Search finished for the next optimal point.\n",
      "Time taken: 1.0264\n",
      "Function value obtained: 0.2757\n",
      "Current minimum: 0.2092\n",
      "Iteration No: 40 started. Searching for the next optimal point.\n"
     ]
    },
    {
     "name": "stderr",
     "output_type": "stream",
     "text": [
      "C:\\Users\\mroemer\\Miniconda3\\envs\\cords2022\\lib\\site-packages\\skopt\\optimizer\\optimizer.py:449: UserWarning: The objective has been evaluated at this point before.\n",
      "  warnings.warn(\"The objective has been evaluated \"\n"
     ]
    },
    {
     "name": "stdout",
     "output_type": "stream",
     "text": [
      "Iteration No: 40 ended. Search finished for the next optimal point.\n",
      "Time taken: 1.0693\n",
      "Function value obtained: 0.2913\n",
      "Current minimum: 0.2092\n",
      "Iteration No: 41 started. Searching for the next optimal point.\n"
     ]
    },
    {
     "name": "stderr",
     "output_type": "stream",
     "text": [
      "C:\\Users\\mroemer\\Miniconda3\\envs\\cords2022\\lib\\site-packages\\skopt\\optimizer\\optimizer.py:449: UserWarning: The objective has been evaluated at this point before.\n",
      "  warnings.warn(\"The objective has been evaluated \"\n"
     ]
    },
    {
     "name": "stdout",
     "output_type": "stream",
     "text": [
      "Iteration No: 41 ended. Search finished for the next optimal point.\n",
      "Time taken: 1.2076\n",
      "Function value obtained: 0.3077\n",
      "Current minimum: 0.2092\n",
      "Iteration No: 42 started. Searching for the next optimal point.\n"
     ]
    },
    {
     "name": "stderr",
     "output_type": "stream",
     "text": [
      "C:\\Users\\mroemer\\Miniconda3\\envs\\cords2022\\lib\\site-packages\\skopt\\optimizer\\optimizer.py:449: UserWarning: The objective has been evaluated at this point before.\n",
      "  warnings.warn(\"The objective has been evaluated \"\n"
     ]
    },
    {
     "name": "stdout",
     "output_type": "stream",
     "text": [
      "Iteration No: 42 ended. Search finished for the next optimal point.\n",
      "Time taken: 1.1374\n",
      "Function value obtained: 0.2865\n",
      "Current minimum: 0.2092\n",
      "Iteration No: 43 started. Searching for the next optimal point.\n"
     ]
    },
    {
     "name": "stderr",
     "output_type": "stream",
     "text": [
      "C:\\Users\\mroemer\\Miniconda3\\envs\\cords2022\\lib\\site-packages\\skopt\\optimizer\\optimizer.py:449: UserWarning: The objective has been evaluated at this point before.\n",
      "  warnings.warn(\"The objective has been evaluated \"\n"
     ]
    },
    {
     "name": "stdout",
     "output_type": "stream",
     "text": [
      "Iteration No: 43 ended. Search finished for the next optimal point.\n",
      "Time taken: 1.2246\n",
      "Function value obtained: 0.3121\n",
      "Current minimum: 0.2092\n",
      "Iteration No: 44 started. Searching for the next optimal point.\n"
     ]
    },
    {
     "name": "stderr",
     "output_type": "stream",
     "text": [
      "C:\\Users\\mroemer\\Miniconda3\\envs\\cords2022\\lib\\site-packages\\skopt\\optimizer\\optimizer.py:449: UserWarning: The objective has been evaluated at this point before.\n",
      "  warnings.warn(\"The objective has been evaluated \"\n"
     ]
    },
    {
     "name": "stdout",
     "output_type": "stream",
     "text": [
      "Iteration No: 44 ended. Search finished for the next optimal point.\n",
      "Time taken: 1.1625\n",
      "Function value obtained: 0.2937\n",
      "Current minimum: 0.2092\n",
      "Iteration No: 45 started. Searching for the next optimal point.\n"
     ]
    },
    {
     "name": "stderr",
     "output_type": "stream",
     "text": [
      "C:\\Users\\mroemer\\Miniconda3\\envs\\cords2022\\lib\\site-packages\\skopt\\optimizer\\optimizer.py:449: UserWarning: The objective has been evaluated at this point before.\n",
      "  warnings.warn(\"The objective has been evaluated \"\n"
     ]
    },
    {
     "name": "stdout",
     "output_type": "stream",
     "text": [
      "Iteration No: 45 ended. Search finished for the next optimal point.\n",
      "Time taken: 1.2098\n",
      "Function value obtained: 0.2968\n",
      "Current minimum: 0.2092\n",
      "Iteration No: 46 started. Searching for the next optimal point.\n",
      "Iteration No: 46 ended. Search finished for the next optimal point.\n",
      "Time taken: 1.1608\n",
      "Function value obtained: 0.3208\n",
      "Current minimum: 0.2092\n",
      "Iteration No: 47 started. Searching for the next optimal point.\n"
     ]
    },
    {
     "name": "stderr",
     "output_type": "stream",
     "text": [
      "C:\\Users\\mroemer\\Miniconda3\\envs\\cords2022\\lib\\site-packages\\skopt\\optimizer\\optimizer.py:449: UserWarning: The objective has been evaluated at this point before.\n",
      "  warnings.warn(\"The objective has been evaluated \"\n"
     ]
    },
    {
     "name": "stdout",
     "output_type": "stream",
     "text": [
      "Iteration No: 47 ended. Search finished for the next optimal point.\n",
      "Time taken: 1.1174\n",
      "Function value obtained: 0.3012\n",
      "Current minimum: 0.2092\n",
      "Iteration No: 48 started. Searching for the next optimal point.\n"
     ]
    },
    {
     "name": "stderr",
     "output_type": "stream",
     "text": [
      "C:\\Users\\mroemer\\Miniconda3\\envs\\cords2022\\lib\\site-packages\\skopt\\optimizer\\optimizer.py:449: UserWarning: The objective has been evaluated at this point before.\n",
      "  warnings.warn(\"The objective has been evaluated \"\n"
     ]
    },
    {
     "name": "stdout",
     "output_type": "stream",
     "text": [
      "Iteration No: 48 ended. Search finished for the next optimal point.\n",
      "Time taken: 1.1906\n",
      "Function value obtained: 0.2928\n",
      "Current minimum: 0.2092\n",
      "Iteration No: 49 started. Searching for the next optimal point.\n",
      "Iteration No: 49 ended. Search finished for the next optimal point.\n",
      "Time taken: 1.2261\n",
      "Function value obtained: 0.3158\n",
      "Current minimum: 0.2092\n",
      "Iteration No: 50 started. Searching for the next optimal point.\n"
     ]
    },
    {
     "name": "stderr",
     "output_type": "stream",
     "text": [
      "C:\\Users\\mroemer\\Miniconda3\\envs\\cords2022\\lib\\site-packages\\skopt\\optimizer\\optimizer.py:449: UserWarning: The objective has been evaluated at this point before.\n",
      "  warnings.warn(\"The objective has been evaluated \"\n"
     ]
    },
    {
     "name": "stdout",
     "output_type": "stream",
     "text": [
      "Iteration No: 50 ended. Search finished for the next optimal point.\n",
      "Time taken: 1.1261\n",
      "Function value obtained: 0.2918\n",
      "Current minimum: 0.2092\n",
      "Best configuration: ['depth', 4, 0, 'on', 'off', 'off', 'off']\n",
      "Best performance in seconds: 0.21\n"
     ]
    }
   ],
   "source": [
    "from skopt import gp_minimize\n",
    "\n",
    "results_single_instance = gp_minimize(performance_objective_single_instance, space, verbose=True, n_calls=50, random_state=0)\n",
    "\n",
    "print(f\"Best configuration: {results_single_instance.x}\")\n",
    "print(f\"Best performance in seconds: {results_single_instance.fun:0.2f}\")\n"
   ]
  },
  {
   "cell_type": "markdown",
   "metadata": {
    "slideshow": {
     "slide_type": "slide"
    }
   },
   "source": [
    "- let's perform some pretty-printing of the best solution:"
   ]
  },
  {
   "cell_type": "code",
   "execution_count": 42,
   "metadata": {
    "slideshow": {
     "slide_type": "-"
    }
   },
   "outputs": [
    {
     "data": {
      "text/html": [
       "<table border=\"1\" class=\"dataframe\">\n",
       "  <thead>\n",
       "    <tr style=\"text-align: right;\">\n",
       "      <th>nodeStrategy</th>\n",
       "      <th>strongBranching</th>\n",
       "      <th>trustPseudoCosts</th>\n",
       "      <th>preprocess</th>\n",
       "      <th>presolve</th>\n",
       "      <th>cutsOnOff</th>\n",
       "      <th>heuristicsOnOff</th>\n",
       "      <th>seconds</th>\n",
       "    </tr>\n",
       "  </thead>\n",
       "  <tbody>\n",
       "    <tr>\n",
       "      <td>depth</td>\n",
       "      <td>4</td>\n",
       "      <td>0</td>\n",
       "      <td>on</td>\n",
       "      <td>off</td>\n",
       "      <td>off</td>\n",
       "      <td>off</td>\n",
       "      <td>0.209211</td>\n",
       "    </tr>\n",
       "  </tbody>\n",
       "</table>"
      ],
      "text/plain": [
       "<IPython.core.display.HTML object>"
      ]
     },
     "metadata": {},
     "output_type": "display_data"
    },
    {
     "data": {
      "text/plain": [
       "['depth', 4, 0, 'on', 'off', 'off', 'off']"
      ]
     },
     "execution_count": 42,
     "metadata": {},
     "output_type": "execute_result"
    }
   ],
   "source": [
    "def print_best_solution(result_object):\n",
    "    df = pd.DataFrame([result_object.x])\n",
    "    df.columns = Space(space).dimension_names\n",
    "    df[\"seconds\"]=(result_object.fun)\n",
    "    display(HTML(df.to_html(index=False)))\n",
    "    \n",
    "print_best_solution(results_single_instance)\n",
    "\n",
    "results_single_instance.x"
   ]
  },
  {
   "cell_type": "markdown",
   "metadata": {
    "slideshow": {
     "slide_type": "slide"
    }
   },
   "source": [
    "## Showing all Evaluations\n",
    "\n",
    "- it may also be interesting to see all evaluations"
   ]
  },
  {
   "cell_type": "code",
   "execution_count": 38,
   "metadata": {
    "slideshow": {
     "slide_type": "-"
    }
   },
   "outputs": [
    {
     "data": {
      "text/html": [
       "<div>\n",
       "<style scoped>\n",
       "    .dataframe tbody tr th:only-of-type {\n",
       "        vertical-align: middle;\n",
       "    }\n",
       "\n",
       "    .dataframe tbody tr th {\n",
       "        vertical-align: top;\n",
       "    }\n",
       "\n",
       "    .dataframe thead th {\n",
       "        text-align: right;\n",
       "    }\n",
       "</style>\n",
       "<table border=\"1\" class=\"dataframe\">\n",
       "  <thead>\n",
       "    <tr style=\"text-align: right;\">\n",
       "      <th></th>\n",
       "      <th>nodeStrategy</th>\n",
       "      <th>strongBranching</th>\n",
       "      <th>trustPseudoCosts</th>\n",
       "      <th>preprocess</th>\n",
       "      <th>presolve</th>\n",
       "      <th>cutsOnOff</th>\n",
       "      <th>heuristicsOnOff</th>\n",
       "      <th>time</th>\n",
       "    </tr>\n",
       "  </thead>\n",
       "  <tbody>\n",
       "    <tr>\n",
       "      <th>0</th>\n",
       "      <td>fewest</td>\n",
       "      <td>8</td>\n",
       "      <td>9</td>\n",
       "      <td>on</td>\n",
       "      <td>on</td>\n",
       "      <td>off</td>\n",
       "      <td>off</td>\n",
       "      <td>0.465286</td>\n",
       "    </tr>\n",
       "    <tr>\n",
       "      <th>1</th>\n",
       "      <td>depth</td>\n",
       "      <td>3</td>\n",
       "      <td>5</td>\n",
       "      <td>on</td>\n",
       "      <td>on</td>\n",
       "      <td>off</td>\n",
       "      <td>on</td>\n",
       "      <td>0.548123</td>\n",
       "    </tr>\n",
       "    <tr>\n",
       "      <th>2</th>\n",
       "      <td>fewest</td>\n",
       "      <td>6</td>\n",
       "      <td>4</td>\n",
       "      <td>on</td>\n",
       "      <td>off</td>\n",
       "      <td>on</td>\n",
       "      <td>off</td>\n",
       "      <td>0.980581</td>\n",
       "    </tr>\n",
       "    <tr>\n",
       "      <th>3</th>\n",
       "      <td>hybrid</td>\n",
       "      <td>5</td>\n",
       "      <td>7</td>\n",
       "      <td>on</td>\n",
       "      <td>on</td>\n",
       "      <td>on</td>\n",
       "      <td>on</td>\n",
       "      <td>1.186462</td>\n",
       "    </tr>\n",
       "    <tr>\n",
       "      <th>4</th>\n",
       "      <td>depth</td>\n",
       "      <td>5</td>\n",
       "      <td>2</td>\n",
       "      <td>on</td>\n",
       "      <td>off</td>\n",
       "      <td>off</td>\n",
       "      <td>off</td>\n",
       "      <td>0.273064</td>\n",
       "    </tr>\n",
       "  </tbody>\n",
       "</table>\n",
       "</div>"
      ],
      "text/plain": [
       "  nodeStrategy  strongBranching  trustPseudoCosts preprocess presolve  \\\n",
       "0       fewest                8                 9         on       on   \n",
       "1        depth                3                 5         on       on   \n",
       "2       fewest                6                 4         on      off   \n",
       "3       hybrid                5                 7         on       on   \n",
       "4        depth                5                 2         on      off   \n",
       "\n",
       "  cutsOnOff heuristicsOnOff      time  \n",
       "0       off             off  0.465286  \n",
       "1       off              on  0.548123  \n",
       "2        on             off  0.980581  \n",
       "3        on              on  1.186462  \n",
       "4       off             off  0.273064  "
      ]
     },
     "execution_count": 38,
     "metadata": {},
     "output_type": "execute_result"
    }
   ],
   "source": [
    "def all_evaluations_as_df(result_object):\n",
    "    df = pd.DataFrame(result_object.x_iters)\n",
    "    df.columns = Space(space).dimension_names\n",
    "    df[\"time\"]=(result_object.func_vals)\n",
    "    return df\n",
    "df_evaluations = all_evaluations_as_df(results_single_instance)\n",
    "df_evaluations.head()"
   ]
  },
  {
   "cell_type": "markdown",
   "metadata": {
    "slideshow": {
     "slide_type": "fragment"
    }
   },
   "source": [
    "- we can then even filter these results, e.g. to show all runs taking less than one second:"
   ]
  },
  {
   "cell_type": "code",
   "execution_count": 40,
   "metadata": {
    "slideshow": {
     "slide_type": "-"
    }
   },
   "outputs": [
    {
     "data": {
      "text/html": [
       "<div>\n",
       "<style scoped>\n",
       "    .dataframe tbody tr th:only-of-type {\n",
       "        vertical-align: middle;\n",
       "    }\n",
       "\n",
       "    .dataframe tbody tr th {\n",
       "        vertical-align: top;\n",
       "    }\n",
       "\n",
       "    .dataframe thead th {\n",
       "        text-align: right;\n",
       "    }\n",
       "</style>\n",
       "<table border=\"1\" class=\"dataframe\">\n",
       "  <thead>\n",
       "    <tr style=\"text-align: right;\">\n",
       "      <th></th>\n",
       "      <th>nodeStrategy</th>\n",
       "      <th>strongBranching</th>\n",
       "      <th>trustPseudoCosts</th>\n",
       "      <th>preprocess</th>\n",
       "      <th>presolve</th>\n",
       "      <th>cutsOnOff</th>\n",
       "      <th>heuristicsOnOff</th>\n",
       "      <th>time</th>\n",
       "    </tr>\n",
       "  </thead>\n",
       "  <tbody>\n",
       "    <tr>\n",
       "      <th>12</th>\n",
       "      <td>depth</td>\n",
       "      <td>3</td>\n",
       "      <td>1</td>\n",
       "      <td>on</td>\n",
       "      <td>off</td>\n",
       "      <td>off</td>\n",
       "      <td>off</td>\n",
       "      <td>0.234858</td>\n",
       "    </tr>\n",
       "    <tr>\n",
       "      <th>14</th>\n",
       "      <td>hybrid</td>\n",
       "      <td>10</td>\n",
       "      <td>2</td>\n",
       "      <td>off</td>\n",
       "      <td>sos</td>\n",
       "      <td>off</td>\n",
       "      <td>off</td>\n",
       "      <td>0.249524</td>\n",
       "    </tr>\n",
       "    <tr>\n",
       "      <th>20</th>\n",
       "      <td>depth</td>\n",
       "      <td>4</td>\n",
       "      <td>0</td>\n",
       "      <td>on</td>\n",
       "      <td>off</td>\n",
       "      <td>off</td>\n",
       "      <td>off</td>\n",
       "      <td>0.209211</td>\n",
       "    </tr>\n",
       "    <tr>\n",
       "      <th>21</th>\n",
       "      <td>depth</td>\n",
       "      <td>4</td>\n",
       "      <td>0</td>\n",
       "      <td>on</td>\n",
       "      <td>off</td>\n",
       "      <td>off</td>\n",
       "      <td>off</td>\n",
       "      <td>0.242115</td>\n",
       "    </tr>\n",
       "    <tr>\n",
       "      <th>27</th>\n",
       "      <td>hybrid</td>\n",
       "      <td>4</td>\n",
       "      <td>0</td>\n",
       "      <td>on</td>\n",
       "      <td>sos</td>\n",
       "      <td>off</td>\n",
       "      <td>off</td>\n",
       "      <td>0.209384</td>\n",
       "    </tr>\n",
       "    <tr>\n",
       "      <th>28</th>\n",
       "      <td>hybrid</td>\n",
       "      <td>4</td>\n",
       "      <td>0</td>\n",
       "      <td>on</td>\n",
       "      <td>sos</td>\n",
       "      <td>off</td>\n",
       "      <td>off</td>\n",
       "      <td>0.229734</td>\n",
       "    </tr>\n",
       "    <tr>\n",
       "      <th>29</th>\n",
       "      <td>hybrid</td>\n",
       "      <td>4</td>\n",
       "      <td>1</td>\n",
       "      <td>on</td>\n",
       "      <td>sos</td>\n",
       "      <td>off</td>\n",
       "      <td>off</td>\n",
       "      <td>0.246684</td>\n",
       "    </tr>\n",
       "  </tbody>\n",
       "</table>\n",
       "</div>"
      ],
      "text/plain": [
       "   nodeStrategy  strongBranching  trustPseudoCosts preprocess presolve  \\\n",
       "12        depth                3                 1         on      off   \n",
       "14       hybrid               10                 2        off      sos   \n",
       "20        depth                4                 0         on      off   \n",
       "21        depth                4                 0         on      off   \n",
       "27       hybrid                4                 0         on      sos   \n",
       "28       hybrid                4                 0         on      sos   \n",
       "29       hybrid                4                 1         on      sos   \n",
       "\n",
       "   cutsOnOff heuristicsOnOff      time  \n",
       "12       off             off  0.234858  \n",
       "14       off             off  0.249524  \n",
       "20       off             off  0.209211  \n",
       "21       off             off  0.242115  \n",
       "27       off             off  0.209384  \n",
       "28       off             off  0.229734  \n",
       "29       off             off  0.246684  "
      ]
     },
     "execution_count": 40,
     "metadata": {},
     "output_type": "execute_result"
    }
   ],
   "source": [
    "df_evaluations[df_evaluations[\"time\"] <= 0.25]"
   ]
  },
  {
   "cell_type": "markdown",
   "metadata": {
    "slideshow": {
     "slide_type": "slide"
    }
   },
   "source": [
    "# Avoiding Overfitting"
   ]
  },
  {
   "cell_type": "markdown",
   "metadata": {
    "slideshow": {
     "slide_type": "slide"
    }
   },
   "source": [
    "## Avoiding Overfitting\n",
    "\n",
    "- even in case of homogeneous instances, algorithm configuration is\n",
    "  very prone to overfitting\n",
    "\n",
    "\n",
    "- in general, in machine learning, we would use cross validation for addressing overfitting\n",
    "- in algorithm configuration, however, **cross validation is not\n",
    "  practical** since it requires too many time-consuming evaluations\n",
    "- thus, in algorithm configuration one mostly uses \n",
    "  - a single training set\n",
    "  - and a single test set\n"
   ]
  },
  {
   "cell_type": "markdown",
   "metadata": {
    "slideshow": {
     "slide_type": "slide"
    }
   },
   "source": [
    "## Evaluating the Configuration on a Test Set\n",
    "\n",
    "Let us see how our configuration (selected for a single instance) performs on average for a test set of 10 instances\n",
    "\n",
    "**Question:**\n",
    "- How can we create a test set (a set of test instances) for our CCP case study?\n"
   ]
  },
  {
   "cell_type": "code",
   "execution_count": 62,
   "metadata": {
    "slideshow": {
     "slide_type": "fragment"
    }
   },
   "outputs": [],
   "source": [
    "np.random.seed(seed=11)\n",
    "\n",
    "number_of_test_instances = 10\n",
    "test_instances =  []\n",
    "\n",
    "for i in range(number_of_test_instances):\n",
    "    samples_time_available = time_available_dist.rvs(n_scenarios)\n",
    "    samples_leather_available = leather_available_dist.rvs(n_scenarios)\n",
    "    test_instances.append(build_model_with_samples(samples_time_available, samples_leather_available, CBC))"
   ]
  },
  {
   "cell_type": "markdown",
   "metadata": {
    "slideshow": {
     "slide_type": "fragment"
    }
   },
   "source": [
    "- then, we define an evaluation function for evaluating a configuration on multiple instances:"
   ]
  },
  {
   "cell_type": "code",
   "execution_count": 63,
   "metadata": {
    "slideshow": {
     "slide_type": "-"
    }
   },
   "outputs": [],
   "source": [
    "def evaluate_parameters_on_instances(instances, **params):\n",
    "    total_time = 0\n",
    "    \n",
    "    number_of_instances = len(instances)    \n",
    "    for instance in instances:\n",
    "        total_time += evaluate_parameters_on_instance(instance, **params)\n",
    "        \n",
    "    return total_time / number_of_instances"
   ]
  },
  {
   "cell_type": "markdown",
   "metadata": {
    "slideshow": {
     "slide_type": "fragment"
    }
   },
   "source": [
    "- and another function that directly takes the skopt solution and applies it to a set of instances:"
   ]
  },
  {
   "cell_type": "code",
   "execution_count": 64,
   "metadata": {
    "slideshow": {
     "slide_type": "-"
    }
   },
   "outputs": [],
   "source": [
    "def evaluate_skopt_parameters_on_instances(instances, sk_opt_solution):    \n",
    "    param_dict = dict(zip(Space(space).dimension_names, sk_opt_solution))\n",
    "    return evaluate_parameters_on_instances(test_instances, **param_dict)                                            "
   ]
  },
  {
   "cell_type": "markdown",
   "metadata": {
    "slideshow": {
     "slide_type": "fragment"
    }
   },
   "source": [
    "**Exercise:**\n",
    "- Create a test set consisting of 10 model instances (based on 10 different sets of samples for time and leather availability)\n",
    "- Write an function for evaluating a configuration on multiple instances (using average runtime as result measure)\n",
    "- Evaluate the best configuration found above using that function and compare the result to the single-instance evaluation used for configuration!\n",
    "\n",
    "**Hint:** See the following function for how to evaluate an sk_opt solution on a single instance!"
   ]
  },
  {
   "cell_type": "code",
   "execution_count": 53,
   "metadata": {
    "slideshow": {
     "slide_type": "-"
    }
   },
   "outputs": [
    {
     "data": {
      "text/plain": [
       "0.19094014167785645"
      ]
     },
     "execution_count": 53,
     "metadata": {},
     "output_type": "execute_result"
    }
   ],
   "source": [
    "def evaluate_skopt_parameters_on_instance(instance, sk_opt_solution):    \n",
    "    param_dict = dict(zip(Space(space).dimension_names, sk_opt_solution))\n",
    "    return evaluate_parameters_on_instance(instance, **param_dict)    \n",
    "\n",
    "evaluate_skopt_parameters_on_instance(model_instance_cbc, results_single_instance.x)"
   ]
  },
  {
   "cell_type": "code",
   "execution_count": null,
   "metadata": {},
   "outputs": [],
   "source": [
    "def evaluate_skopt_parameters_on_instances(instances, sk_opt_solution):\n",
    "    "
   ]
  },
  {
   "cell_type": "markdown",
   "metadata": {
    "slideshow": {
     "slide_type": "slide"
    }
   },
   "source": [
    "## Evaluating the Configuration on a Test Set: Results\n",
    "\n",
    "Let's create a data frame to collect the results"
   ]
  },
  {
   "cell_type": "code",
   "execution_count": 65,
   "metadata": {
    "slideshow": {
     "slide_type": "-"
    }
   },
   "outputs": [],
   "source": [
    "df_results = pd.DataFrame(columns=['train_perf','test_perf'])"
   ]
  },
  {
   "cell_type": "markdown",
   "metadata": {
    "slideshow": {
     "slide_type": "fragment"
    }
   },
   "source": [
    "- we start with an evaluation of the CBC standard settings:"
   ]
  },
  {
   "cell_type": "code",
   "execution_count": 66,
   "metadata": {
    "slideshow": {
     "slide_type": "-"
    }
   },
   "outputs": [],
   "source": [
    "df_results.loc['Standard CBC','test_perf'] = evaluate_parameters_on_instances(test_instances)"
   ]
  },
  {
   "cell_type": "markdown",
   "metadata": {
    "slideshow": {
     "slide_type": "fragment"
    }
   },
   "source": [
    "- and then add those from training with a single instance (note: train performance is based on a single instance, test performance is evaluated using 10 instances"
   ]
  },
  {
   "cell_type": "code",
   "execution_count": 67,
   "metadata": {
    "slideshow": {
     "slide_type": "-"
    }
   },
   "outputs": [],
   "source": [
    "df_results.loc['Configured Single Instance','train_perf'] = results_single_instance.fun\n",
    "\n",
    "df_results.loc['Configured Single Instance','test_perf']=  evaluate_skopt_parameters_on_instances(test_instances,results_single_instance.x )"
   ]
  },
  {
   "cell_type": "code",
   "execution_count": 68,
   "metadata": {
    "scrolled": true,
    "slideshow": {
     "slide_type": "-"
    }
   },
   "outputs": [
    {
     "data": {
      "text/html": [
       "<div>\n",
       "<style scoped>\n",
       "    .dataframe tbody tr th:only-of-type {\n",
       "        vertical-align: middle;\n",
       "    }\n",
       "\n",
       "    .dataframe tbody tr th {\n",
       "        vertical-align: top;\n",
       "    }\n",
       "\n",
       "    .dataframe thead th {\n",
       "        text-align: right;\n",
       "    }\n",
       "</style>\n",
       "<table border=\"1\" class=\"dataframe\">\n",
       "  <thead>\n",
       "    <tr style=\"text-align: right;\">\n",
       "      <th></th>\n",
       "      <th>train_perf</th>\n",
       "      <th>test_perf</th>\n",
       "    </tr>\n",
       "  </thead>\n",
       "  <tbody>\n",
       "    <tr>\n",
       "      <th>Standard CBC</th>\n",
       "      <td>NaN</td>\n",
       "      <td>1.134845</td>\n",
       "    </tr>\n",
       "    <tr>\n",
       "      <th>Configured Single Instance</th>\n",
       "      <td>0.209211</td>\n",
       "      <td>0.2903</td>\n",
       "    </tr>\n",
       "  </tbody>\n",
       "</table>\n",
       "</div>"
      ],
      "text/plain": [
       "                           train_perf test_perf\n",
       "Standard CBC                      NaN  1.134845\n",
       "Configured Single Instance   0.209211    0.2903"
      ]
     },
     "execution_count": 68,
     "metadata": {},
     "output_type": "execute_result"
    }
   ],
   "source": [
    "df_results"
   ]
  },
  {
   "cell_type": "markdown",
   "metadata": {
    "slideshow": {
     "slide_type": "slide"
    }
   },
   "source": [
    "## Addressing Overfitting: Configuration using Multiple Training Instances\n",
    "\n",
    "Let us see if we can do better by evaluating each configuration on multiple instances **during training**!\n",
    "\n",
    "- we thus create 10 training instances:\n",
    "\n"
   ]
  },
  {
   "cell_type": "code",
   "execution_count": 69,
   "metadata": {
    "slideshow": {
     "slide_type": "-"
    }
   },
   "outputs": [],
   "source": [
    "\n",
    "np.random.seed(seed=42)\n",
    "number_of_training_instances = 10\n",
    "training_instances = []\n",
    "for i in range(number_of_training_instances):\n",
    "    time_available = time_available_dist.rvs(n_scenarios)\n",
    "    leather_available = leather_available_dist.rvs(n_scenarios)\n",
    "    \n",
    "    training_instances.append( build_model_with_samples(time_available, leather_available, CBC) )   "
   ]
  },
  {
   "cell_type": "markdown",
   "metadata": {
    "slideshow": {
     "slide_type": "fragment"
    }
   },
   "source": [
    "- then, we create an objective function for scikit-optimize that uses these 10 instances:\n",
    "    "
   ]
  },
  {
   "cell_type": "code",
   "execution_count": 70,
   "metadata": {
    "slideshow": {
     "slide_type": "-"
    }
   },
   "outputs": [],
   "source": [
    "instances_to_evaluate = training_instances  \n",
    "@use_named_args(space)\n",
    "def evaluate_parameters_on_multiple_instances(**params):\n",
    "    return evaluate_parameters_on_instances(instances_to_evaluate,**params)"
   ]
  },
  {
   "cell_type": "markdown",
   "metadata": {
    "slideshow": {
     "slide_type": "slide"
    }
   },
   "source": [
    "## Automatic Configuration Using Multiple Instances"
   ]
  },
  {
   "cell_type": "code",
   "execution_count": 71,
   "metadata": {},
   "outputs": [
    {
     "name": "stdout",
     "output_type": "stream",
     "text": [
      "Iteration No: 1 started. Evaluating function at random point.\n",
      "Iteration No: 1 ended. Evaluation done at random point.\n",
      "Time taken: 3.9623\n",
      "Function value obtained: 0.3859\n",
      "Current minimum: 0.3859\n",
      "Iteration No: 2 started. Evaluating function at random point.\n",
      "Iteration No: 2 ended. Evaluation done at random point.\n",
      "Time taken: 11.1830\n",
      "Function value obtained: 1.1091\n",
      "Current minimum: 0.3859\n",
      "Iteration No: 3 started. Evaluating function at random point.\n",
      "Iteration No: 3 ended. Evaluation done at random point.\n",
      "Time taken: 10.4714\n",
      "Function value obtained: 1.0360\n",
      "Current minimum: 0.3859\n",
      "Iteration No: 4 started. Evaluating function at random point.\n",
      "Iteration No: 4 ended. Evaluation done at random point.\n",
      "Time taken: 13.7698\n",
      "Function value obtained: 1.3700\n",
      "Current minimum: 0.3859\n",
      "Iteration No: 5 started. Evaluating function at random point.\n",
      "Iteration No: 5 ended. Evaluation done at random point.\n",
      "Time taken: 3.0848\n",
      "Function value obtained: 0.2966\n",
      "Current minimum: 0.2966\n",
      "Iteration No: 6 started. Evaluating function at random point.\n",
      "Iteration No: 6 ended. Evaluation done at random point.\n",
      "Time taken: 13.4080\n",
      "Function value obtained: 1.3346\n",
      "Current minimum: 0.2966\n",
      "Iteration No: 7 started. Evaluating function at random point.\n",
      "Iteration No: 7 ended. Evaluation done at random point.\n",
      "Time taken: 13.4236\n",
      "Function value obtained: 1.3359\n",
      "Current minimum: 0.2966\n",
      "Iteration No: 8 started. Evaluating function at random point.\n",
      "Iteration No: 8 ended. Evaluation done at random point.\n",
      "Time taken: 14.5439\n",
      "Function value obtained: 1.4449\n",
      "Current minimum: 0.2966\n",
      "Iteration No: 9 started. Evaluating function at random point.\n",
      "Iteration No: 9 ended. Evaluation done at random point.\n",
      "Time taken: 10.3011\n",
      "Function value obtained: 1.0187\n",
      "Current minimum: 0.2966\n",
      "Iteration No: 10 started. Evaluating function at random point.\n",
      "Iteration No: 10 ended. Evaluation done at random point.\n",
      "Time taken: 14.5742\n",
      "Function value obtained: 1.3977\n",
      "Current minimum: 0.2966\n",
      "Iteration No: 11 started. Searching for the next optimal point.\n",
      "Iteration No: 11 ended. Search finished for the next optimal point.\n",
      "Time taken: 99.1261\n",
      "Function value obtained: 90.8167\n",
      "Current minimum: 0.2966\n",
      "Iteration No: 12 started. Searching for the next optimal point.\n",
      "Iteration No: 12 ended. Search finished for the next optimal point.\n",
      "Time taken: 99.1835\n",
      "Function value obtained: 90.8128\n",
      "Current minimum: 0.2966\n",
      "Iteration No: 13 started. Searching for the next optimal point.\n",
      "Iteration No: 13 ended. Search finished for the next optimal point.\n",
      "Time taken: 14.4463\n",
      "Function value obtained: 1.3779\n",
      "Current minimum: 0.2966\n",
      "Iteration No: 14 started. Searching for the next optimal point.\n",
      "Iteration No: 14 ended. Search finished for the next optimal point.\n",
      "Time taken: 3.3656\n",
      "Function value obtained: 0.2868\n",
      "Current minimum: 0.2868\n",
      "Iteration No: 15 started. Searching for the next optimal point.\n",
      "Iteration No: 15 ended. Search finished for the next optimal point.\n",
      "Time taken: 4.2888\n",
      "Function value obtained: 0.3639\n",
      "Current minimum: 0.2868\n",
      "Iteration No: 16 started. Searching for the next optimal point.\n",
      "Iteration No: 16 ended. Search finished for the next optimal point.\n",
      "Time taken: 21.0874\n",
      "Function value obtained: 2.0563\n",
      "Current minimum: 0.2868\n",
      "Iteration No: 17 started. Searching for the next optimal point.\n",
      "Iteration No: 17 ended. Search finished for the next optimal point.\n",
      "Time taken: 41.1651\n",
      "Function value obtained: 31.0362\n",
      "Current minimum: 0.2868\n",
      "Iteration No: 18 started. Searching for the next optimal point.\n",
      "Iteration No: 18 ended. Search finished for the next optimal point.\n",
      "Time taken: 10.2666\n",
      "Function value obtained: 0.9732\n",
      "Current minimum: 0.2868\n",
      "Iteration No: 19 started. Searching for the next optimal point.\n",
      "Iteration No: 19 ended. Search finished for the next optimal point.\n",
      "Time taken: 11.5827\n",
      "Function value obtained: 1.0987\n",
      "Current minimum: 0.2868\n",
      "Iteration No: 20 started. Searching for the next optimal point.\n",
      "Iteration No: 20 ended. Search finished for the next optimal point.\n",
      "Time taken: 41.5931\n",
      "Function value obtained: 31.0759\n",
      "Current minimum: 0.2868\n",
      "Iteration No: 21 started. Searching for the next optimal point.\n",
      "Iteration No: 21 ended. Search finished for the next optimal point.\n",
      "Time taken: 10.5166\n",
      "Function value obtained: 0.9872\n",
      "Current minimum: 0.2868\n",
      "Iteration No: 22 started. Searching for the next optimal point.\n",
      "Iteration No: 22 ended. Search finished for the next optimal point.\n",
      "Time taken: 41.5160\n",
      "Function value obtained: 31.0764\n",
      "Current minimum: 0.2868\n",
      "Iteration No: 23 started. Searching for the next optimal point.\n"
     ]
    },
    {
     "name": "stderr",
     "output_type": "stream",
     "text": [
      "C:\\Users\\mroemer\\Miniconda3\\envs\\cords2022\\lib\\site-packages\\skopt\\optimizer\\optimizer.py:449: UserWarning: The objective has been evaluated at this point before.\n",
      "  warnings.warn(\"The objective has been evaluated \"\n"
     ]
    },
    {
     "name": "stdout",
     "output_type": "stream",
     "text": [
      "Iteration No: 23 ended. Search finished for the next optimal point.\n",
      "Time taken: 3.6118\n",
      "Function value obtained: 0.2995\n",
      "Current minimum: 0.2868\n",
      "Iteration No: 24 started. Searching for the next optimal point.\n"
     ]
    },
    {
     "name": "stderr",
     "output_type": "stream",
     "text": [
      "C:\\Users\\mroemer\\Miniconda3\\envs\\cords2022\\lib\\site-packages\\skopt\\optimizer\\optimizer.py:449: UserWarning: The objective has been evaluated at this point before.\n",
      "  warnings.warn(\"The objective has been evaluated \"\n"
     ]
    },
    {
     "name": "stdout",
     "output_type": "stream",
     "text": [
      "Iteration No: 24 ended. Search finished for the next optimal point.\n",
      "Time taken: 3.6581\n",
      "Function value obtained: 0.3037\n",
      "Current minimum: 0.2868\n",
      "Iteration No: 25 started. Searching for the next optimal point.\n",
      "Iteration No: 25 ended. Search finished for the next optimal point.\n",
      "Time taken: 3.5108\n",
      "Function value obtained: 0.2893\n",
      "Current minimum: 0.2868\n",
      "Iteration No: 26 started. Searching for the next optimal point.\n",
      "Iteration No: 26 ended. Search finished for the next optimal point.\n",
      "Time taken: 3.6714\n",
      "Function value obtained: 0.3063\n",
      "Current minimum: 0.2868\n",
      "Iteration No: 27 started. Searching for the next optimal point.\n",
      "Iteration No: 27 ended. Search finished for the next optimal point.\n",
      "Time taken: 99.1752\n",
      "Function value obtained: 90.7967\n",
      "Current minimum: 0.2868\n",
      "Iteration No: 28 started. Searching for the next optimal point.\n",
      "Iteration No: 28 ended. Search finished for the next optimal point.\n",
      "Time taken: 3.7065\n",
      "Function value obtained: 0.3030\n",
      "Current minimum: 0.2868\n",
      "Iteration No: 29 started. Searching for the next optimal point.\n",
      "Iteration No: 29 ended. Search finished for the next optimal point.\n",
      "Time taken: 6.6131\n",
      "Function value obtained: 0.5926\n",
      "Current minimum: 0.2868\n",
      "Iteration No: 30 started. Searching for the next optimal point.\n",
      "Iteration No: 30 ended. Search finished for the next optimal point.\n",
      "Time taken: 8.5206\n",
      "Function value obtained: 0.7664\n",
      "Current minimum: 0.2868\n",
      "Iteration No: 31 started. Searching for the next optimal point.\n",
      "Iteration No: 31 ended. Search finished for the next optimal point.\n",
      "Time taken: 10.9006\n",
      "Function value obtained: 1.0145\n",
      "Current minimum: 0.2868\n",
      "Iteration No: 32 started. Searching for the next optimal point.\n",
      "Iteration No: 32 ended. Search finished for the next optimal point.\n",
      "Time taken: 13.6782\n",
      "Function value obtained: 1.2874\n",
      "Current minimum: 0.2868\n",
      "Iteration No: 33 started. Searching for the next optimal point.\n",
      "Iteration No: 33 ended. Search finished for the next optimal point.\n",
      "Time taken: 7.3411\n",
      "Function value obtained: 0.6517\n",
      "Current minimum: 0.2868\n",
      "Iteration No: 34 started. Searching for the next optimal point.\n",
      "Iteration No: 34 ended. Search finished for the next optimal point.\n",
      "Time taken: 7.7209\n",
      "Function value obtained: 0.6959\n",
      "Current minimum: 0.2868\n",
      "Iteration No: 35 started. Searching for the next optimal point.\n",
      "Iteration No: 35 ended. Search finished for the next optimal point.\n",
      "Time taken: 11.7306\n",
      "Function value obtained: 1.0965\n",
      "Current minimum: 0.2868\n",
      "Iteration No: 36 started. Searching for the next optimal point.\n",
      "Iteration No: 36 ended. Search finished for the next optimal point.\n",
      "Time taken: 14.4116\n",
      "Function value obtained: 1.3649\n",
      "Current minimum: 0.2868\n",
      "Iteration No: 37 started. Searching for the next optimal point.\n",
      "Iteration No: 37 ended. Search finished for the next optimal point.\n",
      "Time taken: 7.1451\n",
      "Function value obtained: 0.6324\n",
      "Current minimum: 0.2868\n",
      "Iteration No: 38 started. Searching for the next optimal point.\n",
      "Iteration No: 38 ended. Search finished for the next optimal point.\n",
      "Time taken: 7.7248\n",
      "Function value obtained: 0.6840\n",
      "Current minimum: 0.2868\n",
      "Iteration No: 39 started. Searching for the next optimal point.\n",
      "Iteration No: 39 ended. Search finished for the next optimal point.\n",
      "Time taken: 4.2303\n",
      "Function value obtained: 0.3352\n",
      "Current minimum: 0.2868\n",
      "Iteration No: 40 started. Searching for the next optimal point.\n",
      "Iteration No: 40 ended. Search finished for the next optimal point.\n",
      "Time taken: 11.6124\n",
      "Function value obtained: 1.0719\n",
      "Current minimum: 0.2868\n",
      "Iteration No: 41 started. Searching for the next optimal point.\n",
      "Iteration No: 41 ended. Search finished for the next optimal point.\n",
      "Time taken: 14.7009\n",
      "Function value obtained: 1.3862\n",
      "Current minimum: 0.2868\n",
      "Iteration No: 42 started. Searching for the next optimal point.\n",
      "Iteration No: 42 ended. Search finished for the next optimal point.\n",
      "Time taken: 10.6856\n",
      "Function value obtained: 0.9870\n",
      "Current minimum: 0.2868\n",
      "Iteration No: 43 started. Searching for the next optimal point.\n",
      "Iteration No: 43 ended. Search finished for the next optimal point.\n",
      "Time taken: 13.2384\n",
      "Function value obtained: 1.2381\n",
      "Current minimum: 0.2868\n",
      "Iteration No: 44 started. Searching for the next optimal point.\n",
      "Iteration No: 44 ended. Search finished for the next optimal point.\n",
      "Time taken: 12.3997\n",
      "Function value obtained: 1.1363\n",
      "Current minimum: 0.2868\n",
      "Iteration No: 45 started. Searching for the next optimal point.\n",
      "Iteration No: 45 ended. Search finished for the next optimal point.\n",
      "Time taken: 5.5842\n",
      "Function value obtained: 0.4730\n",
      "Current minimum: 0.2868\n",
      "Iteration No: 46 started. Searching for the next optimal point.\n",
      "Iteration No: 46 ended. Search finished for the next optimal point.\n",
      "Time taken: 4.9300\n",
      "Function value obtained: 0.4050\n",
      "Current minimum: 0.2868\n",
      "Iteration No: 47 started. Searching for the next optimal point.\n",
      "Iteration No: 47 ended. Search finished for the next optimal point.\n",
      "Time taken: 11.9241\n",
      "Function value obtained: 1.1050\n",
      "Current minimum: 0.2868\n",
      "Iteration No: 48 started. Searching for the next optimal point.\n",
      "Iteration No: 48 ended. Search finished for the next optimal point.\n",
      "Time taken: 10.7592\n",
      "Function value obtained: 0.9863\n",
      "Current minimum: 0.2868\n",
      "Iteration No: 49 started. Searching for the next optimal point.\n",
      "Iteration No: 49 ended. Search finished for the next optimal point.\n",
      "Time taken: 6.2263\n",
      "Function value obtained: 0.5290\n",
      "Current minimum: 0.2868\n",
      "Iteration No: 50 started. Searching for the next optimal point.\n",
      "Iteration No: 50 ended. Search finished for the next optimal point.\n",
      "Time taken: 7.3179\n",
      "Function value obtained: 0.6321\n",
      "Current minimum: 0.2868\n",
      "The configuration took 833.61 seconds\n"
     ]
    }
   ],
   "source": [
    "start_time_configuration_multiple_instances = time.time()\n",
    "\n",
    "results_multiple_instances = gp_minimize(evaluate_parameters_on_multiple_instances, space, verbose=True, n_calls=50, random_state=0)\n",
    "\n",
    "duration_configuration_multiple_instances = time.time() - start_time_configuration_multiple_instances\n",
    "\n",
    "print (f\"The configuration took {duration_configuration_multiple_instances:0.2f} seconds\")"
   ]
  },
  {
   "cell_type": "markdown",
   "metadata": {
    "slideshow": {
     "slide_type": "slide"
    }
   },
   "source": [
    "## Automatic Configuration Using Multiple Instances: Results\n",
    "\n",
    "How did it work?"
   ]
  },
  {
   "cell_type": "code",
   "execution_count": 73,
   "metadata": {
    "slideshow": {
     "slide_type": "-"
    }
   },
   "outputs": [
    {
     "data": {
      "text/html": [
       "<div>\n",
       "<style scoped>\n",
       "    .dataframe tbody tr th:only-of-type {\n",
       "        vertical-align: middle;\n",
       "    }\n",
       "\n",
       "    .dataframe tbody tr th {\n",
       "        vertical-align: top;\n",
       "    }\n",
       "\n",
       "    .dataframe thead th {\n",
       "        text-align: right;\n",
       "    }\n",
       "</style>\n",
       "<table border=\"1\" class=\"dataframe\">\n",
       "  <thead>\n",
       "    <tr style=\"text-align: right;\">\n",
       "      <th></th>\n",
       "      <th>train_perf</th>\n",
       "      <th>test_perf</th>\n",
       "    </tr>\n",
       "  </thead>\n",
       "  <tbody>\n",
       "    <tr>\n",
       "      <th>Standard CBC</th>\n",
       "      <td>NaN</td>\n",
       "      <td>1.134845</td>\n",
       "    </tr>\n",
       "    <tr>\n",
       "      <th>Configured Single Instance</th>\n",
       "      <td>0.209211</td>\n",
       "      <td>0.2903</td>\n",
       "    </tr>\n",
       "    <tr>\n",
       "      <th>Configured Multiple Instances</th>\n",
       "      <td>0.28683</td>\n",
       "      <td>0.249643</td>\n",
       "    </tr>\n",
       "  </tbody>\n",
       "</table>\n",
       "</div>"
      ],
      "text/plain": [
       "                              train_perf test_perf\n",
       "Standard CBC                         NaN  1.134845\n",
       "Configured Single Instance      0.209211    0.2903\n",
       "Configured Multiple Instances    0.28683  0.249643"
      ]
     },
     "execution_count": 73,
     "metadata": {},
     "output_type": "execute_result"
    }
   ],
   "source": [
    "df_results.loc['Configured Multiple Instances','train_perf'] = results_multiple_instances.fun\n",
    "\n",
    "df_results.loc['Configured Multiple Instances','test_perf']=  evaluate_skopt_parameters_on_instances(test_instances,results_multiple_instances.x )\n",
    "\n",
    "df_results"
   ]
  },
  {
   "cell_type": "markdown",
   "metadata": {},
   "source": [
    "- it worked better, that is, using multiple training instances is advantageous."
   ]
  },
  {
   "cell_type": "markdown",
   "metadata": {
    "slideshow": {
     "slide_type": "slide"
    }
   },
   "source": [
    "# Making Algorithm Configuration Faster: Early Stopping"
   ]
  },
  {
   "cell_type": "markdown",
   "metadata": {
    "slideshow": {
     "slide_type": "slide"
    }
   },
   "source": [
    "## Making Configuration Faster: Early Stopping\n",
    "\n",
    "**Challenge: Long Configuration Time**\n",
    "\n",
    "**Long configuration times**\n",
    "- using multiple training instances will improve the robustness of the results, \n",
    "- but it will also drastically increase configuration time\n",
    "\n",
    "\n",
    "**Question:** Do you have any idea how to reduce configuration time?\n"
   ]
  },
  {
   "cell_type": "markdown",
   "metadata": {
    "slideshow": {
     "slide_type": "fragment"
    }
   },
   "source": [
    "**We can reduce configuration time by**\n",
    "- quickly recognizing bad configurations and evaluating them on only a\n",
    "  few instances\n",
    "- we may even use statistical tests to detect bad configurations early\n",
    "- in our case study, we will use a simple early stopping approach"
   ]
  },
  {
   "cell_type": "markdown",
   "metadata": {
    "slideshow": {
     "slide_type": "slide"
    }
   },
   "source": [
    "## A Simple Early Stopping Approach for our Case Study\n",
    "\n",
    "\n",
    "**Goal:** \n",
    "\n",
    "Detect \"bad\" configs early and stop their\n",
    "evaluation after few instances\n",
    "\n",
    "\n",
    "**Assumption:**\n",
    "- we have a *very homogeneous* set of instances\n",
    "- the run times of the instances are relatively similar\n",
    "\n",
    "**Evaluation of a configuration $c$ with early stopping:**\n",
    "\n",
    "Let $g(i)$ be a factor $\\geq 1$ that decreases with an increasing instance index $i$\n",
    "\n",
    "and  $f^*$ be the current best average performance \n",
    "\n",
    "\n",
    "For the set of instances from $i=1$ to $n$:\n",
    "- evaluate the performance $f_c(i)$ of configuration \n",
    "- update the average performance $\\hat{f}_c$ with $f_c(i)$\n",
    "- if $\\hat{f}_c > g(i)f^*$, stop early and return $\\hat{f}_c$\n",
    "\n",
    "return $\\hat{f}_c$\n",
    "\n",
    "\n",
    "**Intuitive rationale of using the decreasing factor g(i)**\n",
    "- at the beginning, the \"bar\" should be higher in order to stop evaluation based on one or two underperforming runs (bad luck)\n",
    "\n"
   ]
  },
  {
   "cell_type": "markdown",
   "metadata": {
    "slideshow": {
     "slide_type": "slide"
    }
   },
   "source": [
    "##  Implementing the Early Stopping Approach\n",
    "\n",
    "**Scikit-Optimize's \"ask-and-tell\" interface**\n",
    "allows to interact with the Optimizer solver via two functions:\n",
    "- **Ask** (the optimizer) for the next configuration to evaluate\n",
    "- **Tell** the objective function value to the optimizer\n",
    "$\\rightarrow$ This gives us control on how to compute the objective value\n",
    "\n",
    "\n",
    "**For our purposes, we use it as follows:**\n",
    "\n",
    "For a given number of iterations:\n",
    "- **Ask** the optimizer for the next configuration\n",
    "- perform the evaluation of the configuration\n",
    "  - in our case, using the early-stopping mechanism\n",
    "- **Tell** the optimizer the performance of the configuration\n"
   ]
  },
  {
   "cell_type": "markdown",
   "metadata": {
    "slideshow": {
     "slide_type": "slide"
    }
   },
   "source": [
    "##  The Implementation of the Early Stopping Approach\n",
    "\n",
    "- first we write a function returning the exceedance factor $g(i)$ based on the total number of instances and the number of instances evaluated so far ($i$)\n",
    "- this implementation of the function is pretty simple, the key idea is that the factor decreases with the number of instances evaluated so far"
   ]
  },
  {
   "cell_type": "code",
   "execution_count": 74,
   "metadata": {
    "slideshow": {
     "slide_type": "-"
    }
   },
   "outputs": [
    {
     "data": {
      "text/plain": [
       "1.2000000000000002"
      ]
     },
     "execution_count": 74,
     "metadata": {},
     "output_type": "execute_result"
    }
   ],
   "source": [
    "def get_exceedance_factor (total_number_of_instances, number_of_instances_evaluated_so_far):\n",
    "    if number_of_instances_evaluated_so_far <= 1:\n",
    "        return 1000\n",
    "    \n",
    "    fraction_instances_remaining = (total_number_of_instances - number_of_instances_evaluated_so_far) / total_number_of_instances\n",
    "    return 1.1 + fraction_instances_remaining * 0.5\n",
    "\n",
    "#example\n",
    "get_exceedance_factor(10,8)\n"
   ]
  },
  {
   "cell_type": "markdown",
   "metadata": {
    "slideshow": {
     "slide_type": "fragment"
    }
   },
   "source": [
    "- then, we write a function that uses the early stopping idea for evaluation"
   ]
  },
  {
   "cell_type": "code",
   "execution_count": 75,
   "metadata": {
    "slideshow": {
     "slide_type": "-"
    }
   },
   "outputs": [],
   "source": [
    "def evaluate_with_early_stopping(instances, best_performance, sk_opt_params):\n",
    "    evaluated_instances = 0    \n",
    "    total_performance  = 0\n",
    "    \n",
    "    total_number_of_instances = len(instances)    \n",
    "    for instance in instances:\n",
    "        evaluated_instances  += 1\n",
    "        param_dict = dict(zip(Space(space).dimension_names, sk_opt_params))\n",
    "        total_performance += evaluate_parameters_on_instance(instance, **param_dict)        \n",
    "        average_performance = total_performance / evaluated_instances        \n",
    "        # early stopping condition.\n",
    "        if average_performance >  best_performance * get_exceedance_factor(total_number_of_instances, evaluated_instances):\n",
    "            print(f\" Stopping early after { evaluated_instances } instances\")\n",
    "            return average_performance        \n",
    "    return average_performance    "
   ]
  },
  {
   "cell_type": "markdown",
   "metadata": {
    "slideshow": {
     "slide_type": "slide"
    }
   },
   "source": [
    "##  Running the Algorithm Configuration with the Early Stopping Approach\n",
    "\n",
    "- now, we run the early stopping-based algorithm configuration \n",
    "- the following implementation uses the sickit-optimizes ask-and-tell interface explained above"
   ]
  },
  {
   "cell_type": "code",
   "execution_count": 76,
   "metadata": {
    "scrolled": true,
    "slideshow": {
     "slide_type": "-"
    }
   },
   "outputs": [
    {
     "name": "stdout",
     "output_type": "stream",
     "text": [
      "Iteration 0: performance: 0.40\n",
      " After Iteration 0: best performance: 0.40\n",
      "\n",
      " Stopping early after 2 instances\n",
      "Iteration 1: performance: 0.72\n",
      " After Iteration 1: best performance: 0.40\n",
      "\n",
      " Stopping early after 2 instances\n",
      "Iteration 2: performance: 1.16\n",
      " After Iteration 2: best performance: 0.40\n",
      "\n",
      " Stopping early after 2 instances\n",
      "Iteration 3: performance: 1.28\n",
      " After Iteration 3: best performance: 0.40\n",
      "\n",
      "Iteration 4: performance: 0.29\n",
      " After Iteration 4: best performance: 0.29\n",
      "\n",
      " Stopping early after 2 instances\n",
      "Iteration 5: performance: 1.40\n",
      " After Iteration 5: best performance: 0.29\n",
      "\n",
      " Stopping early after 2 instances\n",
      "Iteration 6: performance: 1.37\n",
      " After Iteration 6: best performance: 0.29\n",
      "\n",
      " Stopping early after 2 instances\n",
      "Iteration 7: performance: 1.37\n",
      " After Iteration 7: best performance: 0.29\n",
      "\n",
      " Stopping early after 2 instances\n",
      "Iteration 8: performance: 1.04\n",
      " After Iteration 8: best performance: 0.29\n",
      "\n",
      " Stopping early after 2 instances\n",
      "Iteration 9: performance: 1.18\n",
      " After Iteration 9: best performance: 0.29\n",
      "\n",
      " Stopping early after 1 instances\n",
      "Iteration 10: performance: 300.00\n",
      " After Iteration 10: best performance: 0.29\n",
      "\n"
     ]
    },
    {
     "name": "stderr",
     "output_type": "stream",
     "text": [
      "C:\\Users\\mroemer\\Miniconda3\\envs\\cords2022\\lib\\site-packages\\skopt\\optimizer\\optimizer.py:449: UserWarning: The objective has been evaluated at this point before.\n",
      "  warnings.warn(\"The objective has been evaluated \"\n"
     ]
    },
    {
     "name": "stdout",
     "output_type": "stream",
     "text": [
      " Stopping early after 2 instances\n",
      "Iteration 11: performance: 1.20\n",
      " After Iteration 11: best performance: 0.29\n",
      "\n"
     ]
    },
    {
     "name": "stderr",
     "output_type": "stream",
     "text": [
      "C:\\Users\\mroemer\\Miniconda3\\envs\\cords2022\\lib\\site-packages\\skopt\\optimizer\\optimizer.py:449: UserWarning: The objective has been evaluated at this point before.\n",
      "  warnings.warn(\"The objective has been evaluated \"\n"
     ]
    },
    {
     "name": "stdout",
     "output_type": "stream",
     "text": [
      " Stopping early after 2 instances\n",
      "Iteration 12: performance: 1.20\n",
      " After Iteration 12: best performance: 0.29\n",
      "\n"
     ]
    },
    {
     "name": "stderr",
     "output_type": "stream",
     "text": [
      "C:\\Users\\mroemer\\Miniconda3\\envs\\cords2022\\lib\\site-packages\\skopt\\optimizer\\optimizer.py:449: UserWarning: The objective has been evaluated at this point before.\n",
      "  warnings.warn(\"The objective has been evaluated \"\n"
     ]
    },
    {
     "name": "stdout",
     "output_type": "stream",
     "text": [
      " Stopping early after 2 instances\n",
      "Iteration 13: performance: 1.19\n",
      " After Iteration 13: best performance: 0.29\n",
      "\n",
      " Stopping early after 3 instances\n",
      "Iteration 14: performance: 0.45\n",
      " After Iteration 14: best performance: 0.29\n",
      "\n",
      " Stopping early after 1 instances\n",
      "Iteration 15: performance: 300.00\n",
      " After Iteration 15: best performance: 0.29\n",
      "\n",
      " Stopping early after 2 instances\n",
      "Iteration 16: performance: 0.73\n",
      " After Iteration 16: best performance: 0.29\n",
      "\n",
      " Stopping early after 2 instances\n",
      "Iteration 17: performance: 0.58\n",
      " After Iteration 17: best performance: 0.29\n",
      "\n",
      " Stopping early after 2 instances\n",
      "Iteration 18: performance: 0.79\n",
      " After Iteration 18: best performance: 0.29\n",
      "\n",
      " Stopping early after 2 instances\n",
      "Iteration 19: performance: 0.97\n",
      " After Iteration 19: best performance: 0.29\n",
      "\n",
      " Stopping early after 2 instances\n",
      "Iteration 20: performance: 1.36\n",
      " After Iteration 20: best performance: 0.29\n",
      "\n",
      " Stopping early after 2 instances\n",
      "Iteration 21: performance: 1.07\n",
      " After Iteration 21: best performance: 0.29\n",
      "\n",
      " Stopping early after 2 instances\n",
      "Iteration 22: performance: 0.67\n",
      " After Iteration 22: best performance: 0.29\n",
      "\n",
      " Stopping early after 2 instances\n",
      "Iteration 23: performance: 0.63\n",
      " After Iteration 23: best performance: 0.29\n",
      "\n",
      " Stopping early after 2 instances\n",
      "Iteration 24: performance: 1.14\n",
      " After Iteration 24: best performance: 0.29\n",
      "\n",
      " Stopping early after 2 instances\n",
      "Iteration 25: performance: 0.57\n",
      " After Iteration 25: best performance: 0.29\n",
      "\n",
      " Stopping early after 2 instances\n",
      "Iteration 26: performance: 0.58\n",
      " After Iteration 26: best performance: 0.29\n",
      "\n",
      " Stopping early after 2 instances\n",
      "Iteration 27: performance: 1.17\n",
      " After Iteration 27: best performance: 0.29\n",
      "\n",
      " Stopping early after 2 instances\n",
      "Iteration 28: performance: 0.46\n",
      " After Iteration 28: best performance: 0.29\n",
      "\n",
      " Stopping early after 2 instances\n",
      "Iteration 29: performance: 0.99\n",
      " After Iteration 29: best performance: 0.29\n",
      "\n",
      " Stopping early after 8 instances\n",
      "Iteration 30: performance: 0.60\n",
      " After Iteration 30: best performance: 0.29\n",
      "\n",
      " Stopping early after 2 instances\n",
      "Iteration 31: performance: 0.92\n",
      " After Iteration 31: best performance: 0.29\n",
      "\n",
      " Stopping early after 2 instances\n",
      "Iteration 32: performance: 0.61\n",
      " After Iteration 32: best performance: 0.29\n",
      "\n",
      " Stopping early after 2 instances\n",
      "Iteration 33: performance: 0.93\n",
      " After Iteration 33: best performance: 0.29\n",
      "\n",
      " Stopping early after 2 instances\n",
      "Iteration 34: performance: 0.55\n",
      " After Iteration 34: best performance: 0.29\n",
      "\n",
      " Stopping early after 8 instances\n",
      "Iteration 35: performance: 0.36\n",
      " After Iteration 35: best performance: 0.29\n",
      "\n"
     ]
    },
    {
     "name": "stderr",
     "output_type": "stream",
     "text": [
      "C:\\Users\\mroemer\\Miniconda3\\envs\\cords2022\\lib\\site-packages\\skopt\\optimizer\\optimizer.py:449: UserWarning: The objective has been evaluated at this point before.\n",
      "  warnings.warn(\"The objective has been evaluated \"\n"
     ]
    },
    {
     "name": "stdout",
     "output_type": "stream",
     "text": [
      "Iteration 36: performance: 0.30\n",
      " After Iteration 36: best performance: 0.29\n",
      "\n",
      " Stopping early after 10 instances\n",
      "Iteration 37: performance: 0.32\n",
      " After Iteration 37: best performance: 0.29\n",
      "\n",
      "Iteration 38: performance: 0.30\n",
      " After Iteration 38: best performance: 0.29\n",
      "\n"
     ]
    },
    {
     "name": "stderr",
     "output_type": "stream",
     "text": [
      "C:\\Users\\mroemer\\Miniconda3\\envs\\cords2022\\lib\\site-packages\\skopt\\optimizer\\optimizer.py:449: UserWarning: The objective has been evaluated at this point before.\n",
      "  warnings.warn(\"The objective has been evaluated \"\n"
     ]
    },
    {
     "name": "stdout",
     "output_type": "stream",
     "text": [
      "Iteration 39: performance: 0.31\n",
      " After Iteration 39: best performance: 0.29\n",
      "\n",
      " Stopping early after 7 instances\n",
      "Iteration 40: performance: 0.45\n",
      " After Iteration 40: best performance: 0.29\n",
      "\n",
      " Stopping early after 2 instances\n",
      "Iteration 41: performance: 0.54\n",
      " After Iteration 41: best performance: 0.29\n",
      "\n",
      " Stopping early after 7 instances\n",
      "Iteration 42: performance: 0.45\n",
      " After Iteration 42: best performance: 0.29\n",
      "\n"
     ]
    },
    {
     "name": "stderr",
     "output_type": "stream",
     "text": [
      "C:\\Users\\mroemer\\Miniconda3\\envs\\cords2022\\lib\\site-packages\\skopt\\optimizer\\optimizer.py:449: UserWarning: The objective has been evaluated at this point before.\n",
      "  warnings.warn(\"The objective has been evaluated \"\n"
     ]
    },
    {
     "name": "stdout",
     "output_type": "stream",
     "text": [
      "Iteration 43: performance: 0.31\n",
      " After Iteration 43: best performance: 0.29\n",
      "\n",
      " Stopping early after 10 instances\n",
      "Iteration 44: performance: 0.34\n",
      " After Iteration 44: best performance: 0.29\n",
      "\n"
     ]
    },
    {
     "name": "stderr",
     "output_type": "stream",
     "text": [
      "C:\\Users\\mroemer\\Miniconda3\\envs\\cords2022\\lib\\site-packages\\skopt\\optimizer\\optimizer.py:449: UserWarning: The objective has been evaluated at this point before.\n",
      "  warnings.warn(\"The objective has been evaluated \"\n"
     ]
    },
    {
     "name": "stdout",
     "output_type": "stream",
     "text": [
      "Iteration 45: performance: 0.29\n",
      " After Iteration 45: best performance: 0.29\n",
      "\n",
      " Stopping early after 7 instances\n",
      "Iteration 46: performance: 0.37\n",
      " After Iteration 46: best performance: 0.29\n",
      "\n",
      " Stopping early after 8 instances\n",
      "Iteration 47: performance: 0.35\n",
      " After Iteration 47: best performance: 0.29\n",
      "\n",
      "Iteration 48: performance: 0.29\n",
      " After Iteration 48: best performance: 0.29\n",
      "\n"
     ]
    },
    {
     "name": "stderr",
     "output_type": "stream",
     "text": [
      "C:\\Users\\mroemer\\Miniconda3\\envs\\cords2022\\lib\\site-packages\\skopt\\optimizer\\optimizer.py:449: UserWarning: The objective has been evaluated at this point before.\n",
      "  warnings.warn(\"The objective has been evaluated \"\n"
     ]
    },
    {
     "name": "stdout",
     "output_type": "stream",
     "text": [
      "Iteration 49: performance: 0.29\n",
      " After Iteration 49: best performance: 0.29\n",
      "\n",
      "The configuration using early stopping took 202.70 seconds\n"
     ]
    },
    {
     "data": {
      "text/html": [
       "<table border=\"1\" class=\"dataframe\">\n",
       "  <thead>\n",
       "    <tr style=\"text-align: right;\">\n",
       "      <th>nodeStrategy</th>\n",
       "      <th>strongBranching</th>\n",
       "      <th>trustPseudoCosts</th>\n",
       "      <th>preprocess</th>\n",
       "      <th>presolve</th>\n",
       "      <th>cutsOnOff</th>\n",
       "      <th>heuristicsOnOff</th>\n",
       "      <th>seconds</th>\n",
       "    </tr>\n",
       "  </thead>\n",
       "  <tbody>\n",
       "    <tr>\n",
       "      <td>fewest</td>\n",
       "      <td>4</td>\n",
       "      <td>2</td>\n",
       "      <td>on</td>\n",
       "      <td>on</td>\n",
       "      <td>off</td>\n",
       "      <td>off</td>\n",
       "      <td>0.291409</td>\n",
       "    </tr>\n",
       "  </tbody>\n",
       "</table>"
      ],
      "text/plain": [
       "<IPython.core.display.HTML object>"
      ]
     },
     "metadata": {},
     "output_type": "display_data"
    }
   ],
   "source": [
    "from skopt import Optimizer\n",
    "\n",
    "# let us take the standard configuration as best-known configuration in the beginning\n",
    "best_performance = evaluate_parameters_on_instances(training_instances)\n",
    "\n",
    "number_of_total_iterations = 50\n",
    "\n",
    "opt = Optimizer(space, random_state=0)\n",
    "start_time_early_stopping = time.time()\n",
    "for n in range(number_of_total_iterations):\n",
    "\n",
    "    next_params = opt.ask() # ask the optizer for the next configuration\n",
    "    \n",
    "    # call the early stopping evaluation\n",
    "    performance = evaluate_with_early_stopping(training_instances, best_performance, next_params)\n",
    "    \n",
    "    print (f\"Iteration {n}: performance: {performance:0.2f}\")\n",
    "    \n",
    "    if performance < best_performance:\n",
    "        best_performance = performance\n",
    "    \n",
    "    print (f\" After Iteration {n}: best performance: {best_performance:0.2f}\\n\")\n",
    "    \n",
    "    results_early_stopping = opt.tell(next_params, performance)  # tell the optizer the performance of the evaulation\n",
    "    \n",
    "duration_early_stopping = time.time() - start_time_early_stopping\n",
    "print (f\"The configuration using early stopping took {duration_early_stopping:0.2f} seconds\")\n",
    "print_best_solution(results_early_stopping)"
   ]
  },
  {
   "cell_type": "markdown",
   "metadata": {
    "slideshow": {
     "slide_type": "slide"
    }
   },
   "source": [
    "## Let us see the results\n",
    "\n",
    "- let's add the results from the early stopping approach"
   ]
  },
  {
   "cell_type": "code",
   "execution_count": 79,
   "metadata": {
    "slideshow": {
     "slide_type": "-"
    }
   },
   "outputs": [],
   "source": [
    "#add to results\n",
    "df_results.loc['Configured Multi Instance Early Stop','train_perf'] = results_early_stopping.fun\n",
    "\n",
    "df_results.loc['Configured Multi Instance Early Stop','test_perf']=  evaluate_skopt_parameters_on_instances(test_instances,results_early_stopping.x )"
   ]
  },
  {
   "cell_type": "code",
   "execution_count": 80,
   "metadata": {
    "slideshow": {
     "slide_type": "-"
    }
   },
   "outputs": [
    {
     "data": {
      "text/html": [
       "<div>\n",
       "<style scoped>\n",
       "    .dataframe tbody tr th:only-of-type {\n",
       "        vertical-align: middle;\n",
       "    }\n",
       "\n",
       "    .dataframe tbody tr th {\n",
       "        vertical-align: top;\n",
       "    }\n",
       "\n",
       "    .dataframe thead th {\n",
       "        text-align: right;\n",
       "    }\n",
       "</style>\n",
       "<table border=\"1\" class=\"dataframe\">\n",
       "  <thead>\n",
       "    <tr style=\"text-align: right;\">\n",
       "      <th></th>\n",
       "      <th>train_perf</th>\n",
       "      <th>test_perf</th>\n",
       "    </tr>\n",
       "  </thead>\n",
       "  <tbody>\n",
       "    <tr>\n",
       "      <th>Standard CBC</th>\n",
       "      <td>NaN</td>\n",
       "      <td>1.134845</td>\n",
       "    </tr>\n",
       "    <tr>\n",
       "      <th>Configured Single Instance</th>\n",
       "      <td>0.209211</td>\n",
       "      <td>0.2903</td>\n",
       "    </tr>\n",
       "    <tr>\n",
       "      <th>Configured Multiple Instances</th>\n",
       "      <td>0.28683</td>\n",
       "      <td>0.249643</td>\n",
       "    </tr>\n",
       "    <tr>\n",
       "      <th>Configured Multi Instance Early Stop</th>\n",
       "      <td>0.291409</td>\n",
       "      <td>0.289511</td>\n",
       "    </tr>\n",
       "  </tbody>\n",
       "</table>\n",
       "</div>"
      ],
      "text/plain": [
       "                                     train_perf test_perf\n",
       "Standard CBC                                NaN  1.134845\n",
       "Configured Single Instance             0.209211    0.2903\n",
       "Configured Multiple Instances           0.28683  0.249643\n",
       "Configured Multi Instance Early Stop   0.291409  0.289511"
      ]
     },
     "execution_count": 80,
     "metadata": {},
     "output_type": "execute_result"
    }
   ],
   "source": [
    "df_results"
   ]
  },
  {
   "cell_type": "markdown",
   "metadata": {
    "slideshow": {
     "slide_type": "-"
    }
   },
   "source": [
    "..we can see that the early stopping was much faster, but we obtained similar (even better) results."
   ]
  },
  {
   "cell_type": "markdown",
   "metadata": {
    "slideshow": {
     "slide_type": "slide"
    }
   },
   "source": [
    "## Conclusions\n",
    "\n",
    "**In this meeting, we dealt with algorithm configuration**\n",
    "- we learned about the key concepts of algorithm configuration\n",
    "- and learned how to address the key challenges in automatic algorithm configuration\n",
    "\n",
    "**This was the last meeting of our course!**\n",
    "- thank you very much for your active participation!"
   ]
  }
 ],
 "metadata": {
  "celltoolbar": "Slideshow",
  "kernelspec": {
   "display_name": "Python [conda env:cords2022]",
   "language": "python",
   "name": "conda-env-cords2022-py"
  },
  "language_info": {
   "codemirror_mode": {
    "name": "ipython",
    "version": 3
   },
   "file_extension": ".py",
   "mimetype": "text/x-python",
   "name": "python",
   "nbconvert_exporter": "python",
   "pygments_lexer": "ipython3",
   "version": "3.9.12"
  }
 },
 "nbformat": 4,
 "nbformat_minor": 4
}
