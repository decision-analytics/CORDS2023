{
 "cells": [
  {
   "cell_type": "markdown",
   "metadata": {
    "slideshow": {
     "slide_type": "slide"
    }
   },
   "source": [
    "<img src=\"img/logo_wiwi_en_.png\" width=\"30%\" align=\"left\">\n",
    "\n",
    "<img src=\"img/decision_analytics_logo.png\" width=\"17%\" align=\"right\">\n",
    "\n",
    "\n",
    "\n",
    "<br><br><br><br><br><br><br><br>\n",
    "\n",
    "\n",
    "\n",
    "# Combining OR and Data Science\n",
    "\n",
    "**Summer Term 2023**\n",
    "\n",
    "\n",
    "# 5. Optimization under Uncertainty I: Stochastic Linear Programming\n",
    "\n",
    "\n",
    "<br>\n",
    "\n",
    "<br>\n",
    "<br>\n",
    "\n",
    "**J-Prof. Dr. Michael Römer, Till Porrmann, Mohsen Nafar**\n",
    "\n",
    "**Decision Analytics Group  | Bielefeld University**\n",
    "                                                    \n",
    "                                                \n"
   ]
  },
  {
   "cell_type": "code",
   "execution_count": 1,
   "metadata": {
    "slideshow": {
     "slide_type": "skip"
    }
   },
   "outputs": [],
   "source": [
    "# Import packages.\n",
    "import numpy as np\n",
    "\n",
    "import scipy.stats as stats\n",
    "import matplotlib.pyplot as plt\n",
    "\n",
    "from numba import vectorize\n",
    "\n",
    "import mip\n",
    "from mip import maximize"
   ]
  },
  {
   "cell_type": "markdown",
   "metadata": {
    "cell_style": "center",
    "slideshow": {
     "slide_type": "slide"
    }
   },
   "source": [
    "## Overview: Introduction to Optimization Under Uncertainty: Stochastic Linear Programming\n",
    "\n",
    "**In this meeting, we will**\n",
    "\n",
    "- start transferring the ideas discussed in the last weeks to the world of (mixed integer) linear programming\n",
    "- have an introduction to linear programming under uncertainty (stochastic programming)\n",
    "- see how we can implement these ideas in Python \n",
    "\n",
    "We have two main parts:\n",
    "- **Part 1**: Linear Programming in Python\n",
    "- **Part 2**: An Introduction to Stochastic Linear Programming"
   ]
  },
  {
   "cell_type": "markdown",
   "metadata": {
    "cell_style": "center",
    "slideshow": {
     "slide_type": "slide"
    }
   },
   "source": [
    "## Part 1: Linear Programming in Python\n",
    "\n",
    "**In this part, we will**\n",
    "- see how we can formulate our case study example as linear program\n",
    "- learn how to implement and solve a linear program in Python using Python-MIP"
   ]
  },
  {
   "cell_type": "markdown",
   "metadata": {
    "slideshow": {
     "slide_type": "slide"
    }
   },
   "source": [
    "## Unconstrained Optimization vs (Mixed-Integer) Linear Programming"
   ]
  },
  {
   "cell_type": "markdown",
   "metadata": {
    "cell_style": "split",
    "slideshow": {
     "slide_type": "-"
    }
   },
   "source": [
    "**(Continous) Unconstrained Optimization (e.g. scipy.optimize)**\n",
    "- very flexible\n",
    "- takes arbitrary functions\n",
    "- only continuous variables\n",
    "- constraint handling not very efficient (if possible at all)\n",
    "- works well with Monte Carlo approximations\n",
    "- heuristic solution approaches\n",
    "- solution not necessarily optimal"
   ]
  },
  {
   "cell_type": "markdown",
   "metadata": {
    "cell_style": "split",
    "slideshow": {
     "slide_type": "-"
    }
   },
   "source": [
    "**(Mixed Integer) Linear Programming (e.g. Gurobi, CBC)**\n",
    "- restricted to linear expressions\n",
    "- modeling power due to integer / binary variables\n",
    "- constraints are handled efficiently\n",
    "- Monte-Carlo approximation can be \"embedded\" in model\n",
    "- exact solution approaches\n",
    "- optimality proof\n"
   ]
  },
  {
   "cell_type": "markdown",
   "metadata": {
    "slideshow": {
     "slide_type": "slide"
    }
   },
   "source": [
    "## Motivation: Capacity Planning Case Study\n",
    "\n",
    "In the previous weeks, we formulated the **deterministic** version of\n",
    "the capacity planning problem  as follows: \n",
    "\n",
    "**maximize** total profit = - capacity installation cost + sales margin \n",
    "\n",
    " $$\\max f(x,d) = - 30x +  40 \\min(x,d)$$\n",
    "\n",
    "\n",
    "**where**\n",
    "\n",
    "$x$: installed capacity in units (decision) \n",
    "$d$: demand in units (given parameter)  \n",
    "\n",
    "\n",
    "**Let us formulate this as a linear programming problem!**"
   ]
  },
  {
   "cell_type": "markdown",
   "metadata": {
    "slideshow": {
     "slide_type": "slide"
    }
   },
   "source": [
    "## Formulation as Linear Program\n",
    "\n",
    "\n",
    "We modeled the (deterministic) problem as follows:\n",
    "\n",
    "$$\\begin{align*}\n",
    "        \\max \\; f(x,d)=        & -30x + 40 min(x,d)\\\\\n",
    "        \\text{s.t.} \\;     x &\\geq 0\n",
    "\\end{align*}$$\n",
    "\n",
    "- given that this involves the $\\min$ operator, $f$ is a nonlinear function"
   ]
  },
  {
   "cell_type": "markdown",
   "metadata": {
    "slideshow": {
     "slide_type": "fragment"
    }
   },
   "source": [
    "**However**, as you might know, we can easily reformulate the $\\min$ operation in certain cases in order to linearize it:\n",
    "  "
   ]
  },
  {
   "cell_type": "markdown",
   "metadata": {
    "slideshow": {
     "slide_type": "fragment"
    }
   },
   "source": [
    "This gives us the following LP formulation:    \n",
    "$$\n",
    "\\begin{align*}\n",
    "        \\max \\;         & -30x + 40z \\\\\n",
    "        \\text{s.t.} \\;  & z \\leq x \\\\\n",
    "                        & z \\leq d \\\\\n",
    "                        & x \\geq 0, z \\geq 0 \n",
    "\\end{align*}$$\n",
    "\n",
    "where $z$ is a decision variable representing the  number of units to produce / sell"
   ]
  },
  {
   "cell_type": "markdown",
   "metadata": {
    "slideshow": {
     "slide_type": "slide"
    }
   },
   "source": [
    "# Mixed Integer Linear Programming in Python"
   ]
  },
  {
   "cell_type": "markdown",
   "metadata": {
    "slideshow": {
     "slide_type": "slide"
    }
   },
   "source": [
    "## Mixed Integer Linear Programming in Python\n",
    "\n",
    "- Python has multiple packages for mathematical programming\n",
    "- some of them are bound to a single solver\n",
    "  - Gurobi\n",
    "  - CPLEX\n",
    "- some of them can work with multiple solvers\n",
    "  - Python-MIP\n",
    "  - CVXPY\n",
    "  - PuLP\n",
    "- the syntax for writing models is very similar for most of them\n",
    "- the modeling objects such as variables and constraints are a bit different"
   ]
  },
  {
   "cell_type": "markdown",
   "metadata": {
    "slideshow": {
     "slide_type": "slide"
    }
   },
   "source": [
    "## Python-MIP\n",
    "\n",
    "In this course, we will use **Python-MIP** (https://www.python-mip.com/) for implementing our models\n",
    "- it comes with the solver CBC\n",
    "- but can also be used with Gurobi and Fico XPRESS\n",
    "\n",
    "Documentation: https://docs.python-mip.com/en/latest/index.html\n",
    "\n",
    "In particular, see \n",
    "- the quick start https://python-mip.readthedocs.io/en/latest/quickstart.html\n",
    "- a couple of example models: https://python-mip.readthedocs.io/en/latest/examples.html\n"
   ]
  },
  {
   "cell_type": "code",
   "execution_count": 2,
   "metadata": {
    "slideshow": {
     "slide_type": "-"
    }
   },
   "outputs": [],
   "source": [
    "import mip\n",
    "from mip import maximize"
   ]
  },
  {
   "cell_type": "markdown",
   "metadata": {
    "slideshow": {
     "slide_type": "slide"
    }
   },
   "source": [
    "## Our Model in Python MIP\n",
    "\n",
    "First, create a model object. It will use Gurobi, if installed, and CBC otherwise\n"
   ]
  },
  {
   "cell_type": "code",
   "execution_count": 3,
   "metadata": {
    "slideshow": {
     "slide_type": "-"
    }
   },
   "outputs": [],
   "source": [
    "m = mip.Model(\"Capacity_Planning_Deterministic\")"
   ]
  },
  {
   "cell_type": "markdown",
   "metadata": {
    "slideshow": {
     "slide_type": "fragment"
    }
   },
   "source": [
    "Now, add variables. In addition to lb (lower bound) important parameters are ub (upper bound) and variable type var_type"
   ]
  },
  {
   "cell_type": "code",
   "execution_count": 4,
   "metadata": {
    "slideshow": {
     "slide_type": "-"
    }
   },
   "outputs": [],
   "source": [
    "capacity =  m.add_var(name=\"capacity\" , lb= 0)\n",
    "production = m.add_var(name=\"production\", lb= 0)"
   ]
  },
  {
   "cell_type": "markdown",
   "metadata": {
    "slideshow": {
     "slide_type": "fragment"
    }
   },
   "source": [
    "Add the objective function"
   ]
  },
  {
   "cell_type": "code",
   "execution_count": 5,
   "metadata": {
    "slideshow": {
     "slide_type": "-"
    }
   },
   "outputs": [],
   "source": [
    "m.objective = maximize ( -30*capacity + 40*production )"
   ]
  },
  {
   "cell_type": "markdown",
   "metadata": {
    "slideshow": {
     "slide_type": "fragment"
    }
   },
   "source": [
    "and the constraints"
   ]
  },
  {
   "cell_type": "code",
   "execution_count": 6,
   "metadata": {
    "slideshow": {
     "slide_type": "-"
    }
   },
   "outputs": [],
   "source": [
    "demand = 100\n",
    "m += production <= demand  \n",
    "m += production <= capacity "
   ]
  },
  {
   "cell_type": "markdown",
   "metadata": {
    "slideshow": {
     "slide_type": "fragment"
    }
   },
   "source": [
    "Now, let's solve the model:"
   ]
  },
  {
   "cell_type": "code",
   "execution_count": 7,
   "metadata": {
    "slideshow": {
     "slide_type": "-"
    }
   },
   "outputs": [
    {
     "name": "stdout",
     "output_type": "stream",
     "text": [
      "Capacity decision 100.0\n",
      "Total Profit: 1000.0\n"
     ]
    }
   ],
   "source": [
    "#call the solver\n",
    "m.optimize()\n",
    "print(f'Capacity decision {capacity.x}')\n",
    "print(f'Total Profit: {m.objective_value}' )\n"
   ]
  },
  {
   "cell_type": "markdown",
   "metadata": {
    "slideshow": {
     "slide_type": "slide"
    }
   },
   "source": [
    "\n",
    "## A more Abstract Formulation Using Abstract Parameters:\n"
   ]
  },
  {
   "cell_type": "code",
   "execution_count": 8,
   "metadata": {
    "slideshow": {
     "slide_type": "-"
    }
   },
   "outputs": [
    {
     "name": "stdout",
     "output_type": "stream",
     "text": [
      "Capacity decision 100.0\n",
      "Total Profit: 1000.0\n"
     ]
    }
   ],
   "source": [
    "m = mip.Model(\"Capacity_Planning_Deterministic_v2\")\n",
    "\n",
    "#parameters\n",
    "demand = 100\n",
    "installation_cost = 30\n",
    "contribution_margin = 40\n",
    "\n",
    "#decision variables\n",
    "capacity =  m.add_var(name=\"capacity\" , lb= 0)\n",
    "production = m.add_var(name=\"production\", lb= 0)\n",
    "\n",
    "\n",
    "m.objective = maximize ( -installation_cost*capacity + contribution_margin* production)\n",
    "\n",
    "m += production <= demand \n",
    "m += production <= capacity \n",
    "\n",
    "\n",
    "m.optimize()\n",
    "\n",
    "print(f'Capacity decision {capacity.x}')\n",
    "print(f'Total Profit: {m.objective_value}' )\n"
   ]
  },
  {
   "cell_type": "markdown",
   "metadata": {
    "slideshow": {
     "slide_type": "slide"
    }
   },
   "source": [
    "## A More Complex Model: Adding another Production Techonology\n",
    "\n",
    "#### Recall our extension from the last meeting:\n",
    "\n",
    "The company from the capacity planning case study thinks of installing production capacity using an different production technology (B).\n",
    "\n",
    "Technology B has a lower installation costs (\\\\$ 20 per unit), but also a lower contribution margin per sold unit (\\\\$ 28) compared to the original technology A.\n",
    "\n",
    "Let us extend our model accordingly!"
   ]
  },
  {
   "cell_type": "markdown",
   "metadata": {
    "slideshow": {
     "slide_type": "slide"
    }
   },
   "source": [
    "## Generic Compact Formulation for Multiple Production Technologies\n",
    "\n",
    "**Sets:**\n",
    "- $I$: the set of technologies\n",
    "\n",
    "**Parameters:**\n",
    "- $c_i$: capacity installation cost per unit of $i \\in I$\n",
    "- $m_i$: contribution margin per unit sold for $i \\in I$\n",
    "- $d$: demand in units\n",
    "\n",
    "**Decision Variables:**\n",
    "\n",
    "- $x_i$: capacity installation decision technology $i \\in I$\n",
    "- $z_i$: production / sales technology $i \\in I$\n",
    "\n",
    "$$\n",
    " \\begin{align*}\n",
    "        \\max \\;          \\sum_{i \\in I}  (-c_i x_i &+ m_i z_i)  \\\\\n",
    "       \t     \t\t  z_i &\\leq x_i \\qquad \\forall i \\in I \\\\\n",
    "                         \\sum_{i \\in I} z_i  &\\leq d \\\\\n",
    "                         x_i \\geq 0, z_i &\\geq 0  \\qquad \\forall i \\in I\n",
    "\\end{align*}$$"
   ]
  },
  {
   "cell_type": "markdown",
   "metadata": {
    "slideshow": {
     "slide_type": "slide"
    }
   },
   "source": [
    "## Multiple Production Technologies: Model Implementation in Python"
   ]
  },
  {
   "cell_type": "code",
   "execution_count": 9,
   "metadata": {
    "slideshow": {
     "slide_type": "-"
    }
   },
   "outputs": [
    {
     "name": "stdout",
     "output_type": "stream",
     "text": [
      "Capacity to install from technology 0: 1000.0\n",
      "Capacity to install from technology 1: 0.0\n",
      "Total Profit: 10000.0\n"
     ]
    }
   ],
   "source": [
    "m = mip.Model(\"Capacity_Planning_Two_Technologies_Deterministic\")\n",
    "\n",
    "#sets\n",
    "technologies = range(2)\n",
    "\n",
    "#parameters\n",
    "demand = 1000\n",
    "installation_cost = [30, 20]\n",
    "contribution_margin = [40, 28] \n",
    "\n",
    "#decision variables\n",
    "capacity = [m.add_var(name=f\"capacity{i}\" , lb= 0) for i in technologies]\n",
    "production = [m.add_var(name=f\"production{i}\", lb= 0) for i in technologies]\n",
    "\n",
    "#objective\n",
    "m.objective = maximize( sum(-installation_cost[i]*capacity[i] + \n",
    "                            contribution_margin[i]*production[i] for i in technologies ) )\n",
    "for i in technologies:\n",
    "    m += production[i] <= capacity[i]  \n",
    "\n",
    "m += sum(production[i] for i in technologies) <= demand \n",
    "\n",
    "\n",
    "m.optimize()\n",
    "\n",
    "for i in technologies:\n",
    "    print(f'Capacity to install from technology {i}: {capacity[i].x}')\n",
    "\n",
    "print(f'Total Profit: {m.objective_value}' )\n",
    "\n"
   ]
  },
  {
   "cell_type": "markdown",
   "metadata": {
    "slideshow": {
     "slide_type": "slide"
    }
   },
   "source": [
    "# New Case Study: Belt Manufacturing\n"
   ]
  },
  {
   "cell_type": "markdown",
   "metadata": {
    "slideshow": {
     "slide_type": "slide"
    }
   },
   "source": [
    "## Case Study: Belt Manufacturing\n",
    "\n",
    "- A small company manufactures two types of belts: A  and B. The contribution margin  is \\\\$2 for an A-belt and \\\\$1.5 for a B-belt.\n",
    "\n",
    "- It plans the production for a week, and the company can sell its full production to its customer, a small chain of shops.\n",
    "\n",
    "- Producing a belt of type A takes twice as long as producing one of type B, and the total time available in that week would allow producing 1000 belts of type B if only B-belts were produced.\n",
    "- Both types of belts require the same amount of leather, and there is enough leather to produce 800 belts.\n",
    "\n",
    "- The total number that can be produced per type is limited by the number of available bucks: The company has 400 bucks for type A and 700 bucks for type B.\n",
    "\n",
    "\n"
   ]
  },
  {
   "cell_type": "markdown",
   "metadata": {
    "slideshow": {
     "slide_type": "slide"
    }
   },
   "source": [
    "## Belt Manufacturing: LP Formulation\n",
    "\n",
    "**Set**\n",
    "- $I = \\{A,B\\}$ belt types\n",
    "\n",
    "**Decision Variables**\n",
    "- $x_i$: number of belts to produce from type $i$\n",
    "\n",
    "$$\n",
    "\\begin{align*}\n",
    "        \\max \\;          2x_A +1.5x_B  \\\\                  \n",
    "        \\text{s.t.} \\;   2x_A + x_B &\\leq 1000 \\\\\n",
    "\t\t    \t   x_A + x_B &\\leq 800 \\\\\n",
    "\t\t    \t   0 \\leq x_A &\\leq 400 \\\\\n",
    "\t\t    \t   0 \\leq x_B &\\leq 700 \n",
    "\\end{align*}\n",
    "$$"
   ]
  },
  {
   "cell_type": "markdown",
   "metadata": {
    "slideshow": {
     "slide_type": "slide"
    }
   },
   "source": [
    "## Exercise: Implementation in Python\n",
    "\n",
    "Below, you find an **almost** complete model using Python-MIP\n",
    "\n",
    "Please, complete the model by adding\n",
    "\n",
    "- the objective function\n",
    "- the constraints"
   ]
  },
  {
   "cell_type": "code",
   "execution_count": 14,
   "metadata": {
    "slideshow": {
     "slide_type": "fragment"
    }
   },
   "outputs": [
    {
     "name": "stdout",
     "output_type": "stream",
     "text": [
      "Production of type 0 is 200.0\n",
      "Production of type 1 is 600.0\n",
      "Total Profit: 1300.0\n"
     ]
    }
   ],
   "source": [
    "#sets\n",
    "belt_types = [0,1]\n",
    "profit_contribution = [2, 1.5]\n",
    "time_consumption = [2, 1]\n",
    "time_available = 1000\n",
    "leather_available = 800\n",
    "bucks_available = [400, 700]\n",
    "m = mip.Model(\"belt_deterministic\")\n",
    "#decision variables\n",
    "production = [m.add_var(name=\"production\", lb= 0, ub= bucks_available[i]) for i in belt_types]\n",
    "\n",
    "\n",
    "\n",
    "m.optimize()\n",
    "for i in belt_types:\n",
    "    print (f'Production of type {i} is {production[i].x}')\n",
    "print(f'Total Profit: {m.objective_value}' )"
   ]
  },
  {
   "cell_type": "markdown",
   "metadata": {
    "cell_style": "center",
    "slideshow": {
     "slide_type": "slide"
    }
   },
   "source": [
    "# Part 2: Introduction to Stochastic Linear Programming\n"
   ]
  },
  {
   "cell_type": "markdown",
   "metadata": {
    "cell_style": "center",
    "slideshow": {
     "slide_type": "slide"
    }
   },
   "source": [
    "## Part 2: Introduction to Stochastic Linear Programming\n",
    "\n",
    "**In this part, we will learn**\n",
    "- how to use sample approximations of uncertain parameters in linear\n",
    "  programming models\n",
    "- about the structure of two-stage stochastic programming models\n",
    "- how to implement and solve these models in Python\n"
   ]
  },
  {
   "cell_type": "markdown",
   "metadata": {
    "slideshow": {
     "slide_type": "slide"
    }
   },
   "source": [
    "## Capacity Planning Case Study: Introducing Uncertainty\n",
    "\n",
    "Let us now consider the setting from the previous weeks:\n",
    "\n",
    "- we assume that demand is uncertain and follows a normal distribution\n",
    "- as before, we create a sample approximation for the demand"
   ]
  },
  {
   "cell_type": "code",
   "execution_count": 16,
   "metadata": {
    "slideshow": {
     "slide_type": "-"
    }
   },
   "outputs": [],
   "source": [
    "demand_dist = stats.norm(100,25)\n",
    "\n",
    "n_samples = 10000\n",
    "\n",
    "# we create a sample vector of demands (demand_dist was defined above), only using positive outcomes\n",
    "demand_sample = np.maximum(demand_dist.rvs(n_samples),0)"
   ]
  },
  {
   "cell_type": "markdown",
   "metadata": {
    "slideshow": {
     "slide_type": "fragment"
    }
   },
   "source": [
    "- recall that demand uncertainty introduces a two-stage decision problem under uncertainty:"
   ]
  },
  {
   "cell_type": "markdown",
   "metadata": {
    "slideshow": {
     "slide_type": "-"
    }
   },
   "source": [
    "We can interpret our case study as a two-stage problem:\n",
    "\n",
    "\n",
    "<img width='1000' src='img/two_stage_example.png'>\n",
    "\n",
    "Before addressing this using linear programming, let us see what we did before:"
   ]
  },
  {
   "cell_type": "markdown",
   "metadata": {
    "slideshow": {
     "slide_type": "slide"
    }
   },
   "source": [
    "## Taking the Best Decisions: Formalization\n",
    "\n",
    "We are looking for\n",
    "- the decision (or decision vector, or more general, solution) $x$ from the set of possible decisions (solutions) $X$ \n",
    "-  yielding the *best* expected outcome $E(f(x,D))$ given the uncertain/random variable(s) $D$\n",
    "\n",
    "We can write this as an *optimization* problem under uncertainty:\n",
    "\n",
    "$$\\max_{x \\in X} E(f(x,D))$$\n",
    "\n",
    "Using Monte Carlo, we approximate $E(f(x,D))$ by the mean of the\n",
    " output sample vector $\\mathbf{f}(x,\\mathbf{d})$, that is by\n",
    " $\\frac{1}{|S|} \\sum\\limits_{s\\in S} f(x,d_s)$ \n",
    "\n",
    "This results in the following optimization problem:\n",
    "\n",
    "$$\\max_{x\\in X} \\frac{1}{|S|} \\sum\\limits_{s\\in S} f(x,d_s)$$\n",
    "\n",
    "$\\rightarrow$ So far, we used enumeration and unconstrained optimization to search for the best solution\n",
    "\n",
    "$\\rightarrow$ How can we use the sample approximation in the  case of linear programming? "
   ]
  },
  {
   "cell_type": "markdown",
   "metadata": {
    "slideshow": {
     "slide_type": "slide"
    }
   },
   "source": [
    "## How can we Use Sample Approximation for Linear Programming?\n",
    "\n",
    "**Key Ideas (two-stage setting)**\n",
    "- consider first-stage and second-stage decision variables and constraints\n",
    "- second-stage decision variables have a scenario index\n",
    "- second-stage constraints are defined **for all** scenarios / samples\n",
    "\n",
    "\n",
    "\n",
    "<img width='1000' src='img/two_stage_tree.png'>"
   ]
  },
  {
   "cell_type": "markdown",
   "metadata": {
    "slideshow": {
     "slide_type": "slide"
    }
   },
   "source": [
    "## Stochastic Linear Program for our Example\n",
    "\n",
    "\n",
    "\n",
    "Numerical example for $S={80, 100, 120}$ \n",
    "\n",
    "$$\n",
    " \\begin{align*}\n",
    "        \\max \\;              &\\frac{1}{3}\\sum_{s=1}^3( -30x + 40 z_s) \\\\\n",
    "        \\text{s.t.} \\qquad   z_1 &\\leq x  \\\\                  \n",
    "                             z_1 &\\leq 80  \\\\\n",
    " z_2 &\\leq x  \\\\                  \n",
    "                             z_2 &\\leq 100 \\\\\n",
    "   z_3 &\\leq x  \\\\                  \n",
    "                             z_3 &\\leq 120  \\\\\n",
    "                             x &\\geq 0 \\\\\n",
    "z_1\\geq 0, z_2 &\\geq 0, z_3 \\geq 0\n",
    "\\end{align*}\n",
    "$$\n",
    "\n"
   ]
  },
  {
   "cell_type": "markdown",
   "metadata": {
    "slideshow": {
     "slide_type": "slide"
    }
   },
   "source": [
    "## Stochastic Linear Program for our Example: Compact Formulation\n",
    "\n",
    "\n",
    "**Sets:**\n",
    "- $S$  scenario set\n",
    "\n",
    "**Parameters:**\n",
    "- $d_s$: demand in units in scenario  $s$\n",
    "\n",
    "**Decision Variables:**\n",
    "- $x$: capacity installation decision (*first stage* / *here and now* decision) \n",
    "- $z_s$: production decision for scenario $s$ (*second stage* / *recourse* decision)\n",
    "\n",
    "\n",
    "$$\n",
    " \\begin{align*}\n",
    "        \\max \\;         &\\frac{1}{|S|} \\sum_{s \\in S} (-30x +40 z_s) \\\\\n",
    "        \\text{s.t.} \\qquad   z_s &\\leq x \\qquad &\\forall s \\in S \\\\                  \n",
    "                         z_s &\\leq d_s \\qquad &\\forall s \\in S \\\\\n",
    "                         x &\\geq 0 \\\\\n",
    " z_s &\\geq 0 \\qquad &\\forall s \\in S\n",
    "\\end{align*}\n",
    "$$"
   ]
  },
  {
   "cell_type": "markdown",
   "metadata": {
    "slideshow": {
     "slide_type": "slide"
    }
   },
   "source": [
    "## Stochastic Linear Program: Implementation in Python\n"
   ]
  },
  {
   "cell_type": "code",
   "execution_count": 18,
   "metadata": {
    "slideshow": {
     "slide_type": "-"
    }
   },
   "outputs": [
    {
     "name": "stdout",
     "output_type": "stream",
     "text": [
      "Capacity decision: 83.25\n",
      "Expected Total Profit: 683.89\n",
      "683.8857823402362\n"
     ]
    }
   ],
   "source": [
    "# Create a new model\n",
    "m = mip.Model(\"Capacity_Planning_Stochastic\")\n",
    "\n",
    "#in stochastic programming, we call the samples scenarios\n",
    "n_scenarios = n_samples\n",
    "scenarios = np.arange(n_scenarios) # set of scenarios\n",
    "\n",
    "#parameters\n",
    "installation_cost = 30\n",
    "contribution_margin = 40\n",
    "\n",
    "#decision variables\n",
    "capacity =  m.add_var(name=\"capacity\", lb=0)\n",
    "\n",
    "production = [m.add_var(name=f\"production{s}\", lb= 0) for s in scenarios]\n",
    "\n",
    "m.objective =  maximize(1 / n_scenarios * sum(-installation_cost*capacity + contribution_margin * production[s] for s in scenarios))\n",
    "\n",
    "for s in scenarios:    \n",
    "    m += production[s] <= demand_sample[s]\n",
    "    m += production[s] <= capacity \n",
    "\n",
    "m.optimize()\n",
    "\n",
    "print(f'Capacity decision: {capacity.x:.02f}')\n",
    "print(f'Expected Total Profit: {m.objective_value:.02f}' )\n",
    "\n",
    "@vectorize\n",
    "def total_profit(capacity, demand):\n",
    "    return -30*capacity + 40*min(capacity, demand)\n",
    "\n",
    "print( np.mean(total_profit (capacity.x, demand_sample ) ))"
   ]
  },
  {
   "cell_type": "markdown",
   "metadata": {
    "slideshow": {
     "slide_type": "slide"
    }
   },
   "source": [
    "# Adapting to the Conventions of Stochastic Programming"
   ]
  },
  {
   "cell_type": "markdown",
   "metadata": {
    "slideshow": {
     "slide_type": "slide"
    }
   },
   "source": [
    "## Conventions in Stochastic Programming\n",
    "\n",
    "\n",
    "- $S$ can be viewed as the index set for a sample vector $[d_s]_{s \\in S}$\n",
    "- in Stochastic (Linear) Programming, $S$ is usually denoted as the set of **scenarios**\n",
    "- thus, $s \\in S$ is called a **scenario index** or simply a *scenario*\n",
    "- a **scenario** (index) $s$\n",
    "  - may be used for multiple parameters and decision variables and\n",
    "  - represents a consistent possible state of the world\n",
    "- in particular, in presence of multiple uncertain parameters, e.g.\n",
    "  $D^1$ and $D^2$, the approximation of all scenarios $[d^1_s  d^2_s]_{s \\in S}$ form an approximation of the joint probability distribution of $D^1$ and $D^2$\n",
    "- also, in stochastic programming, that is, it is **not** always assumed\n",
    "  that each scenario is equally likely, that is, the probability $p_s$\n",
    "  of a scenario may be different from $\\frac{1}{|S|}$\n",
    "- finally, in two-stage-stochastic programming, in the objective function, the first-stage part is typically not moved into the term approximating the expectation\n",
    "  "
   ]
  },
  {
   "cell_type": "markdown",
   "metadata": {
    "slideshow": {
     "slide_type": "slide"
    }
   },
   "source": [
    "## Stochastic Programming-Style Formulation\n",
    "\n",
    "**Sets:**\n",
    "- $S$  scenario set\n",
    "\n",
    "**Parameters:**\n",
    "- $d_s$: demand in units in scenario  $s$\n",
    "- $p_s$: probability of scenario $s$\n",
    "\n",
    "**Decision Variables:**\n",
    "- $x$: capacity installation decision (*first stage* / *here and now* decision) \n",
    "- $z_s$: production decision for scenario $s$ (*second stage* / *recourse* decision)\n",
    "\n",
    "\n",
    "$$\n",
    " \\begin{align*}\n",
    "        \\max \\;        -30x +  & \\sum_{s \\in S} p_s 40 z_s \\\\\n",
    "        \\text{s.t.} \\qquad   z_s &\\leq x \\qquad &\\forall s \\in S \\\\                  \n",
    "                         z_s &\\leq d_s \\qquad &\\forall s \\in S \\\\\n",
    "                         x &\\geq 0 \\\\\n",
    " z_s &\\geq 0 \\qquad &\\forall s \\in S\n",
    "\\end{align*}\n",
    "$$\n",
    "\n",
    "**Observe that in the objective function, we \"removed\" the first-stage term from the sum**"
   ]
  },
  {
   "cell_type": "markdown",
   "metadata": {
    "slideshow": {
     "slide_type": "slide"
    }
   },
   "source": [
    "## Stochastic Programming-Style Formulation: Implementation in Python\n"
   ]
  },
  {
   "cell_type": "code",
   "execution_count": 19,
   "metadata": {
    "slideshow": {
     "slide_type": "-"
    }
   },
   "outputs": [
    {
     "name": "stdout",
     "output_type": "stream",
     "text": [
      "Capacity decision: 83.25\n",
      "Expected Total Profit: 683.89\n"
     ]
    }
   ],
   "source": [
    "\n",
    "# Create a new model\n",
    "m = mip.Model(\"Capacity_Planning_Stochastic\")\n",
    "\n",
    "\n",
    "#in stochastic programming, we call the samples scenarios\n",
    "#sets\n",
    "n_scenarios = n_samples\n",
    "scenarios = np.arange(n_scenarios)\n",
    "\n",
    "#probability of each scenario - in our case, each scenario has prob. 1/|S|\n",
    "prob = np.full((n_scenarios), 1/n_scenarios)\n",
    "\n",
    "#parameters\n",
    "installation_cost = 30\n",
    "contribution_margin = 40\n",
    "\n",
    "#decision variables\n",
    "capacity =  m.add_var(name=\"capacity\", lb=0)\n",
    "\n",
    "production = [m.add_var(name=f\"production{s}\", lb= 0) for s in scenarios]\n",
    "\n",
    "m.objective =  maximize( -installation_cost*capacity + sum(prob[s] * contribution_margin * production[s] for s in scenarios))\n",
    "\n",
    "for s in scenarios:    \n",
    "    m += production[s] <= demand_sample[s]\n",
    "    m += production[s] <= capacity \n",
    "\n",
    "m.optimize()\n",
    "\n",
    "print(f'Capacity decision: {capacity.x:.02f}')\n",
    "\n",
    "print(f'Expected Total Profit: {m.objective_value:.02f}' )"
   ]
  },
  {
   "cell_type": "markdown",
   "metadata": {
    "slideshow": {
     "slide_type": "slide"
    }
   },
   "source": [
    "## Exercise: Extension by including an additional production technology\n",
    "\n",
    "- Formulate and implement a stochastic LP model for the capacity planning problem with an additionalö technologies (see deterministic model above)"
   ]
  },
  {
   "cell_type": "markdown",
   "metadata": {
    "slideshow": {
     "slide_type": "slide"
    }
   },
   "source": [
    "# Exercise: Belt Manufacturing under Uncertainty"
   ]
  },
  {
   "cell_type": "markdown",
   "metadata": {
    "slideshow": {
     "slide_type": "-"
    }
   },
   "source": [
    "## Belt Manufacturing: Uncertain Machine Availability\n",
    "- let us now assume that due to random machine failures, the available\n",
    "  time is subject to uncertainty:\n",
    "- we assume that available time in the same units as above is normally distributed with $\\mu = 1000$ and $\\sigma = 150$. \n",
    "- however, due to contractual obligation, the company has to commit to\n",
    "  a production plan *before* the machine time is known\n",
    "- if the realized available time does not suffice for completing the planned amount of belts, the company can work extra hours. Each unit of extra time costs the company \\\\$5.\n",
    "\n",
    "**Tasks:**\n",
    "- in the described setting, what are the first-stage and what are the second-stage decisions?\n",
    "- create a two-stage stochastic programming model to model the belt manufacturing problem with uncertain machine availability\n",
    "- the model should maximize the expected total profit composed of the margin of the sales and the (expected) costs for the extra hours\n",
    "    - **hint:** start from the deterministic belt manufacturing model and extend it to account for uncertainty\n",
    "- implement the model using Python-MIP\n"
   ]
  },
  {
   "cell_type": "markdown",
   "metadata": {
    "slideshow": {
     "slide_type": "slide"
    }
   },
   "source": [
    "# Understanding Two-Stage Stochastic Programs: Model Structure and Link to Monte-Carlo Simulation"
   ]
  },
  {
   "cell_type": "markdown",
   "metadata": {
    "slideshow": {
     "slide_type": "slide"
    }
   },
   "source": [
    "## Two-Stage Stochastic Programming: Model Structure Regarding Constraints\n",
    "\n",
    "It is instructive to distinguish three types of constraints in a two-stage stochastic program:\n",
    "\n",
    "- **First-stage constraints** only involve first-stage decision variables\n",
    "- **Second-stage constraints** only involve second-stage decision variables\n",
    "- **Coupling constraints** involving both types of variables\n",
    "\n",
    "$$\n",
    "\\begin{align*}\n",
    "        \\max \\;          - \\sum_{i \\in I} c_i x_i  +  &\\sum_{s \\in S} p_s \\sum_{i \\in I} ( m_i z_{is}  ) \\\\\n",
    "        \\text{s.t.} \\;   z_{is} &\\leq x_i \\qquad &\\forall i \\in I, s \\in S \\qquad \\blacktriangleright \\textsf{coupling constraints}\\\\\n",
    "                         \\sum_{i \\in I} z_{is}  &\\leq d_s \\qquad &\\forall s \\in S\\qquad \\blacktriangleright \\textsf{2nd stage constraints}\\\\\n",
    "                         x_i &\\geq 0  \\qquad &\\forall i \\in I \\qquad \\blacktriangleright \\textsf{1st stage constraints}\\\\ \n",
    "\t\t\t  z_{is} &\\geq 0 \\qquad &\\forall i \\in I, s \\in S \\qquad \\blacktriangleright \\textsf{2nd stage constraints}            \n",
    "\\end{align*}\n",
    "$$\n"
   ]
  },
  {
   "cell_type": "markdown",
   "metadata": {
    "slideshow": {
     "slide_type": "slide"
    }
   },
   "source": [
    "## Visualizing the Model Structure of Two-Stage Stochastic Programs\n",
    "\n",
    "Let us once again consider the model structure of a two-stage stochastic program\n",
    "\n",
    "<img width='1000' src='img/two_stage_tree.png'>\n",
    "\n",
    "This structure leads to two important observations:\n",
    "- the second-stage part can be seen as a sample approximation / Monte-Carlo Simulation\n",
    "- model parts can be seen as belonging to the first stage, the second stage or they can link both stages\n"
   ]
  },
  {
   "cell_type": "markdown",
   "metadata": {
    "slideshow": {
     "slide_type": "slide"
    }
   },
   "source": [
    "## Important Observation: The Second Stage in the Stochastic LP as Monte-Carlo Simulation\n",
    "\n",
    "- only first-stage decisions really have to be taken here and now\n",
    "- the second-stage decisions only will be taken after the uncertain parameters\n",
    "  become known\n",
    "- thus, in the process of taking the first-stage decision, the second-stage\n",
    "  variables form sort of a *simulation* for evaluating the first stage-decisions\n",
    "  - it is very important to recall that these decisions are never actually taken, they are only used for \"evaluation\" purposes\n",
    "\n",
    "\n",
    "Let's verify this by using our \"classical\" Monte Carlo approach:\n"
   ]
  },
  {
   "cell_type": "code",
   "execution_count": 20,
   "metadata": {
    "slideshow": {
     "slide_type": "-"
    }
   },
   "outputs": [
    {
     "name": "stdout",
     "output_type": "stream",
     "text": [
      "Expected Total Profit from Stochastic LP: 683.89\n",
      "Expected Total Profit for the LP decision as computed by Monte-Carlo Simulation: 683.89 \n"
     ]
    }
   ],
   "source": [
    "@vectorize\n",
    "def total_profit(capacity,demand):\n",
    "    return -30*capacity + 40* min(capacity, demand)\n",
    "\n",
    "expected_value_monte_carlo = np.mean(total_profit(capacity.x, demand_sample))\n",
    "\n",
    "print(f'Expected Total Profit from Stochastic LP: {m.objective_value:.02f}' )\n",
    "print(f'Expected Total Profit for the LP decision as computed by Monte-Carlo Simulation: {expected_value_monte_carlo:.02f} ')"
   ]
  },
  {
   "cell_type": "markdown",
   "metadata": {
    "slideshow": {
     "slide_type": "fragment"
    }
   },
   "source": [
    "Observe: If we fix the first-stage decision to a given value, we can even use the two-stage-stochastic program for \"simulating\" the second stage."
   ]
  },
  {
   "cell_type": "markdown",
   "metadata": {
    "slideshow": {
     "slide_type": "slide"
    }
   },
   "source": [
    "## Out-of-Sample Evaluation\n",
    "\n",
    "As described above, we use samples / scenarios within stochastic programming models\n",
    "- if we evaluate our first-stage models with these samples / scenarios, we call this an **in-sample** evaluation\n",
    "- the problem with this is that for complex models, it may be possible ot use only small sample sizes\n",
    "- this results in a risk of overfitting the first-stage decision to the small set of samples\n",
    "\n",
    "**Out-of-sample Evaluation**\n",
    "- in order to check this, it is useful to perform an **out-of-sample** evaluation using a  large sample in which the first-stage is fixed\n",
    "- observe: if the first-stage decisions are fixed, the remaining second-stage model can be solved separately for each scenario / sample!"
   ]
  },
  {
   "cell_type": "code",
   "execution_count": 29,
   "metadata": {
    "slideshow": {
     "slide_type": "-"
    }
   },
   "outputs": [
    {
     "name": "stdout",
     "output_type": "stream",
     "text": [
      "Expected Total Profit in the out-of-sample evaluation: 682.31\n"
     ]
    }
   ],
   "source": [
    "\n",
    "number_of_samples_for_evaluation = 1000000\n",
    "\n",
    "demand_sample_new = np.maximum(demand_dist.rvs(number_of_samples_for_evaluation),0)\n",
    "expected_value_out_of_sample_evaluation = np.mean(total_profit(capacity.x, demand_sample_new ))\n",
    "\n",
    "print(f'Expected Total Profit in the out-of-sample evaluation: {expected_value_out_of_sample_evaluation:.02f}')"
   ]
  },
  {
   "cell_type": "markdown",
   "metadata": {
    "slideshow": {
     "slide_type": "slide"
    }
   },
   "source": [
    "## More Examples for Two-Stage Problems \n",
    "\n",
    "**Two Stage Stochastic Programming Applications**\n",
    "\n",
    "\n",
    "\n",
    "| *Problem*                | *1st Stage* | *Uncertainty*   | *2nd Stage*          |\n",
    "|--------------------------|-------------|-----------------|----------------------|\n",
    "| Agricultural Planning    | Planting    | Yield, Price    | Selling              |\n",
    "| Surgery Scheduling       | Scheduling  | Emergencies     | Overtime, Shifting   |\n",
    "| Project Scheduling       | Scheduling  | Task Duration   | Outsourcing, Penalty |\n",
    "| Airline Crew Scheduling  | Scheduling  | Sickness, Delay | Reschedule, Standby  |\n",
    "| Aluminum Recycling       | Blending    | Batch Quality   | Adding pure Aluminum |\n",
    "\n",
    "- in all examples, the 1st-stage decisions are different from the 2nd-stage \n",
    "  - this is a key difference to multistage problems such as operating a\n",
    "    power plant under uncertainty where the same kind of decisions are made in each stage\n",
    "- the second-stage problem may involve multiple periods / stages\n"
   ]
  },
  {
   "cell_type": "markdown",
   "metadata": {
    "slideshow": {
     "slide_type": "-"
    }
   },
   "source": [
    "## Case Study: A Farmer's Problem (Deterministic)\n",
    "\n",
    "- a farmer has 450 acres of farmland and now has to decide how many\n",
    "  acres to plant with the three crops wheat, corn and beets\n",
    "- he needs some amount of  each crop for feeding his cattle\n",
    "- if he harvests less than needed, he can buy crops on the market\n",
    "- surplus can be sold on the market\n",
    "\n",
    "\n",
    "| parameter          | unit       | wheat | corn | beets |\n",
    "|:-------------------|:-----------|-------|------|-------|\n",
    "| crop yield         | t per acre |   2.5 |    3 |    12 |\n",
    "| planting costs     | \\$ per acre |   150 |  180 |   210 |\n",
    "| needed for feeding | t          |   200 |  250 |   720 |\n",
    "| buying price       | \\$ per t    |   290 |  260 |    70 |\n",
    "| selling price      | \\$ per t    |   200 |  180 |    45 |\n",
    "\n",
    "**How much area should the farmer devote to each crop to maximize his profit?**"
   ]
  },
  {
   "cell_type": "markdown",
   "metadata": {
    "slideshow": {
     "slide_type": "slide"
    }
   },
   "source": [
    "## Extension: Uncertain Crop Yields $h_i$\n",
    "\n",
    "\n",
    "**Crop yields are subject to uncertainty**\n",
    "- we now assume that crop yields are uncertain\n",
    "  - we assume that we have a **joint distribution** for yields accounting\n",
    "    for causal structure\n",
    "- planting decisions have to be taken before knowing crop yields\n",
    "- buying and selling can happen after harvesting the crops\n",
    "- we assume that buying and selling prices are **not** affected by uncertainty\n",
    "\n",
    "<img width='90%' src='img/farmer_information_structure.png'>"
   ]
  },
  {
   "cell_type": "markdown",
   "metadata": {
    "slideshow": {
     "slide_type": "slide"
    }
   },
   "source": [
    "## Conclusions\n",
    "\n",
    "**In this meeting, we**\n",
    "\n",
    "- started transferring the ideas discussed in the last weeks to the world of (mixed integer) linear programming\n",
    "- had an introduction to linear programming under uncertainty (stochastic programming)\n",
    "- saw how we can implement these ideas in Python \n",
    "\n",
    "**In the next meeting, we will**\n",
    "- discuss how to model risk aversion in stochastic programming\n",
    "- see how to handle settings without recourse in which we aim at ensuring feasibility with a given probability"
   ]
  }
 ],
 "metadata": {
  "celltoolbar": "Slideshow",
  "kernelspec": {
   "display_name": "Python [conda env:shift_scheduling]",
   "language": "python",
   "name": "conda-env-shift_scheduling-py"
  },
  "language_info": {
   "codemirror_mode": {
    "name": "ipython",
    "version": 3
   },
   "file_extension": ".py",
   "mimetype": "text/x-python",
   "name": "python",
   "nbconvert_exporter": "python",
   "pygments_lexer": "ipython3",
   "version": "3.9.12"
  }
 },
 "nbformat": 4,
 "nbformat_minor": 4
}
